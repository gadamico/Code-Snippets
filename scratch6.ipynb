{
 "cells": [
  {
   "cell_type": "markdown",
   "metadata": {},
   "source": [
    "## Stack of LogRegs to Approximate NN"
   ]
  },
  {
   "cell_type": "markdown",
   "metadata": {},
   "source": [
    "Let's see if we can use multiple logistic regression models to approximate a neural network."
   ]
  },
  {
   "cell_type": "code",
   "execution_count": 143,
   "metadata": {},
   "outputs": [],
   "source": [
    "from sklearn.linear_model import LogisticRegression\n",
    "from sklearn.datasets import make_classification"
   ]
  },
  {
   "cell_type": "markdown",
   "metadata": {},
   "source": [
    "First let's make ourselves a classification problem."
   ]
  },
  {
   "cell_type": "code",
   "execution_count": 156,
   "metadata": {},
   "outputs": [],
   "source": [
    "X, y = make_classification(n_features=10,\n",
    "                           n_samples=1000,\n",
    "                           n_informative=8,\n",
    "                           n_redundant=0,\n",
    "                           n_clusters_per_class=4,\n",
    "                           flip_y=0.25,\n",
    "                           random_state=42)"
   ]
  },
  {
   "cell_type": "markdown",
   "metadata": {},
   "source": [
    "Let's see how a vanilla logistic regression does on our data."
   ]
  },
  {
   "cell_type": "code",
   "execution_count": 157,
   "metadata": {},
   "outputs": [
    {
     "data": {
      "text/plain": [
       "0.661"
      ]
     },
     "execution_count": 157,
     "metadata": {},
     "output_type": "execute_result"
    }
   ],
   "source": [
    "LogisticRegression().fit(X, y).score(X, y)"
   ]
  },
  {
   "cell_type": "markdown",
   "metadata": {},
   "source": [
    "### Input Layer\n",
    "\n",
    "OK. Let's get building!\n",
    "\n",
    "We'll start by building our first layer of neurons. Each neuron will be a logistic regression model, one for each of our ten features."
   ]
  },
  {
   "cell_type": "code",
   "execution_count": 160,
   "metadata": {},
   "outputs": [],
   "source": [
    "n_samples = X.shape[0]\n",
    "n_features = X.shape[1]\n",
    "\n",
    "input_layer = []\n",
    "for j in range(n_features):\n",
    "    logreg = LogisticRegression()\n",
    "    \n",
    "    # Fit each model to a single feature\n",
    "    pred = X[:, j].reshape(-1, 1)\n",
    "    logreg.fit(pred, y)\n",
    "    input_layer.append(logreg)"
   ]
  },
  {
   "cell_type": "markdown",
   "metadata": {},
   "source": [
    "Now let's generate all of these models' predictions, so that we can send them on to the next layer."
   ]
  },
  {
   "cell_type": "code",
   "execution_count": 161,
   "metadata": {},
   "outputs": [],
   "source": [
    "preds = np.zeros((n_samples, n_features))\n",
    "\n",
    "for j in range(n_features):\n",
    "    \n",
    "    # Grabbing the predicted probability for class=1\n",
    "    pred = input_layer[j].predict_proba(X[:, j].reshape(-1, 1))\n",
    "    preds[:, j] = [pct[1] for pct in pred]"
   ]
  },
  {
   "cell_type": "code",
   "execution_count": 162,
   "metadata": {},
   "outputs": [
    {
     "data": {
      "text/plain": [
       "0.663"
      ]
     },
     "execution_count": 162,
     "metadata": {},
     "output_type": "execute_result"
    }
   ],
   "source": [
    "LogisticRegression().fit(preds, y).score(preds, y)"
   ]
  },
  {
   "cell_type": "markdown",
   "metadata": {},
   "source": [
    "### Hidden Layer"
   ]
  },
  {
   "cell_type": "markdown",
   "metadata": {},
   "source": [
    "We have a design choice to make for the hidden layer. Connecting this layer densely with the last will mean that each of our input layer's models' predictions will be inputs to each of the models in the hidden layer. Let's choose five nodes for this layer.\n",
    "\n",
    "We're going to assign a random set of weights to each connection: Each model in the hidden layer will receive a differently weighted set of predictions from the ten models in the input layer. This will ensure that the models in the hidden layer won't be identical."
   ]
  },
  {
   "cell_type": "code",
   "execution_count": 163,
   "metadata": {},
   "outputs": [],
   "source": [
    "n_input_models = n_features\n",
    "n_hidden_nodes = 5\n",
    "\n",
    "hidden_layer = []\n",
    "for j in range(n_hidden_nodes):\n",
    "    logreg = LogisticRegression()\n",
    "    rand_weights = np.random.rand(n_input_models)\n",
    "    inputs = np.array([rand_weights[j] * preds[:, j] for j in range(n_input_models)]).T\n",
    "    logreg.fit(inputs, y)\n",
    "    hidden_layer.append(logreg)"
   ]
  },
  {
   "cell_type": "markdown",
   "metadata": {},
   "source": [
    "Now we need to generate the predictions from the models in the hidden layer."
   ]
  },
  {
   "cell_type": "code",
   "execution_count": 176,
   "metadata": {},
   "outputs": [],
   "source": [
    "h_preds = np.zeros((n_samples, n_features))\n",
    "\n",
    "for j in range(n_hidden_nodes):\n",
    "    h_pred = hidden_layer[j].predict_proba(preds)\n",
    "    h_preds[:, j] = [pct[1] for pct in h_pred]"
   ]
  },
  {
   "cell_type": "markdown",
   "metadata": {},
   "source": [
    "Finally, we'll fit a final model to the predictions from the nodes in the hidden layer."
   ]
  },
  {
   "cell_type": "code",
   "execution_count": 181,
   "metadata": {},
   "outputs": [
    {
     "data": {
      "text/plain": [
       "LogisticRegression()"
      ]
     },
     "execution_count": 181,
     "metadata": {},
     "output_type": "execute_result"
    }
   ],
   "source": [
    "output = LogisticRegression()\n",
    "\n",
    "output.fit(h_preds, y)"
   ]
  },
  {
   "cell_type": "code",
   "execution_count": 182,
   "metadata": {},
   "outputs": [
    {
     "data": {
      "text/plain": [
       "0.65"
      ]
     },
     "execution_count": 182,
     "metadata": {},
     "output_type": "execute_result"
    }
   ],
   "source": [
    "output.score(h_preds, y)"
   ]
  },
  {
   "cell_type": "markdown",
   "metadata": {},
   "source": [
    "## NN by Hand"
   ]
  },
  {
   "cell_type": "markdown",
   "metadata": {},
   "source": [
    "Let's try giving ourselves more control over the weights. We'll make a much simpler network."
   ]
  },
  {
   "cell_type": "code",
   "execution_count": 284,
   "metadata": {},
   "outputs": [],
   "source": [
    "from sklearn.datasets import make_regression"
   ]
  },
  {
   "cell_type": "code",
   "execution_count": 285,
   "metadata": {},
   "outputs": [],
   "source": [
    "X, y = make_regression(n_features=2,\n",
    "                       n_informative=1,\n",
    "                       noise=100,\n",
    "                       random_state=42)"
   ]
  },
  {
   "cell_type": "code",
   "execution_count": 286,
   "metadata": {},
   "outputs": [],
   "source": [
    "from sklearn.linear_model import LinearRegression"
   ]
  },
  {
   "cell_type": "code",
   "execution_count": 287,
   "metadata": {
    "scrolled": true
   },
   "outputs": [
    {
     "data": {
      "text/plain": [
       "0.4144461358278726"
      ]
     },
     "execution_count": 287,
     "metadata": {},
     "output_type": "execute_result"
    }
   ],
   "source": [
    "LinearRegression().fit(X, y).score(X, y)"
   ]
  },
  {
   "cell_type": "markdown",
   "metadata": {},
   "source": [
    "Let's imagine that we have just a five-neuron network: two input neurons, two hidden-layer neurons, and a single output neuron."
   ]
  },
  {
   "cell_type": "code",
   "execution_count": 288,
   "metadata": {},
   "outputs": [],
   "source": [
    "n_samples = X.shape[0]\n",
    "n_features = X.shape[1]\n",
    "\n",
    "# Initial inputs\n",
    "input1 = X[:, 0].reshape(-1, 1)\n",
    "input2 = X[:, 1].reshape(-1, 1)"
   ]
  },
  {
   "cell_type": "code",
   "execution_count": 289,
   "metadata": {},
   "outputs": [],
   "source": [
    "# Four weights to optimize for between input\n",
    "# and hidden layers\n",
    "\n",
    "# For simplicity let's assume biases of 0\n",
    "# throughout\n",
    "\n",
    "in_hid_weights1 = np.random.rand(2)\n",
    "in_hid_weights2 = np.random.rand(2)"
   ]
  },
  {
   "cell_type": "code",
   "execution_count": 290,
   "metadata": {},
   "outputs": [],
   "source": [
    "in1_to_hid = (np.sum(np.product([in_hid_weights1, X], axis=0), axis=1)).reshape(-1, 1)\n",
    "in2_to_hid = (np.sum(np.product([in_hid_weights2, X], axis=0), axis=1)).reshape(-1, 1)"
   ]
  },
  {
   "cell_type": "markdown",
   "metadata": {},
   "source": [
    "For simplicity let's assume a linear activation function in the hidden nodes."
   ]
  },
  {
   "cell_type": "markdown",
   "metadata": {},
   "source": [
    "On to the output neuron!"
   ]
  },
  {
   "cell_type": "code",
   "execution_count": 291,
   "metadata": {},
   "outputs": [],
   "source": [
    "hid_out_weights = np.random.rand(2)"
   ]
  },
  {
   "cell_type": "code",
   "execution_count": 292,
   "metadata": {},
   "outputs": [],
   "source": [
    "joint_to_out = np.hstack((in1_to_hid, in2_to_hid))"
   ]
  },
  {
   "cell_type": "code",
   "execution_count": 293,
   "metadata": {},
   "outputs": [],
   "source": [
    "output = (np.sum(np.product([hid_out_weights, joint_to_out], axis=0), axis=1)).reshape(-1, 1)"
   ]
  },
  {
   "cell_type": "markdown",
   "metadata": {},
   "source": [
    "Again we'll assume a linear activation."
   ]
  },
  {
   "cell_type": "markdown",
   "metadata": {},
   "source": [
    "Now we can compute a measure of error:"
   ]
  },
  {
   "cell_type": "code",
   "execution_count": 294,
   "metadata": {},
   "outputs": [],
   "source": [
    "from sklearn.metrics import mean_squared_error as mse"
   ]
  },
  {
   "cell_type": "code",
   "execution_count": 295,
   "metadata": {},
   "outputs": [
    {
     "data": {
      "text/plain": [
       "132.2387968724149"
      ]
     },
     "execution_count": 295,
     "metadata": {},
     "output_type": "execute_result"
    }
   ],
   "source": [
    "output = output.flatten()\n",
    "\n",
    "np.sqrt(mse(y, output))"
   ]
  },
  {
   "cell_type": "markdown",
   "metadata": {},
   "source": [
    "### Backpropagation"
   ]
  },
  {
   "cell_type": "markdown",
   "metadata": {},
   "source": [
    "Now then: How do we make corrections to our weights to improve our model's performance? Our network looks like this:"
   ]
  },
  {
   "cell_type": "markdown",
   "metadata": {},
   "source": [
    "![nn](SimpleNN.png)"
   ]
  },
  {
   "cell_type": "markdown",
   "metadata": {},
   "source": [
    "Clearly our output is a function of these six weights. But what function, exactly?"
   ]
  },
  {
   "cell_type": "markdown",
   "metadata": {},
   "source": [
    "- In the top hidden node we construct: <br/> $H_1 = w_1X_1 + w_3X_2$ <br/> and in the bottom node we construct: <br/> $H_2 = w_2X_1 + w_4X_2$.\n",
    "<br/> <br/>\n",
    "- In the output node we construct: <br/> $\\hat{y} = w_5H_1 + w_6H_2$ <br/> i.e. <br/> $\\hat{y} = w_5(w_1X_1 + w_3X_2) + w_6(w_2X_1 + w_4X_2)$ <br/> or <br/> $\\hat{y} = X_1(w_1w_5 + w_2w_6) + X_2(w_3w_5 + w_4w_6)$."
   ]
  },
  {
   "cell_type": "markdown",
   "metadata": {},
   "source": [
    "#### Loss Function"
   ]
  },
  {
   "cell_type": "markdown",
   "metadata": {},
   "source": [
    "Our loss function (let's assume) is just $\\mathcal{L} = \\Sigma\\left(y - \\hat{y}\\right)^2$. What are the partial derivatives of this function?\n",
    "\n",
    "We have $\\mathcal{L} = \\Sigma\\left(y - [X_1(w_1w_5 + w_2w_6) + X_2(w_3w_5 + w_4w_6)]\\right)^2$.\n",
    "\n",
    "Therefore:\n",
    "\n",
    "- $\\frac{\\partial\\mathcal{L}}{\\partial w_1} = -2w_5X_1\\Sigma\\left(y - [X_1(w_1w_5 + w_2w_6) + X_2(w_3w_5 + w_4w_6)]\\right)$\n",
    "\n",
    "- $\\frac{\\partial\\mathcal{L}}{\\partial w_2} = -2w_6X_1\\Sigma\\left(y - [X_1(w_1w_5 + w_2w_6) + X_2(w_3w_5 + w_4w_6)]\\right)$\n",
    "\n",
    "- $\\frac{\\partial\\mathcal{L}}{\\partial w_3} = -2w_5X_2\\Sigma\\left(y - [X_1(w_1w_5 + w_2w_6) + X_2(w_3w_5 + w_4w_6)]\\right)$\n",
    "\n",
    "- $\\frac{\\partial\\mathcal{L}}{\\partial w_4} = -2w_6X_2\\Sigma\\left(y - [X_1(w_1w_5 + w_2w_6) + X_2(w_3w_5 + w_4w_6)]\\right)$\n",
    "\n",
    "- $\\frac{\\partial\\mathcal{L}}{\\partial w_5} = -2(w_1X_1 + w_3X_2)\\Sigma\\left(y - [X_1(w_1w_5 + w_2w_6) + X_2(w_3w_5 + w_4w_6)]\\right)$\n",
    "\n",
    "- $\\frac{\\partial\\mathcal{L}}{\\partial w_6} = -2(w_2X_1 + w_4X_2)\\Sigma\\left(y - [X_1(w_1w_5 + w_2w_6) + X_2(w_3w_5 + w_4w_6)]\\right)$"
   ]
  },
  {
   "cell_type": "markdown",
   "metadata": {},
   "source": [
    "So the goal now should just be to nudge each of our weights in (the opposites of) these directions."
   ]
  },
  {
   "cell_type": "code",
   "execution_count": 296,
   "metadata": {},
   "outputs": [],
   "source": [
    "w1 = in_hid_weights1[0]\n",
    "w2 = in_hid_weights1[1]\n",
    "w3 = in_hid_weights2[0]\n",
    "w4 = in_hid_weights2[1]\n",
    "w5 = hid_out_weights[0]\n",
    "w6 = hid_out_weights[1]"
   ]
  },
  {
   "cell_type": "markdown",
   "metadata": {},
   "source": [
    "Let's build an SGD function that will adjust weights after each training sample runs through the network."
   ]
  },
  {
   "cell_type": "code",
   "execution_count": 404,
   "metadata": {},
   "outputs": [],
   "source": [
    "def grad_desc(pred1=input1, pred2=input2, y=y,\n",
    "              w1=w1, w2=w2, w3=w3, w4=w4,\n",
    "              w5=w5, w6=w6, times_thru=1, lr=1e-4):\n",
    "\n",
    "    for k in range(times_thru):\n",
    "    \n",
    "        for j in range(pred1.shape[0]):\n",
    "            \n",
    "            in1_val = pred1[j]\n",
    "            in2_val = pred2[j]\n",
    "            \n",
    "            sum_ = y[j] - in1_val*(w1*w5 + w2*w6) - in2_val*(w3*w5 + w4*w6)\n",
    "\n",
    "            w5 += lr*(w1*in1_val + w3*in2_val)*sum_\n",
    "\n",
    "            w6 += lr*(w2*in1_val + w4*in2_val)*sum_\n",
    "\n",
    "            w1 += lr*w5*in1_val*sum_\n",
    "\n",
    "            w2 += lr*w6*in1_val*sum_\n",
    "\n",
    "            w3 += lr*w5*in2_val*sum_\n",
    "\n",
    "            w4 += lr*w6*in2_val*sum_\n",
    "            \n",
    "            output = pred1*(w1*w5 + w2*w6) + pred2*(w3*w5 + w4*w6)\n",
    "            \n",
    "            if j == 0 and k == 0:\n",
    "                print(f\"\"\"\n",
    "                After a single data point our RMSE is {np.sqrt(mse(y, output.flatten()))}\n",
    "                \"\"\")\n",
    "            \n",
    "        print(f\"\"\"\n",
    "                After {k+1} epochs our RMSE is {np.sqrt(mse(y, output.flatten()))}\n",
    "        \"\"\")\n",
    "        \n",
    "    return w1, w2, w3, w4, w5, w6"
   ]
  },
  {
   "cell_type": "code",
   "execution_count": 405,
   "metadata": {},
   "outputs": [
    {
     "name": "stdout",
     "output_type": "stream",
     "text": [
      "\n",
      "                After a single data point our RMSE is 132.28814433843758\n",
      "                \n",
      "\n",
      "                After 1 epochs our RMSE is 131.33072371660734\n",
      "        \n",
      "\n",
      "                After 2 epochs our RMSE is 127.94966625670574\n",
      "        \n",
      "\n",
      "                After 3 epochs our RMSE is 118.65042756571212\n",
      "        \n",
      "\n",
      "                After 4 epochs our RMSE is 107.35987667001076\n",
      "        \n",
      "\n",
      "                After 5 epochs our RMSE is 103.2656082883244\n",
      "        \n"
     ]
    },
    {
     "data": {
      "text/plain": [
       "(array([7.26015417]),\n",
       " array([5.49132156]),\n",
       " array([0.88698355]),\n",
       " array([0.73744729]),\n",
       " array([7.03451694]),\n",
       " array([5.40794395]))"
      ]
     },
     "execution_count": 405,
     "metadata": {},
     "output_type": "execute_result"
    }
   ],
   "source": [
    "grad_desc(times_thru=5)"
   ]
  },
  {
   "cell_type": "code",
   "execution_count": 406,
   "metadata": {},
   "outputs": [],
   "source": [
    "X_easy, y_easy = make_regression(n_features=2, n_informative=2, random_state=42)"
   ]
  },
  {
   "cell_type": "code",
   "execution_count": 407,
   "metadata": {},
   "outputs": [],
   "source": [
    "w_easy = np.random.rand(6)"
   ]
  },
  {
   "cell_type": "code",
   "execution_count": 409,
   "metadata": {},
   "outputs": [
    {
     "name": "stdout",
     "output_type": "stream",
     "text": [
      "\n",
      "                After a single data point our RMSE is 104.07629676318366\n",
      "                \n",
      "\n",
      "                After 1 epochs our RMSE is 1.573956777462879e-05\n",
      "        \n",
      "\n",
      "                After 2 epochs our RMSE is 9.770493474869423e-11\n",
      "        \n",
      "\n",
      "                After 3 epochs our RMSE is 0.0\n",
      "        \n"
     ]
    },
    {
     "data": {
      "text/plain": [
       "(9.368487371369753,\n",
       " 9.964950594105778,\n",
       " 5.886780460340266,\n",
       " 9.62096433110008,\n",
       " 3.366289629559119,\n",
       " 5.639793672749383)"
      ]
     },
     "execution_count": 409,
     "metadata": {},
     "output_type": "execute_result"
    }
   ],
   "source": [
    "final_weights = grad_desc(pred1=X_easy[:, 0], pred2=X_easy[:, 1], y=y_easy,\n",
    "         w1=w_easy[0], w2=w_easy[1], w3=w_easy[2],\n",
    "         w4=w_easy[3], w5=w_easy[4], w6=w_easy[5],\n",
    "         lr=4e-3, times_thru=3)\n",
    "final_weights"
   ]
  },
  {
   "cell_type": "markdown",
   "metadata": {},
   "source": [
    "### Comparing with `LinearRegression()`"
   ]
  },
  {
   "cell_type": "markdown",
   "metadata": {},
   "source": [
    "We can translate these final weight values into $\\beta_1$ and $\\beta_2$ for a traditional linear regression $\\hat{y} = \\beta_1X_1 + \\beta_2X_2$.\n",
    "\n",
    "Above we calculated $\\hat{y} = X_1(w_1w_5 + w_2w_6) + X_2(w_3w_5 + w_4w_6)$.\n",
    "\n",
    "Thus we have:\n",
    "\n",
    "- $\\beta_1 = w_1w_5 + w_2w_6$, and\n",
    "- $\\beta_2 = w_3w_5 + w_4w_6$."
   ]
  },
  {
   "cell_type": "markdown",
   "metadata": {},
   "source": [
    "Plugging these in for our final calculated weights we have:"
   ]
  },
  {
   "cell_type": "code",
   "execution_count": 410,
   "metadata": {},
   "outputs": [
    {
     "name": "stdout",
     "output_type": "stream",
     "text": [
      "Our mini-NN found coefficients of 87.73730719279554 and 74.07686177542044.\n"
     ]
    }
   ],
   "source": [
    "beta1 = final_weights[0]*final_weights[4] + final_weights[1]*final_weights[5]\n",
    "beta2 = final_weights[2]*final_weights[4] + final_weights[3]*final_weights[5]\n",
    "print(f\"Our mini-NN found coefficients of {beta1} and {beta2}.\")"
   ]
  },
  {
   "cell_type": "markdown",
   "metadata": {},
   "source": [
    "Let's compare these numbers with the results of `LinearRegression()`:"
   ]
  },
  {
   "cell_type": "code",
   "execution_count": 411,
   "metadata": {},
   "outputs": [],
   "source": [
    "from sklearn.linear_model import LinearRegression"
   ]
  },
  {
   "cell_type": "code",
   "execution_count": 412,
   "metadata": {},
   "outputs": [
    {
     "data": {
      "text/plain": [
       "array([87.73730719, 74.07686178])"
      ]
     },
     "execution_count": 412,
     "metadata": {},
     "output_type": "execute_result"
    }
   ],
   "source": [
    "LinearRegression(fit_intercept=False).fit(X_easy, y_easy).coef_"
   ]
  },
  {
   "cell_type": "code",
   "execution_count": 1,
   "metadata": {},
   "outputs": [],
   "source": [
    "from scipy import stats"
   ]
  },
  {
   "cell_type": "code",
   "execution_count": 3,
   "metadata": {},
   "outputs": [
    {
     "data": {
      "text/plain": [
       "0.9331927987311419"
      ]
     },
     "execution_count": 3,
     "metadata": {},
     "output_type": "execute_result"
    }
   ],
   "source": [
    "stats.norm.cdf(2, 1.4, 0.4)"
   ]
  },
  {
   "cell_type": "code",
   "execution_count": 4,
   "metadata": {},
   "outputs": [
    {
     "data": {
      "text/plain": [
       "0.9331927987311419"
      ]
     },
     "execution_count": 4,
     "metadata": {},
     "output_type": "execute_result"
    }
   ],
   "source": [
    "stats.norm.cdf(1.5)"
   ]
  },
  {
   "cell_type": "markdown",
   "metadata": {},
   "source": [
    "## Updating MLB Droughts"
   ]
  },
  {
   "cell_type": "code",
   "execution_count": 5,
   "metadata": {},
   "outputs": [],
   "source": [
    "post_2021 = ['Rays (6)', 'Red Sox (24)', 'Yankees (56)', 'White Sox (10)', 'Astros (14)',\n",
    "             'Braves (26)', 'Brewers (7)', 'Cardinals (30)', 'Giants (26)', 'Dodgers (34)']"
   ]
  },
  {
   "cell_type": "code",
   "execution_count": 7,
   "metadata": {},
   "outputs": [],
   "source": [
    "champ = pd.read_excel('Sports-Data/mlb_playoff_droughts/MLBPlayoffDroughts.xls', sheet_name=0)\n",
    "ws = pd.read_excel('Sports-Data/mlb_playoff_droughts/MLBPlayoffDroughts.xls', sheet_name=1)\n",
    "lcsp = pd.read_excel('Sports-Data/mlb_playoff_droughts/MLBPlayoffDroughts.xls', sheet_name=2)\n",
    "post = pd.read_excel('Sports-Data/mlb_playoff_droughts/MLBPlayoffDroughts.xls', sheet_name=3)"
   ]
  },
  {
   "cell_type": "code",
   "execution_count": 8,
   "metadata": {},
   "outputs": [],
   "source": [
    "def extract_paren(string):\n",
    "    open_ = string.index('(')\n",
    "    close = string.index(')')\n",
    "    return string[open_+1: close]"
   ]
  },
  {
   "cell_type": "code",
   "execution_count": 9,
   "metadata": {},
   "outputs": [],
   "source": [
    "def replace_last_latest(df):\n",
    "    new_df = df.copy()\n",
    "    col = new_df.columns[1]\n",
    "    new_df[col] = df[col].map(extract_paren)\n",
    "    return new_df"
   ]
  },
  {
   "cell_type": "code",
   "execution_count": 10,
   "metadata": {},
   "outputs": [],
   "source": [
    "def new_col(df):\n",
    "    new_df = df.copy()\n",
    "    col = new_df.columns[1]\n",
    "    new = new_df[col].apply(lambda x: str(int(x)+1))\n",
    "    new_df.insert(1, str(int(col)+1), new)\n",
    "    return new_df"
   ]
  },
  {
   "cell_type": "code",
   "execution_count": 11,
   "metadata": {},
   "outputs": [],
   "source": [
    "post = replace_last_latest(post)\n",
    "post = new_col(post)"
   ]
  },
  {
   "cell_type": "code",
   "execution_count": 12,
   "metadata": {},
   "outputs": [],
   "source": [
    "inds = post[post['TEAM/YEAR'].isin(post_2021)].index"
   ]
  },
  {
   "cell_type": "code",
   "execution_count": 13,
   "metadata": {},
   "outputs": [],
   "source": [
    "post.loc[inds, '2021'] = '0'"
   ]
  },
  {
   "cell_type": "code",
   "execution_count": 14,
   "metadata": {},
   "outputs": [],
   "source": [
    "post['2021'] = post['2021'].map(int)\n",
    "post = post.sort_values(by=['2021', 'TEAM/YEAR'], ascending=[False, True])\\\n",
    "    .reset_index().drop('index', axis=1)\n",
    "post['2021'] = post['2021'].map(str)\n",
    "#post"
   ]
  },
  {
   "cell_type": "code",
   "execution_count": 15,
   "metadata": {},
   "outputs": [],
   "source": [
    "names = post[post['TEAM/YEAR'].isin(post_2021)]['TEAM/YEAR']"
   ]
  },
  {
   "cell_type": "code",
   "execution_count": 16,
   "metadata": {},
   "outputs": [],
   "source": [
    "#names"
   ]
  },
  {
   "cell_type": "code",
   "execution_count": 17,
   "metadata": {},
   "outputs": [],
   "source": [
    "def add_one(team, names=names):\n",
    "    if team in names.values:\n",
    "        open_ = team.index('(')\n",
    "        close = team.index(')')\n",
    "        count = int(team[open_+1: close])\n",
    "        return team[:open_+1] + str(count+1) + ')'\n",
    "    else:\n",
    "        return team"
   ]
  },
  {
   "cell_type": "code",
   "execution_count": 18,
   "metadata": {},
   "outputs": [],
   "source": [
    "post['TEAM/YEAR'] = post['TEAM/YEAR'].map(add_one)"
   ]
  },
  {
   "cell_type": "code",
   "execution_count": 19,
   "metadata": {},
   "outputs": [],
   "source": [
    "#post"
   ]
  },
  {
   "cell_type": "code",
   "execution_count": 20,
   "metadata": {},
   "outputs": [],
   "source": [
    "post.loc[0, '2020'] += '*'\n",
    "#post"
   ]
  },
  {
   "cell_type": "code",
   "execution_count": 21,
   "metadata": {},
   "outputs": [],
   "source": [
    "def new_ver(df):\n",
    "    new_df = df.copy()\n",
    "    ranks = new_df.iloc[:, 1].map(int).rank(method='min', ascending=False).map(int)\n",
    "    new_ver = np.array([])\n",
    "    for j in range(len(ranks)):\n",
    "        new_ver = np.append(new_ver, str(ranks[j]) + ' (' + str(df.iloc[j, 1]) + ')')\n",
    "    new_df.iloc[:, 1] = new_ver\n",
    "    return new_df"
   ]
  },
  {
   "cell_type": "code",
   "execution_count": 22,
   "metadata": {},
   "outputs": [],
   "source": [
    "post = new_ver(post)"
   ]
  },
  {
   "cell_type": "code",
   "execution_count": 25,
   "metadata": {},
   "outputs": [],
   "source": [
    "post.to_csv('Sports-Data/mlb_playoff_droughts/postseason_droughts.csv')"
   ]
  },
  {
   "cell_type": "code",
   "execution_count": 26,
   "metadata": {},
   "outputs": [
    {
     "data": {
      "text/html": [
       "<div>\n",
       "<style scoped>\n",
       "    .dataframe tbody tr th:only-of-type {\n",
       "        vertical-align: middle;\n",
       "    }\n",
       "\n",
       "    .dataframe tbody tr th {\n",
       "        vertical-align: top;\n",
       "    }\n",
       "\n",
       "    .dataframe thead th {\n",
       "        text-align: right;\n",
       "    }\n",
       "</style>\n",
       "<table border=\"1\" class=\"dataframe\">\n",
       "  <thead>\n",
       "    <tr style=\"text-align: right;\">\n",
       "      <th></th>\n",
       "      <th>TEAM/YEAR</th>\n",
       "      <th>2020</th>\n",
       "      <th>2019</th>\n",
       "      <th>2018</th>\n",
       "      <th>2017</th>\n",
       "      <th>2016</th>\n",
       "      <th>2015</th>\n",
       "      <th>2014</th>\n",
       "      <th>2013</th>\n",
       "      <th>2012</th>\n",
       "      <th>...</th>\n",
       "      <th>1913</th>\n",
       "      <th>1912</th>\n",
       "      <th>1911</th>\n",
       "      <th>1910</th>\n",
       "      <th>1909</th>\n",
       "      <th>1908</th>\n",
       "      <th>1907</th>\n",
       "      <th>1906</th>\n",
       "      <th>1905</th>\n",
       "      <th>1903</th>\n",
       "    </tr>\n",
       "  </thead>\n",
       "  <tbody>\n",
       "    <tr>\n",
       "      <th>0</th>\n",
       "      <td>Pirates (14)</td>\n",
       "      <td>1 (27)</td>\n",
       "      <td>26*</td>\n",
       "      <td>25</td>\n",
       "      <td>24</td>\n",
       "      <td>23</td>\n",
       "      <td>22</td>\n",
       "      <td>21</td>\n",
       "      <td>20</td>\n",
       "      <td>19</td>\n",
       "      <td>...</td>\n",
       "      <td>4</td>\n",
       "      <td>3</td>\n",
       "      <td>7</td>\n",
       "      <td>6</td>\n",
       "      <td>5</td>\n",
       "      <td>4</td>\n",
       "      <td>3</td>\n",
       "      <td>2</td>\n",
       "      <td>1</td>\n",
       "      <td>0</td>\n",
       "    </tr>\n",
       "    <tr>\n",
       "      <th>1</th>\n",
       "      <td>Reds (12)</td>\n",
       "      <td>2 (25)</td>\n",
       "      <td>24</td>\n",
       "      <td>23</td>\n",
       "      <td>22</td>\n",
       "      <td>21</td>\n",
       "      <td>20</td>\n",
       "      <td>19</td>\n",
       "      <td>18</td>\n",
       "      <td>17</td>\n",
       "      <td>...</td>\n",
       "      <td>10*</td>\n",
       "      <td>9*</td>\n",
       "      <td>8*</td>\n",
       "      <td>7*</td>\n",
       "      <td>6*</td>\n",
       "      <td>5*</td>\n",
       "      <td>4*</td>\n",
       "      <td>3*</td>\n",
       "      <td>2*</td>\n",
       "      <td>1*</td>\n",
       "    </tr>\n",
       "    <tr>\n",
       "      <th>2</th>\n",
       "      <td>Padres (2)</td>\n",
       "      <td>3 (22)</td>\n",
       "      <td>21</td>\n",
       "      <td>20</td>\n",
       "      <td>19</td>\n",
       "      <td>18</td>\n",
       "      <td>17</td>\n",
       "      <td>16</td>\n",
       "      <td>15</td>\n",
       "      <td>14</td>\n",
       "      <td>...</td>\n",
       "      <td>NaN</td>\n",
       "      <td>NaN</td>\n",
       "      <td>NaN</td>\n",
       "      <td>NaN</td>\n",
       "      <td>NaN</td>\n",
       "      <td>NaN</td>\n",
       "      <td>NaN</td>\n",
       "      <td>NaN</td>\n",
       "      <td>NaN</td>\n",
       "      <td>NaN</td>\n",
       "    </tr>\n",
       "    <tr>\n",
       "      <th>3</th>\n",
       "      <td>Mariners (3)</td>\n",
       "      <td>4 (19)</td>\n",
       "      <td>18</td>\n",
       "      <td>17</td>\n",
       "      <td>16</td>\n",
       "      <td>15</td>\n",
       "      <td>14</td>\n",
       "      <td>13</td>\n",
       "      <td>12</td>\n",
       "      <td>11</td>\n",
       "      <td>...</td>\n",
       "      <td>NaN</td>\n",
       "      <td>NaN</td>\n",
       "      <td>NaN</td>\n",
       "      <td>NaN</td>\n",
       "      <td>NaN</td>\n",
       "      <td>NaN</td>\n",
       "      <td>NaN</td>\n",
       "      <td>NaN</td>\n",
       "      <td>NaN</td>\n",
       "      <td>NaN</td>\n",
       "    </tr>\n",
       "    <tr>\n",
       "      <th>4</th>\n",
       "      <td>Twins (9)</td>\n",
       "      <td>5 (18)</td>\n",
       "      <td>17</td>\n",
       "      <td>16</td>\n",
       "      <td>15</td>\n",
       "      <td>14</td>\n",
       "      <td>13</td>\n",
       "      <td>12</td>\n",
       "      <td>11</td>\n",
       "      <td>10</td>\n",
       "      <td>...</td>\n",
       "      <td>10*</td>\n",
       "      <td>9*</td>\n",
       "      <td>8*</td>\n",
       "      <td>7*</td>\n",
       "      <td>6*</td>\n",
       "      <td>5*</td>\n",
       "      <td>4*</td>\n",
       "      <td>3*</td>\n",
       "      <td>2*</td>\n",
       "      <td>1*</td>\n",
       "    </tr>\n",
       "    <tr>\n",
       "      <th>5</th>\n",
       "      <td>Marlins (2)</td>\n",
       "      <td>6 (17)</td>\n",
       "      <td>16</td>\n",
       "      <td>15</td>\n",
       "      <td>14</td>\n",
       "      <td>13</td>\n",
       "      <td>12</td>\n",
       "      <td>11</td>\n",
       "      <td>10</td>\n",
       "      <td>9</td>\n",
       "      <td>...</td>\n",
       "      <td>NaN</td>\n",
       "      <td>NaN</td>\n",
       "      <td>NaN</td>\n",
       "      <td>NaN</td>\n",
       "      <td>NaN</td>\n",
       "      <td>NaN</td>\n",
       "      <td>NaN</td>\n",
       "      <td>NaN</td>\n",
       "      <td>NaN</td>\n",
       "      <td>NaN</td>\n",
       "    </tr>\n",
       "    <tr>\n",
       "      <th>6</th>\n",
       "      <td>White Sox (7)</td>\n",
       "      <td>7 (15)</td>\n",
       "      <td>14</td>\n",
       "      <td>13</td>\n",
       "      <td>12</td>\n",
       "      <td>11</td>\n",
       "      <td>10</td>\n",
       "      <td>9</td>\n",
       "      <td>8</td>\n",
       "      <td>7</td>\n",
       "      <td>...</td>\n",
       "      <td>7</td>\n",
       "      <td>6</td>\n",
       "      <td>5</td>\n",
       "      <td>4</td>\n",
       "      <td>3</td>\n",
       "      <td>2</td>\n",
       "      <td>1</td>\n",
       "      <td>0</td>\n",
       "      <td>2*</td>\n",
       "      <td>1*</td>\n",
       "    </tr>\n",
       "    <tr>\n",
       "      <th>7</th>\n",
       "      <td>Athletics (19)</td>\n",
       "      <td>8 (14)</td>\n",
       "      <td>13</td>\n",
       "      <td>12</td>\n",
       "      <td>11</td>\n",
       "      <td>10</td>\n",
       "      <td>9</td>\n",
       "      <td>8</td>\n",
       "      <td>7</td>\n",
       "      <td>6</td>\n",
       "      <td>...</td>\n",
       "      <td>0</td>\n",
       "      <td>1</td>\n",
       "      <td>0</td>\n",
       "      <td>0</td>\n",
       "      <td>4</td>\n",
       "      <td>3</td>\n",
       "      <td>2</td>\n",
       "      <td>1</td>\n",
       "      <td>0</td>\n",
       "      <td>1*</td>\n",
       "    </tr>\n",
       "    <tr>\n",
       "      <th>8</th>\n",
       "      <td>Diamondbacks (2)</td>\n",
       "      <td>9 (13)</td>\n",
       "      <td>12</td>\n",
       "      <td>11</td>\n",
       "      <td>10</td>\n",
       "      <td>9</td>\n",
       "      <td>8</td>\n",
       "      <td>7</td>\n",
       "      <td>6</td>\n",
       "      <td>5</td>\n",
       "      <td>...</td>\n",
       "      <td>NaN</td>\n",
       "      <td>NaN</td>\n",
       "      <td>NaN</td>\n",
       "      <td>NaN</td>\n",
       "      <td>NaN</td>\n",
       "      <td>NaN</td>\n",
       "      <td>NaN</td>\n",
       "      <td>NaN</td>\n",
       "      <td>NaN</td>\n",
       "      <td>NaN</td>\n",
       "    </tr>\n",
       "    <tr>\n",
       "      <th>9</th>\n",
       "      <td>Rockies (1)</td>\n",
       "      <td>9 (13)</td>\n",
       "      <td>12</td>\n",
       "      <td>11</td>\n",
       "      <td>10</td>\n",
       "      <td>9</td>\n",
       "      <td>8</td>\n",
       "      <td>7</td>\n",
       "      <td>6</td>\n",
       "      <td>5</td>\n",
       "      <td>...</td>\n",
       "      <td>NaN</td>\n",
       "      <td>NaN</td>\n",
       "      <td>NaN</td>\n",
       "      <td>NaN</td>\n",
       "      <td>NaN</td>\n",
       "      <td>NaN</td>\n",
       "      <td>NaN</td>\n",
       "      <td>NaN</td>\n",
       "      <td>NaN</td>\n",
       "      <td>NaN</td>\n",
       "    </tr>\n",
       "    <tr>\n",
       "      <th>10</th>\n",
       "      <td>Angels (6)</td>\n",
       "      <td>11 (11)</td>\n",
       "      <td>10</td>\n",
       "      <td>9</td>\n",
       "      <td>8</td>\n",
       "      <td>7</td>\n",
       "      <td>6</td>\n",
       "      <td>5</td>\n",
       "      <td>4</td>\n",
       "      <td>3</td>\n",
       "      <td>...</td>\n",
       "      <td>NaN</td>\n",
       "      <td>NaN</td>\n",
       "      <td>NaN</td>\n",
       "      <td>NaN</td>\n",
       "      <td>NaN</td>\n",
       "      <td>NaN</td>\n",
       "      <td>NaN</td>\n",
       "      <td>NaN</td>\n",
       "      <td>NaN</td>\n",
       "      <td>NaN</td>\n",
       "    </tr>\n",
       "    <tr>\n",
       "      <th>11</th>\n",
       "      <td>Phillies (11)</td>\n",
       "      <td>12 (10)</td>\n",
       "      <td>9</td>\n",
       "      <td>8</td>\n",
       "      <td>7</td>\n",
       "      <td>6</td>\n",
       "      <td>5</td>\n",
       "      <td>4</td>\n",
       "      <td>3</td>\n",
       "      <td>2</td>\n",
       "      <td>...</td>\n",
       "      <td>10*</td>\n",
       "      <td>9*</td>\n",
       "      <td>8*</td>\n",
       "      <td>7*</td>\n",
       "      <td>6*</td>\n",
       "      <td>5*</td>\n",
       "      <td>4*</td>\n",
       "      <td>3*</td>\n",
       "      <td>2*</td>\n",
       "      <td>1*</td>\n",
       "    </tr>\n",
       "    <tr>\n",
       "      <th>12</th>\n",
       "      <td>Rangers (2)</td>\n",
       "      <td>13 (9)</td>\n",
       "      <td>8</td>\n",
       "      <td>7</td>\n",
       "      <td>6</td>\n",
       "      <td>5</td>\n",
       "      <td>4</td>\n",
       "      <td>3</td>\n",
       "      <td>2</td>\n",
       "      <td>1</td>\n",
       "      <td>...</td>\n",
       "      <td>NaN</td>\n",
       "      <td>NaN</td>\n",
       "      <td>NaN</td>\n",
       "      <td>NaN</td>\n",
       "      <td>NaN</td>\n",
       "      <td>NaN</td>\n",
       "      <td>NaN</td>\n",
       "      <td>NaN</td>\n",
       "      <td>NaN</td>\n",
       "      <td>NaN</td>\n",
       "    </tr>\n",
       "    <tr>\n",
       "      <th>13</th>\n",
       "      <td>Tigers (15)</td>\n",
       "      <td>14 (7)</td>\n",
       "      <td>6</td>\n",
       "      <td>5</td>\n",
       "      <td>4</td>\n",
       "      <td>3</td>\n",
       "      <td>2</td>\n",
       "      <td>1</td>\n",
       "      <td>0</td>\n",
       "      <td>0</td>\n",
       "      <td>...</td>\n",
       "      <td>4</td>\n",
       "      <td>3</td>\n",
       "      <td>2</td>\n",
       "      <td>1</td>\n",
       "      <td>0</td>\n",
       "      <td>0</td>\n",
       "      <td>0</td>\n",
       "      <td>3*</td>\n",
       "      <td>2*</td>\n",
       "      <td>1*</td>\n",
       "    </tr>\n",
       "    <tr>\n",
       "      <th>14</th>\n",
       "      <td>Giants (22)</td>\n",
       "      <td>15 (6)</td>\n",
       "      <td>5</td>\n",
       "      <td>4</td>\n",
       "      <td>3</td>\n",
       "      <td>2</td>\n",
       "      <td>1</td>\n",
       "      <td>0</td>\n",
       "      <td>1</td>\n",
       "      <td>0</td>\n",
       "      <td>...</td>\n",
       "      <td>0</td>\n",
       "      <td>0</td>\n",
       "      <td>0</td>\n",
       "      <td>5</td>\n",
       "      <td>4</td>\n",
       "      <td>3</td>\n",
       "      <td>2</td>\n",
       "      <td>1</td>\n",
       "      <td>0</td>\n",
       "      <td>1*</td>\n",
       "    </tr>\n",
       "    <tr>\n",
       "      <th>15</th>\n",
       "      <td>Orioles (12)</td>\n",
       "      <td>15 (6)</td>\n",
       "      <td>5</td>\n",
       "      <td>4</td>\n",
       "      <td>3</td>\n",
       "      <td>2</td>\n",
       "      <td>1</td>\n",
       "      <td>0</td>\n",
       "      <td>16</td>\n",
       "      <td>15</td>\n",
       "      <td>...</td>\n",
       "      <td>10*</td>\n",
       "      <td>9*</td>\n",
       "      <td>8*</td>\n",
       "      <td>7*</td>\n",
       "      <td>6*</td>\n",
       "      <td>5*</td>\n",
       "      <td>4*</td>\n",
       "      <td>3*</td>\n",
       "      <td>2*</td>\n",
       "      <td>1*</td>\n",
       "    </tr>\n",
       "    <tr>\n",
       "      <th>16</th>\n",
       "      <td>Mets (8)</td>\n",
       "      <td>17 (5)</td>\n",
       "      <td>4</td>\n",
       "      <td>3</td>\n",
       "      <td>2</td>\n",
       "      <td>1</td>\n",
       "      <td>0</td>\n",
       "      <td>8</td>\n",
       "      <td>7</td>\n",
       "      <td>6</td>\n",
       "      <td>...</td>\n",
       "      <td>NaN</td>\n",
       "      <td>NaN</td>\n",
       "      <td>NaN</td>\n",
       "      <td>NaN</td>\n",
       "      <td>NaN</td>\n",
       "      <td>NaN</td>\n",
       "      <td>NaN</td>\n",
       "      <td>NaN</td>\n",
       "      <td>NaN</td>\n",
       "      <td>NaN</td>\n",
       "    </tr>\n",
       "    <tr>\n",
       "      <th>17</th>\n",
       "      <td>Royals (8)</td>\n",
       "      <td>17 (5)</td>\n",
       "      <td>4</td>\n",
       "      <td>3</td>\n",
       "      <td>2</td>\n",
       "      <td>1</td>\n",
       "      <td>0</td>\n",
       "      <td>0</td>\n",
       "      <td>27</td>\n",
       "      <td>26</td>\n",
       "      <td>...</td>\n",
       "      <td>NaN</td>\n",
       "      <td>NaN</td>\n",
       "      <td>NaN</td>\n",
       "      <td>NaN</td>\n",
       "      <td>NaN</td>\n",
       "      <td>NaN</td>\n",
       "      <td>NaN</td>\n",
       "      <td>NaN</td>\n",
       "      <td>NaN</td>\n",
       "      <td>NaN</td>\n",
       "    </tr>\n",
       "    <tr>\n",
       "      <th>18</th>\n",
       "      <td>Blue Jays (7)</td>\n",
       "      <td>19 (4)</td>\n",
       "      <td>3</td>\n",
       "      <td>2</td>\n",
       "      <td>1</td>\n",
       "      <td>0</td>\n",
       "      <td>0</td>\n",
       "      <td>20</td>\n",
       "      <td>19</td>\n",
       "      <td>18</td>\n",
       "      <td>...</td>\n",
       "      <td>NaN</td>\n",
       "      <td>NaN</td>\n",
       "      <td>NaN</td>\n",
       "      <td>NaN</td>\n",
       "      <td>NaN</td>\n",
       "      <td>NaN</td>\n",
       "      <td>NaN</td>\n",
       "      <td>NaN</td>\n",
       "      <td>NaN</td>\n",
       "      <td>NaN</td>\n",
       "    </tr>\n",
       "    <tr>\n",
       "      <th>19</th>\n",
       "      <td>Indians (8)</td>\n",
       "      <td>19 (4)</td>\n",
       "      <td>3</td>\n",
       "      <td>2</td>\n",
       "      <td>1</td>\n",
       "      <td>0</td>\n",
       "      <td>8</td>\n",
       "      <td>7</td>\n",
       "      <td>6</td>\n",
       "      <td>5</td>\n",
       "      <td>...</td>\n",
       "      <td>10*</td>\n",
       "      <td>9*</td>\n",
       "      <td>8*</td>\n",
       "      <td>7*</td>\n",
       "      <td>6*</td>\n",
       "      <td>5*</td>\n",
       "      <td>4*</td>\n",
       "      <td>3*</td>\n",
       "      <td>2*</td>\n",
       "      <td>1*</td>\n",
       "    </tr>\n",
       "    <tr>\n",
       "      <th>20</th>\n",
       "      <td>Cubs (16)</td>\n",
       "      <td>21 (3)</td>\n",
       "      <td>2</td>\n",
       "      <td>1</td>\n",
       "      <td>0</td>\n",
       "      <td>0</td>\n",
       "      <td>0</td>\n",
       "      <td>11</td>\n",
       "      <td>10</td>\n",
       "      <td>9</td>\n",
       "      <td>...</td>\n",
       "      <td>3</td>\n",
       "      <td>2</td>\n",
       "      <td>1</td>\n",
       "      <td>0</td>\n",
       "      <td>1</td>\n",
       "      <td>0</td>\n",
       "      <td>0</td>\n",
       "      <td>0</td>\n",
       "      <td>2*</td>\n",
       "      <td>1*</td>\n",
       "    </tr>\n",
       "    <tr>\n",
       "      <th>21</th>\n",
       "      <td>Brewers (3)</td>\n",
       "      <td>22 (2)</td>\n",
       "      <td>1</td>\n",
       "      <td>0</td>\n",
       "      <td>6</td>\n",
       "      <td>5</td>\n",
       "      <td>4</td>\n",
       "      <td>3</td>\n",
       "      <td>2</td>\n",
       "      <td>1</td>\n",
       "      <td>...</td>\n",
       "      <td>NaN</td>\n",
       "      <td>NaN</td>\n",
       "      <td>NaN</td>\n",
       "      <td>NaN</td>\n",
       "      <td>NaN</td>\n",
       "      <td>NaN</td>\n",
       "      <td>NaN</td>\n",
       "      <td>NaN</td>\n",
       "      <td>NaN</td>\n",
       "      <td>NaN</td>\n",
       "    </tr>\n",
       "    <tr>\n",
       "      <th>22</th>\n",
       "      <td>Red Sox (18)</td>\n",
       "      <td>22 (2)</td>\n",
       "      <td>1</td>\n",
       "      <td>0</td>\n",
       "      <td>4</td>\n",
       "      <td>3</td>\n",
       "      <td>2</td>\n",
       "      <td>1</td>\n",
       "      <td>0</td>\n",
       "      <td>4</td>\n",
       "      <td>...</td>\n",
       "      <td>1</td>\n",
       "      <td>0</td>\n",
       "      <td>7</td>\n",
       "      <td>6</td>\n",
       "      <td>5</td>\n",
       "      <td>4</td>\n",
       "      <td>3</td>\n",
       "      <td>2</td>\n",
       "      <td>1</td>\n",
       "      <td>0</td>\n",
       "    </tr>\n",
       "    <tr>\n",
       "      <th>23</th>\n",
       "      <td>Cardinals (26)</td>\n",
       "      <td>24 (1)</td>\n",
       "      <td>0</td>\n",
       "      <td>4</td>\n",
       "      <td>3</td>\n",
       "      <td>2</td>\n",
       "      <td>1</td>\n",
       "      <td>0</td>\n",
       "      <td>0</td>\n",
       "      <td>0</td>\n",
       "      <td>...</td>\n",
       "      <td>10*</td>\n",
       "      <td>9*</td>\n",
       "      <td>8*</td>\n",
       "      <td>7*</td>\n",
       "      <td>6*</td>\n",
       "      <td>5*</td>\n",
       "      <td>4*</td>\n",
       "      <td>3*</td>\n",
       "      <td>2*</td>\n",
       "      <td>1*</td>\n",
       "    </tr>\n",
       "    <tr>\n",
       "      <th>24</th>\n",
       "      <td>Nationals (2)</td>\n",
       "      <td>24 (1)</td>\n",
       "      <td>0</td>\n",
       "      <td>36*</td>\n",
       "      <td>35*</td>\n",
       "      <td>34*</td>\n",
       "      <td>33*</td>\n",
       "      <td>32*</td>\n",
       "      <td>31*</td>\n",
       "      <td>30*</td>\n",
       "      <td>...</td>\n",
       "      <td>NaN</td>\n",
       "      <td>NaN</td>\n",
       "      <td>NaN</td>\n",
       "      <td>NaN</td>\n",
       "      <td>NaN</td>\n",
       "      <td>NaN</td>\n",
       "      <td>NaN</td>\n",
       "      <td>NaN</td>\n",
       "      <td>NaN</td>\n",
       "      <td>NaN</td>\n",
       "    </tr>\n",
       "    <tr>\n",
       "      <th>25</th>\n",
       "      <td>Yankees (46)</td>\n",
       "      <td>24 (1)</td>\n",
       "      <td>0</td>\n",
       "      <td>1</td>\n",
       "      <td>0</td>\n",
       "      <td>4</td>\n",
       "      <td>3</td>\n",
       "      <td>2</td>\n",
       "      <td>1</td>\n",
       "      <td>0</td>\n",
       "      <td>...</td>\n",
       "      <td>10*</td>\n",
       "      <td>9*</td>\n",
       "      <td>8*</td>\n",
       "      <td>7*</td>\n",
       "      <td>6*</td>\n",
       "      <td>5*</td>\n",
       "      <td>4*</td>\n",
       "      <td>3*</td>\n",
       "      <td>2*</td>\n",
       "      <td>1*</td>\n",
       "    </tr>\n",
       "    <tr>\n",
       "      <th>26</th>\n",
       "      <td>Astros (8)</td>\n",
       "      <td>27 (0)</td>\n",
       "      <td>0</td>\n",
       "      <td>0</td>\n",
       "      <td>0</td>\n",
       "      <td>11</td>\n",
       "      <td>10</td>\n",
       "      <td>9</td>\n",
       "      <td>8</td>\n",
       "      <td>7</td>\n",
       "      <td>...</td>\n",
       "      <td>NaN</td>\n",
       "      <td>NaN</td>\n",
       "      <td>NaN</td>\n",
       "      <td>NaN</td>\n",
       "      <td>NaN</td>\n",
       "      <td>NaN</td>\n",
       "      <td>NaN</td>\n",
       "      <td>NaN</td>\n",
       "      <td>NaN</td>\n",
       "      <td>NaN</td>\n",
       "    </tr>\n",
       "    <tr>\n",
       "      <th>27</th>\n",
       "      <td>Braves (16)</td>\n",
       "      <td>27 (0)</td>\n",
       "      <td>18</td>\n",
       "      <td>17</td>\n",
       "      <td>16</td>\n",
       "      <td>15</td>\n",
       "      <td>14</td>\n",
       "      <td>13</td>\n",
       "      <td>12</td>\n",
       "      <td>11</td>\n",
       "      <td>...</td>\n",
       "      <td>10*</td>\n",
       "      <td>9*</td>\n",
       "      <td>8*</td>\n",
       "      <td>7*</td>\n",
       "      <td>6*</td>\n",
       "      <td>5*</td>\n",
       "      <td>4*</td>\n",
       "      <td>3*</td>\n",
       "      <td>2*</td>\n",
       "      <td>1*</td>\n",
       "    </tr>\n",
       "    <tr>\n",
       "      <th>28</th>\n",
       "      <td>Dodgers (27)</td>\n",
       "      <td>27 (0)</td>\n",
       "      <td>1</td>\n",
       "      <td>0</td>\n",
       "      <td>0</td>\n",
       "      <td>0</td>\n",
       "      <td>2</td>\n",
       "      <td>1</td>\n",
       "      <td>0</td>\n",
       "      <td>3</td>\n",
       "      <td>...</td>\n",
       "      <td>10*</td>\n",
       "      <td>9*</td>\n",
       "      <td>8*</td>\n",
       "      <td>7*</td>\n",
       "      <td>6*</td>\n",
       "      <td>5*</td>\n",
       "      <td>4*</td>\n",
       "      <td>3*</td>\n",
       "      <td>2*</td>\n",
       "      <td>1*</td>\n",
       "    </tr>\n",
       "    <tr>\n",
       "      <th>29</th>\n",
       "      <td>Rays (2)</td>\n",
       "      <td>27 (0)</td>\n",
       "      <td>11</td>\n",
       "      <td>10</td>\n",
       "      <td>9</td>\n",
       "      <td>8</td>\n",
       "      <td>7</td>\n",
       "      <td>6</td>\n",
       "      <td>5</td>\n",
       "      <td>4</td>\n",
       "      <td>...</td>\n",
       "      <td>NaN</td>\n",
       "      <td>NaN</td>\n",
       "      <td>NaN</td>\n",
       "      <td>NaN</td>\n",
       "      <td>NaN</td>\n",
       "      <td>NaN</td>\n",
       "      <td>NaN</td>\n",
       "      <td>NaN</td>\n",
       "      <td>NaN</td>\n",
       "      <td>NaN</td>\n",
       "    </tr>\n",
       "  </tbody>\n",
       "</table>\n",
       "<p>30 rows × 117 columns</p>\n",
       "</div>"
      ],
      "text/plain": [
       "           TEAM/YEAR     2020 2019 2018 2017 2016 2015 2014 2013 2012  ...  \\\n",
       "0       Pirates (14)   1 (27)  26*   25   24   23   22   21   20   19  ...   \n",
       "1          Reds (12)   2 (25)   24   23   22   21   20   19   18   17  ...   \n",
       "2         Padres (2)   3 (22)   21   20   19   18   17   16   15   14  ...   \n",
       "3       Mariners (3)   4 (19)   18   17   16   15   14   13   12   11  ...   \n",
       "4          Twins (9)   5 (18)   17   16   15   14   13   12   11   10  ...   \n",
       "5        Marlins (2)   6 (17)   16   15   14   13   12   11   10    9  ...   \n",
       "6      White Sox (7)   7 (15)   14   13   12   11   10    9    8    7  ...   \n",
       "7     Athletics (19)   8 (14)   13   12   11   10    9    8    7    6  ...   \n",
       "8   Diamondbacks (2)   9 (13)   12   11   10    9    8    7    6    5  ...   \n",
       "9        Rockies (1)   9 (13)   12   11   10    9    8    7    6    5  ...   \n",
       "10        Angels (6)  11 (11)   10    9    8    7    6    5    4    3  ...   \n",
       "11     Phillies (11)  12 (10)    9    8    7    6    5    4    3    2  ...   \n",
       "12       Rangers (2)   13 (9)    8    7    6    5    4    3    2    1  ...   \n",
       "13       Tigers (15)   14 (7)    6    5    4    3    2    1    0    0  ...   \n",
       "14       Giants (22)   15 (6)    5    4    3    2    1    0    1    0  ...   \n",
       "15      Orioles (12)   15 (6)    5    4    3    2    1    0   16   15  ...   \n",
       "16          Mets (8)   17 (5)    4    3    2    1    0    8    7    6  ...   \n",
       "17        Royals (8)   17 (5)    4    3    2    1    0    0   27   26  ...   \n",
       "18     Blue Jays (7)   19 (4)    3    2    1    0    0   20   19   18  ...   \n",
       "19       Indians (8)   19 (4)    3    2    1    0    8    7    6    5  ...   \n",
       "20         Cubs (16)   21 (3)    2    1    0    0    0   11   10    9  ...   \n",
       "21       Brewers (3)   22 (2)    1    0    6    5    4    3    2    1  ...   \n",
       "22      Red Sox (18)   22 (2)    1    0    4    3    2    1    0    4  ...   \n",
       "23    Cardinals (26)   24 (1)    0    4    3    2    1    0    0    0  ...   \n",
       "24     Nationals (2)   24 (1)    0  36*  35*  34*  33*  32*  31*  30*  ...   \n",
       "25      Yankees (46)   24 (1)    0    1    0    4    3    2    1    0  ...   \n",
       "26        Astros (8)   27 (0)    0    0    0   11   10    9    8    7  ...   \n",
       "27       Braves (16)   27 (0)   18   17   16   15   14   13   12   11  ...   \n",
       "28      Dodgers (27)   27 (0)    1    0    0    0    2    1    0    3  ...   \n",
       "29          Rays (2)   27 (0)   11   10    9    8    7    6    5    4  ...   \n",
       "\n",
       "   1913 1912 1911 1910 1909 1908 1907 1906 1905 1903  \n",
       "0     4    3    7    6    5    4    3    2    1    0  \n",
       "1   10*   9*   8*   7*   6*   5*   4*   3*   2*   1*  \n",
       "2   NaN  NaN  NaN  NaN  NaN  NaN  NaN  NaN  NaN  NaN  \n",
       "3   NaN  NaN  NaN  NaN  NaN  NaN  NaN  NaN  NaN  NaN  \n",
       "4   10*   9*   8*   7*   6*   5*   4*   3*   2*   1*  \n",
       "5   NaN  NaN  NaN  NaN  NaN  NaN  NaN  NaN  NaN  NaN  \n",
       "6     7    6    5    4    3    2    1    0   2*   1*  \n",
       "7     0    1    0    0    4    3    2    1    0   1*  \n",
       "8   NaN  NaN  NaN  NaN  NaN  NaN  NaN  NaN  NaN  NaN  \n",
       "9   NaN  NaN  NaN  NaN  NaN  NaN  NaN  NaN  NaN  NaN  \n",
       "10  NaN  NaN  NaN  NaN  NaN  NaN  NaN  NaN  NaN  NaN  \n",
       "11  10*   9*   8*   7*   6*   5*   4*   3*   2*   1*  \n",
       "12  NaN  NaN  NaN  NaN  NaN  NaN  NaN  NaN  NaN  NaN  \n",
       "13    4    3    2    1    0    0    0   3*   2*   1*  \n",
       "14    0    0    0    5    4    3    2    1    0   1*  \n",
       "15  10*   9*   8*   7*   6*   5*   4*   3*   2*   1*  \n",
       "16  NaN  NaN  NaN  NaN  NaN  NaN  NaN  NaN  NaN  NaN  \n",
       "17  NaN  NaN  NaN  NaN  NaN  NaN  NaN  NaN  NaN  NaN  \n",
       "18  NaN  NaN  NaN  NaN  NaN  NaN  NaN  NaN  NaN  NaN  \n",
       "19  10*   9*   8*   7*   6*   5*   4*   3*   2*   1*  \n",
       "20    3    2    1    0    1    0    0    0   2*   1*  \n",
       "21  NaN  NaN  NaN  NaN  NaN  NaN  NaN  NaN  NaN  NaN  \n",
       "22    1    0    7    6    5    4    3    2    1    0  \n",
       "23  10*   9*   8*   7*   6*   5*   4*   3*   2*   1*  \n",
       "24  NaN  NaN  NaN  NaN  NaN  NaN  NaN  NaN  NaN  NaN  \n",
       "25  10*   9*   8*   7*   6*   5*   4*   3*   2*   1*  \n",
       "26  NaN  NaN  NaN  NaN  NaN  NaN  NaN  NaN  NaN  NaN  \n",
       "27  10*   9*   8*   7*   6*   5*   4*   3*   2*   1*  \n",
       "28  10*   9*   8*   7*   6*   5*   4*   3*   2*   1*  \n",
       "29  NaN  NaN  NaN  NaN  NaN  NaN  NaN  NaN  NaN  NaN  \n",
       "\n",
       "[30 rows x 117 columns]"
      ]
     },
     "execution_count": 26,
     "metadata": {},
     "output_type": "execute_result"
    }
   ],
   "source": [
    "lcsp"
   ]
  },
  {
   "cell_type": "code",
   "execution_count": null,
   "metadata": {},
   "outputs": [],
   "source": []
  }
 ],
 "metadata": {
  "kernelspec": {
   "display_name": "Python 3",
   "language": "python",
   "name": "python3"
  },
  "language_info": {
   "codemirror_mode": {
    "name": "ipython",
    "version": 3
   },
   "file_extension": ".py",
   "mimetype": "text/x-python",
   "name": "python",
   "nbconvert_exporter": "python",
   "pygments_lexer": "ipython3",
   "version": "3.7.2"
  }
 },
 "nbformat": 4,
 "nbformat_minor": 4
}
