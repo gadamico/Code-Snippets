{
 "cells": [
  {
   "cell_type": "markdown",
   "metadata": {},
   "source": [
    "## Standard Error of Regression Coefficients\n",
    "\n",
    "According to [Wikipedia](https://en.wikipedia.org/wiki/Variance_inflation_factor), the standard error of the estimate of $\\beta_j$ in a linear regression equation is the square root of the $(j + 1)^{th}$ diagonal element of $s^2(X^TX)^{−1}$, where $s$ is the root mean squared error (RMSE) of the model."
   ]
  },
  {
   "cell_type": "code",
   "execution_count": 150,
   "metadata": {},
   "outputs": [],
   "source": [
    "import statsmodels.api as sm\n",
    "from sklearn.datasets import make_regression\n",
    "from sklearn.metrics import mean_squared_error\n",
    "from sklearn.linear_model import LinearRegression\n",
    "import pandas as pd\n",
    "import numpy as np"
   ]
  },
  {
   "cell_type": "code",
   "execution_count": 151,
   "metadata": {},
   "outputs": [],
   "source": [
    "X, y = make_regression(n_features=10,\n",
    "                       n_informative=2,\n",
    "                      noise=10,\n",
    "                      random_state=42)"
   ]
  },
  {
   "cell_type": "code",
   "execution_count": 108,
   "metadata": {},
   "outputs": [],
   "source": [
    "X = X - np.mean(X, axis=0)"
   ]
  },
  {
   "cell_type": "code",
   "execution_count": 152,
   "metadata": {},
   "outputs": [],
   "source": [
    "df = pd.DataFrame(np.hstack((X, y.reshape(-1, 1))),\n",
    "                  columns=['x1', 'x2', 'x3',\n",
    "                           'x4', 'x5', 'x6',\n",
    "                           'x7', 'x8', 'x9',\n",
    "                          'x10', 'target'])"
   ]
  },
  {
   "cell_type": "code",
   "execution_count": 153,
   "metadata": {},
   "outputs": [],
   "source": [
    "#df"
   ]
  },
  {
   "cell_type": "code",
   "execution_count": 154,
   "metadata": {},
   "outputs": [
    {
     "data": {
      "text/plain": [
       "82.96341956843713"
      ]
     },
     "execution_count": 154,
     "metadata": {},
     "output_type": "execute_result"
    }
   ],
   "source": [
    "lr = LinearRegression()\n",
    "lr.fit(X, y)\n",
    "s2 = mean_squared_error(y, lr.predict(X))\n",
    "s2"
   ]
  },
  {
   "cell_type": "code",
   "execution_count": 211,
   "metadata": {},
   "outputs": [
    {
     "data": {
      "text/plain": [
       "82.96341956843715"
      ]
     },
     "execution_count": 211,
     "metadata": {},
     "output_type": "execute_result"
    }
   ],
   "source": [
    "sum((y - lr.predict(X))**2) / 100"
   ]
  },
  {
   "cell_type": "markdown",
   "metadata": {},
   "source": [
    "Do I want the *variance* of the residuals?"
   ]
  },
  {
   "cell_type": "code",
   "execution_count": 214,
   "metadata": {},
   "outputs": [
    {
     "data": {
      "text/plain": [
       "82.96341956843713"
      ]
     },
     "execution_count": 214,
     "metadata": {},
     "output_type": "execute_result"
    }
   ],
   "source": [
    "(y - lr.predict(X)).var()"
   ]
  },
  {
   "cell_type": "code",
   "execution_count": 215,
   "metadata": {},
   "outputs": [
    {
     "data": {
      "text/plain": [
       "93.21732535779452"
      ]
     },
     "execution_count": 215,
     "metadata": {},
     "output_type": "execute_result"
    }
   ],
   "source": [
    "(y - lr.predict(X)).var(ddof=11)"
   ]
  },
  {
   "cell_type": "code",
   "execution_count": 155,
   "metadata": {},
   "outputs": [
    {
     "data": {
      "text/plain": [
       "array([-0.21072837, -1.90917999, -0.62144467, 15.8309503 ,  0.25274792,\n",
       "        0.70152564,  9.9316305 ,  0.48297844, -0.04027294, -1.33661932])"
      ]
     },
     "execution_count": 155,
     "metadata": {},
     "output_type": "execute_result"
    }
   ],
   "source": [
    "lr.coef_"
   ]
  },
  {
   "cell_type": "code",
   "execution_count": 163,
   "metadata": {},
   "outputs": [
    {
     "data": {
      "text/plain": [
       "1.6292415773258941"
      ]
     },
     "execution_count": 163,
     "metadata": {},
     "output_type": "execute_result"
    }
   ],
   "source": [
    "lr.intercept_"
   ]
  },
  {
   "cell_type": "code",
   "execution_count": 156,
   "metadata": {},
   "outputs": [],
   "source": [
    "model = sm.OLS(y, sm.add_constant(X)).fit()"
   ]
  },
  {
   "cell_type": "code",
   "execution_count": 157,
   "metadata": {},
   "outputs": [
    {
     "data": {
      "text/html": [
       "<table class=\"simpletable\">\n",
       "<caption>OLS Regression Results</caption>\n",
       "<tr>\n",
       "  <th>Dep. Variable:</th>            <td>y</td>        <th>  R-squared:         </th> <td>   0.781</td>\n",
       "</tr>\n",
       "<tr>\n",
       "  <th>Model:</th>                   <td>OLS</td>       <th>  Adj. R-squared:    </th> <td>   0.756</td>\n",
       "</tr>\n",
       "<tr>\n",
       "  <th>Method:</th>             <td>Least Squares</td>  <th>  F-statistic:       </th> <td>   31.74</td>\n",
       "</tr>\n",
       "<tr>\n",
       "  <th>Date:</th>             <td>Fri, 28 May 2021</td> <th>  Prob (F-statistic):</th> <td>3.44e-25</td>\n",
       "</tr>\n",
       "<tr>\n",
       "  <th>Time:</th>                 <td>14:41:57</td>     <th>  Log-Likelihood:    </th> <td> -362.81</td>\n",
       "</tr>\n",
       "<tr>\n",
       "  <th>No. Observations:</th>      <td>   100</td>      <th>  AIC:               </th> <td>   747.6</td>\n",
       "</tr>\n",
       "<tr>\n",
       "  <th>Df Residuals:</th>          <td>    89</td>      <th>  BIC:               </th> <td>   776.3</td>\n",
       "</tr>\n",
       "<tr>\n",
       "  <th>Df Model:</th>              <td>    10</td>      <th>                     </th>     <td> </td>   \n",
       "</tr>\n",
       "<tr>\n",
       "  <th>Covariance Type:</th>      <td>nonrobust</td>    <th>                     </th>     <td> </td>   \n",
       "</tr>\n",
       "</table>\n",
       "<table class=\"simpletable\">\n",
       "<tr>\n",
       "    <td></td>       <th>coef</th>     <th>std err</th>      <th>t</th>      <th>P>|t|</th>  <th>[0.025</th>    <th>0.975]</th>  \n",
       "</tr>\n",
       "<tr>\n",
       "  <th>const</th> <td>    1.6292</td> <td>    0.981</td> <td>    1.661</td> <td> 0.100</td> <td>   -0.319</td> <td>    3.578</td>\n",
       "</tr>\n",
       "<tr>\n",
       "  <th>x1</th>    <td>   -0.2107</td> <td>    0.977</td> <td>   -0.216</td> <td> 0.830</td> <td>   -2.153</td> <td>    1.731</td>\n",
       "</tr>\n",
       "<tr>\n",
       "  <th>x2</th>    <td>   -1.9092</td> <td>    1.070</td> <td>   -1.784</td> <td> 0.078</td> <td>   -4.035</td> <td>    0.217</td>\n",
       "</tr>\n",
       "<tr>\n",
       "  <th>x3</th>    <td>   -0.6214</td> <td>    1.031</td> <td>   -0.603</td> <td> 0.548</td> <td>   -2.669</td> <td>    1.426</td>\n",
       "</tr>\n",
       "<tr>\n",
       "  <th>x4</th>    <td>   15.8310</td> <td>    1.114</td> <td>   14.212</td> <td> 0.000</td> <td>   13.618</td> <td>   18.044</td>\n",
       "</tr>\n",
       "<tr>\n",
       "  <th>x5</th>    <td>    0.2527</td> <td>    1.021</td> <td>    0.248</td> <td> 0.805</td> <td>   -1.775</td> <td>    2.281</td>\n",
       "</tr>\n",
       "<tr>\n",
       "  <th>x6</th>    <td>    0.7015</td> <td>    1.029</td> <td>    0.681</td> <td> 0.497</td> <td>   -1.344</td> <td>    2.747</td>\n",
       "</tr>\n",
       "<tr>\n",
       "  <th>x7</th>    <td>    9.9316</td> <td>    1.028</td> <td>    9.657</td> <td> 0.000</td> <td>    7.888</td> <td>   11.975</td>\n",
       "</tr>\n",
       "<tr>\n",
       "  <th>x8</th>    <td>    0.4830</td> <td>    1.130</td> <td>    0.427</td> <td> 0.670</td> <td>   -1.762</td> <td>    2.728</td>\n",
       "</tr>\n",
       "<tr>\n",
       "  <th>x9</th>    <td>   -0.0403</td> <td>    1.093</td> <td>   -0.037</td> <td> 0.971</td> <td>   -2.213</td> <td>    2.132</td>\n",
       "</tr>\n",
       "<tr>\n",
       "  <th>x10</th>   <td>   -1.3366</td> <td>    0.960</td> <td>   -1.393</td> <td> 0.167</td> <td>   -3.243</td> <td>    0.570</td>\n",
       "</tr>\n",
       "</table>\n",
       "<table class=\"simpletable\">\n",
       "<tr>\n",
       "  <th>Omnibus:</th>       <td> 0.426</td> <th>  Durbin-Watson:     </th> <td>   2.067</td>\n",
       "</tr>\n",
       "<tr>\n",
       "  <th>Prob(Omnibus):</th> <td> 0.808</td> <th>  Jarque-Bera (JB):  </th> <td>   0.493</td>\n",
       "</tr>\n",
       "<tr>\n",
       "  <th>Skew:</th>          <td>-0.150</td> <th>  Prob(JB):          </th> <td>   0.782</td>\n",
       "</tr>\n",
       "<tr>\n",
       "  <th>Kurtosis:</th>      <td> 2.831</td> <th>  Cond. No.          </th> <td>    1.84</td>\n",
       "</tr>\n",
       "</table><br/><br/>Notes:<br/>[1] Standard Errors assume that the covariance matrix of the errors is correctly specified."
      ],
      "text/plain": [
       "<class 'statsmodels.iolib.summary.Summary'>\n",
       "\"\"\"\n",
       "                            OLS Regression Results                            \n",
       "==============================================================================\n",
       "Dep. Variable:                      y   R-squared:                       0.781\n",
       "Model:                            OLS   Adj. R-squared:                  0.756\n",
       "Method:                 Least Squares   F-statistic:                     31.74\n",
       "Date:                Fri, 28 May 2021   Prob (F-statistic):           3.44e-25\n",
       "Time:                        14:41:57   Log-Likelihood:                -362.81\n",
       "No. Observations:                 100   AIC:                             747.6\n",
       "Df Residuals:                      89   BIC:                             776.3\n",
       "Df Model:                          10                                         \n",
       "Covariance Type:            nonrobust                                         \n",
       "==============================================================================\n",
       "                 coef    std err          t      P>|t|      [0.025      0.975]\n",
       "------------------------------------------------------------------------------\n",
       "const          1.6292      0.981      1.661      0.100      -0.319       3.578\n",
       "x1            -0.2107      0.977     -0.216      0.830      -2.153       1.731\n",
       "x2            -1.9092      1.070     -1.784      0.078      -4.035       0.217\n",
       "x3            -0.6214      1.031     -0.603      0.548      -2.669       1.426\n",
       "x4            15.8310      1.114     14.212      0.000      13.618      18.044\n",
       "x5             0.2527      1.021      0.248      0.805      -1.775       2.281\n",
       "x6             0.7015      1.029      0.681      0.497      -1.344       2.747\n",
       "x7             9.9316      1.028      9.657      0.000       7.888      11.975\n",
       "x8             0.4830      1.130      0.427      0.670      -1.762       2.728\n",
       "x9            -0.0403      1.093     -0.037      0.971      -2.213       2.132\n",
       "x10           -1.3366      0.960     -1.393      0.167      -3.243       0.570\n",
       "==============================================================================\n",
       "Omnibus:                        0.426   Durbin-Watson:                   2.067\n",
       "Prob(Omnibus):                  0.808   Jarque-Bera (JB):                0.493\n",
       "Skew:                          -0.150   Prob(JB):                        0.782\n",
       "Kurtosis:                       2.831   Cond. No.                         1.84\n",
       "==============================================================================\n",
       "\n",
       "Notes:\n",
       "[1] Standard Errors assume that the covariance matrix of the errors is correctly specified.\n",
       "\"\"\""
      ]
     },
     "execution_count": 157,
     "metadata": {},
     "output_type": "execute_result"
    }
   ],
   "source": [
    "model.summary()"
   ]
  },
  {
   "cell_type": "code",
   "execution_count": 197,
   "metadata": {},
   "outputs": [
    {
     "data": {
      "text/plain": [
       "['HC0_se',\n",
       " 'HC1_se',\n",
       " 'HC2_se',\n",
       " 'HC3_se',\n",
       " '_HCCM',\n",
       " '__class__',\n",
       " '__delattr__',\n",
       " '__dict__',\n",
       " '__dir__',\n",
       " '__doc__',\n",
       " '__eq__',\n",
       " '__format__',\n",
       " '__ge__',\n",
       " '__getattribute__',\n",
       " '__gt__',\n",
       " '__hash__',\n",
       " '__init__',\n",
       " '__init_subclass__',\n",
       " '__le__',\n",
       " '__lt__',\n",
       " '__module__',\n",
       " '__ne__',\n",
       " '__new__',\n",
       " '__reduce__',\n",
       " '__reduce_ex__',\n",
       " '__repr__',\n",
       " '__setattr__',\n",
       " '__sizeof__',\n",
       " '__str__',\n",
       " '__subclasshook__',\n",
       " '__weakref__',\n",
       " '_abat_diagonal',\n",
       " '_cache',\n",
       " '_data_attr',\n",
       " '_data_in_cache',\n",
       " '_get_robustcov_results',\n",
       " '_is_nested',\n",
       " '_use_t',\n",
       " '_wexog_singular_values',\n",
       " 'aic',\n",
       " 'bic',\n",
       " 'bse',\n",
       " 'centered_tss',\n",
       " 'compare_f_test',\n",
       " 'compare_lm_test',\n",
       " 'compare_lr_test',\n",
       " 'condition_number',\n",
       " 'conf_int',\n",
       " 'conf_int_el',\n",
       " 'cov_HC0',\n",
       " 'cov_HC1',\n",
       " 'cov_HC2',\n",
       " 'cov_HC3',\n",
       " 'cov_kwds',\n",
       " 'cov_params',\n",
       " 'cov_type',\n",
       " 'df_model',\n",
       " 'df_resid',\n",
       " 'diagn',\n",
       " 'eigenvals',\n",
       " 'el_test',\n",
       " 'ess',\n",
       " 'f_pvalue',\n",
       " 'f_test',\n",
       " 'fittedvalues',\n",
       " 'fvalue',\n",
       " 'get_influence',\n",
       " 'get_prediction',\n",
       " 'get_robustcov_results',\n",
       " 'initialize',\n",
       " 'k_constant',\n",
       " 'llf',\n",
       " 'load',\n",
       " 'model',\n",
       " 'mse_model',\n",
       " 'mse_resid',\n",
       " 'mse_total',\n",
       " 'nobs',\n",
       " 'normalized_cov_params',\n",
       " 'outlier_test',\n",
       " 'params',\n",
       " 'predict',\n",
       " 'pvalues',\n",
       " 'remove_data',\n",
       " 'resid',\n",
       " 'resid_pearson',\n",
       " 'rsquared',\n",
       " 'rsquared_adj',\n",
       " 'save',\n",
       " 'scale',\n",
       " 'ssr',\n",
       " 'summary',\n",
       " 'summary2',\n",
       " 't_test',\n",
       " 't_test_pairwise',\n",
       " 'tvalues',\n",
       " 'uncentered_tss',\n",
       " 'use_t',\n",
       " 'wald_test',\n",
       " 'wald_test_terms',\n",
       " 'wresid']"
      ]
     },
     "execution_count": 197,
     "metadata": {},
     "output_type": "execute_result"
    }
   ],
   "source": [
    "dir(model)"
   ]
  },
  {
   "cell_type": "code",
   "execution_count": 178,
   "metadata": {},
   "outputs": [
    {
     "data": {
      "text/plain": [
       "82.9634195684371"
      ]
     },
     "execution_count": 178,
     "metadata": {},
     "output_type": "execute_result"
    }
   ],
   "source": [
    "model.mse_resid * 0.89 # df_resid = 100 - (10 + 1)"
   ]
  },
  {
   "cell_type": "code",
   "execution_count": 204,
   "metadata": {},
   "outputs": [
    {
     "data": {
      "text/plain": [
       "89.0"
      ]
     },
     "execution_count": 204,
     "metadata": {},
     "output_type": "execute_result"
    }
   ],
   "source": [
    "model.df_resid"
   ]
  },
  {
   "cell_type": "code",
   "execution_count": 198,
   "metadata": {},
   "outputs": [
    {
     "data": {
      "text/plain": [
       "array([ 1.62924158, -0.21072837, -1.90917999, -0.62144467, 15.8309503 ,\n",
       "        0.25274792,  0.70152564,  9.9316305 ,  0.48297844, -0.04027294,\n",
       "       -1.33661932])"
      ]
     },
     "execution_count": 198,
     "metadata": {},
     "output_type": "execute_result"
    }
   ],
   "source": [
    "model.params"
   ]
  },
  {
   "cell_type": "code",
   "execution_count": 205,
   "metadata": {},
   "outputs": [
    {
     "data": {
      "text/plain": [
       "array([0.98065315, 0.97731083, 1.069949  , 1.03062441, 1.1138768 ,\n",
       "       1.02061333, 1.02938573, 1.0284713 , 1.12997289, 1.09341037,\n",
       "       0.95952061])"
      ]
     },
     "execution_count": 205,
     "metadata": {},
     "output_type": "execute_result"
    }
   ],
   "source": [
    "model.bse"
   ]
  },
  {
   "cell_type": "code",
   "execution_count": 210,
   "metadata": {},
   "outputs": [
    {
     "data": {
      "text/html": [
       "<div>\n",
       "<style scoped>\n",
       "    .dataframe tbody tr th:only-of-type {\n",
       "        vertical-align: middle;\n",
       "    }\n",
       "\n",
       "    .dataframe tbody tr th {\n",
       "        vertical-align: top;\n",
       "    }\n",
       "\n",
       "    .dataframe thead th {\n",
       "        text-align: right;\n",
       "    }\n",
       "</style>\n",
       "<table border=\"1\" class=\"dataframe\">\n",
       "  <thead>\n",
       "    <tr style=\"text-align: right;\">\n",
       "      <th></th>\n",
       "      <th>mean</th>\n",
       "      <th>mean_se</th>\n",
       "      <th>mean_ci_lower</th>\n",
       "      <th>mean_ci_upper</th>\n",
       "      <th>obs_ci_lower</th>\n",
       "      <th>obs_ci_upper</th>\n",
       "    </tr>\n",
       "  </thead>\n",
       "  <tbody>\n",
       "    <tr>\n",
       "      <th>0</th>\n",
       "      <td>-16.092926</td>\n",
       "      <td>3.413048</td>\n",
       "      <td>-22.874580</td>\n",
       "      <td>-9.311272</td>\n",
       "      <td>-36.440425</td>\n",
       "      <td>4.254573</td>\n",
       "    </tr>\n",
       "    <tr>\n",
       "      <th>1</th>\n",
       "      <td>27.917592</td>\n",
       "      <td>3.572702</td>\n",
       "      <td>20.818710</td>\n",
       "      <td>35.016475</td>\n",
       "      <td>7.462178</td>\n",
       "      <td>48.373007</td>\n",
       "    </tr>\n",
       "    <tr>\n",
       "      <th>2</th>\n",
       "      <td>-5.747451</td>\n",
       "      <td>2.653753</td>\n",
       "      <td>-11.020401</td>\n",
       "      <td>-0.474501</td>\n",
       "      <td>-25.643025</td>\n",
       "      <td>14.148123</td>\n",
       "    </tr>\n",
       "    <tr>\n",
       "      <th>3</th>\n",
       "      <td>-3.637300</td>\n",
       "      <td>2.065404</td>\n",
       "      <td>-7.741213</td>\n",
       "      <td>0.466613</td>\n",
       "      <td>-23.255454</td>\n",
       "      <td>15.980854</td>\n",
       "    </tr>\n",
       "    <tr>\n",
       "      <th>4</th>\n",
       "      <td>-41.031950</td>\n",
       "      <td>3.575441</td>\n",
       "      <td>-48.136275</td>\n",
       "      <td>-33.927625</td>\n",
       "      <td>-61.489254</td>\n",
       "      <td>-20.574645</td>\n",
       "    </tr>\n",
       "    <tr>\n",
       "      <th>...</th>\n",
       "      <td>...</td>\n",
       "      <td>...</td>\n",
       "      <td>...</td>\n",
       "      <td>...</td>\n",
       "      <td>...</td>\n",
       "      <td>...</td>\n",
       "    </tr>\n",
       "    <tr>\n",
       "      <th>95</th>\n",
       "      <td>19.722866</td>\n",
       "      <td>4.109372</td>\n",
       "      <td>11.557632</td>\n",
       "      <td>27.888101</td>\n",
       "      <td>-1.126616</td>\n",
       "      <td>40.572349</td>\n",
       "    </tr>\n",
       "    <tr>\n",
       "      <th>96</th>\n",
       "      <td>16.733900</td>\n",
       "      <td>2.740890</td>\n",
       "      <td>11.287811</td>\n",
       "      <td>22.179989</td>\n",
       "      <td>-3.208260</td>\n",
       "      <td>36.676060</td>\n",
       "    </tr>\n",
       "    <tr>\n",
       "      <th>97</th>\n",
       "      <td>55.500509</td>\n",
       "      <td>3.956558</td>\n",
       "      <td>47.638914</td>\n",
       "      <td>63.362105</td>\n",
       "      <td>34.768058</td>\n",
       "      <td>76.232961</td>\n",
       "    </tr>\n",
       "    <tr>\n",
       "      <th>98</th>\n",
       "      <td>1.932421</td>\n",
       "      <td>1.893529</td>\n",
       "      <td>-1.829980</td>\n",
       "      <td>5.694823</td>\n",
       "      <td>-17.617145</td>\n",
       "      <td>21.481987</td>\n",
       "    </tr>\n",
       "    <tr>\n",
       "      <th>99</th>\n",
       "      <td>-10.588167</td>\n",
       "      <td>2.973718</td>\n",
       "      <td>-16.496881</td>\n",
       "      <td>-4.679452</td>\n",
       "      <td>-30.661601</td>\n",
       "      <td>9.485268</td>\n",
       "    </tr>\n",
       "  </tbody>\n",
       "</table>\n",
       "<p>100 rows × 6 columns</p>\n",
       "</div>"
      ],
      "text/plain": [
       "         mean   mean_se  mean_ci_lower  mean_ci_upper  obs_ci_lower  \\\n",
       "0  -16.092926  3.413048     -22.874580      -9.311272    -36.440425   \n",
       "1   27.917592  3.572702      20.818710      35.016475      7.462178   \n",
       "2   -5.747451  2.653753     -11.020401      -0.474501    -25.643025   \n",
       "3   -3.637300  2.065404      -7.741213       0.466613    -23.255454   \n",
       "4  -41.031950  3.575441     -48.136275     -33.927625    -61.489254   \n",
       "..        ...       ...            ...            ...           ...   \n",
       "95  19.722866  4.109372      11.557632      27.888101     -1.126616   \n",
       "96  16.733900  2.740890      11.287811      22.179989     -3.208260   \n",
       "97  55.500509  3.956558      47.638914      63.362105     34.768058   \n",
       "98   1.932421  1.893529      -1.829980       5.694823    -17.617145   \n",
       "99 -10.588167  2.973718     -16.496881      -4.679452    -30.661601   \n",
       "\n",
       "    obs_ci_upper  \n",
       "0       4.254573  \n",
       "1      48.373007  \n",
       "2      14.148123  \n",
       "3      15.980854  \n",
       "4     -20.574645  \n",
       "..           ...  \n",
       "95     40.572349  \n",
       "96     36.676060  \n",
       "97     76.232961  \n",
       "98     21.481987  \n",
       "99      9.485268  \n",
       "\n",
       "[100 rows x 6 columns]"
      ]
     },
     "execution_count": 210,
     "metadata": {},
     "output_type": "execute_result"
    }
   ],
   "source": [
    "model.get_prediction(sm.add_constant(X)).summary_frame()"
   ]
  },
  {
   "cell_type": "code",
   "execution_count": 179,
   "metadata": {},
   "outputs": [],
   "source": [
    "X_with_const = np.hstack((np.ones(X.shape[0]).reshape(-1, 1), X))"
   ]
  },
  {
   "cell_type": "code",
   "execution_count": 186,
   "metadata": {},
   "outputs": [],
   "source": [
    "prod = 0.89 * model.mse_resid*np.linalg.inv((X_with_const.T @ X_with_const))\n",
    "#prod"
   ]
  },
  {
   "cell_type": "code",
   "execution_count": 201,
   "metadata": {},
   "outputs": [
    {
     "data": {
      "text/plain": [
       "array([0.85589573, 0.85007145, 1.01886387, 0.94534615, 1.10424216,\n",
       "       0.9270699 , 0.94307514, 0.94140036, 1.13638647, 1.06403615,\n",
       "       0.81940502])"
      ]
     },
     "execution_count": 201,
     "metadata": {},
     "output_type": "execute_result"
    }
   ],
   "source": [
    "np.diag(prod, k=0)"
   ]
  },
  {
   "cell_type": "markdown",
   "metadata": {},
   "source": [
    "## Number of Polynomial Features\n",
    "\n",
    "For $n$ base features, choosing polynomial terms up to degree $m$, there should be a total of:\n",
    "\n",
    "$m\\choose 0$$n\\choose m$$+$$m\\choose 1$$n\\choose m-1$$+...+$$m\\choose m-1$$n\\choose 1$$+$$m\\choose m$$n\\choose 0$ polynomial features."
   ]
  },
  {
   "cell_type": "markdown",
   "metadata": {},
   "source": [
    "## `Number` Class"
   ]
  },
  {
   "cell_type": "code",
   "execution_count": 222,
   "metadata": {},
   "outputs": [],
   "source": [
    "class Number:\n",
    "    def __init__(self, value=1):\n",
    "        self.value = value\n",
    "    def double(self):\n",
    "        return 2*self.value"
   ]
  },
  {
   "cell_type": "code",
   "execution_count": 223,
   "metadata": {},
   "outputs": [],
   "source": [
    "four = Number(value=4)"
   ]
  },
  {
   "cell_type": "code",
   "execution_count": 224,
   "metadata": {},
   "outputs": [
    {
     "data": {
      "text/plain": [
       "8"
      ]
     },
     "execution_count": 224,
     "metadata": {},
     "output_type": "execute_result"
    }
   ],
   "source": [
    "four.double()"
   ]
  },
  {
   "cell_type": "markdown",
   "metadata": {},
   "source": [
    "## `pylogic`"
   ]
  },
  {
   "cell_type": "code",
   "execution_count": 232,
   "metadata": {},
   "outputs": [
    {
     "ename": "ImportError",
     "evalue": "cannot import name 'logic' from 'pylogic' (unknown location)",
     "output_type": "error",
     "traceback": [
      "\u001b[0;31m---------------------------------------------------------------------------\u001b[0m",
      "\u001b[0;31mImportError\u001b[0m                               Traceback (most recent call last)",
      "\u001b[0;32m<ipython-input-232-29891fedf227>\u001b[0m in \u001b[0;36m<module>\u001b[0;34m\u001b[0m\n\u001b[0;32m----> 1\u001b[0;31m \u001b[0;32mfrom\u001b[0m \u001b[0mpylogic\u001b[0m \u001b[0;32mimport\u001b[0m \u001b[0mlogic\u001b[0m\u001b[0;34m\u001b[0m\u001b[0;34m\u001b[0m\u001b[0m\n\u001b[0m",
      "\u001b[0;31mImportError\u001b[0m: cannot import name 'logic' from 'pylogic' (unknown location)"
     ]
    }
   ],
   "source": [
    "from pylogic import logic"
   ]
  },
  {
   "cell_type": "code",
   "execution_count": 231,
   "metadata": {},
   "outputs": [
    {
     "ename": "AttributeError",
     "evalue": "module 'pylogic' has no attribute 'src'",
     "output_type": "error",
     "traceback": [
      "\u001b[0;31m---------------------------------------------------------------------------\u001b[0m",
      "\u001b[0;31mAttributeError\u001b[0m                            Traceback (most recent call last)",
      "\u001b[0;32m<ipython-input-231-1ca7e5863a1a>\u001b[0m in \u001b[0;36m<module>\u001b[0;34m\u001b[0m\n\u001b[0;32m----> 1\u001b[0;31m \u001b[0mpylogic\u001b[0m\u001b[0;34m.\u001b[0m\u001b[0msrc\u001b[0m\u001b[0;34m.\u001b[0m\u001b[0mlogic\u001b[0m\u001b[0;34m\u001b[0m\u001b[0;34m\u001b[0m\u001b[0m\n\u001b[0m",
      "\u001b[0;31mAttributeError\u001b[0m: module 'pylogic' has no attribute 'src'"
     ]
    }
   ],
   "source": [
    "pylogic.src.logic"
   ]
  },
  {
   "cell_type": "markdown",
   "metadata": {},
   "source": [
    "## pthenq"
   ]
  },
  {
   "cell_type": "code",
   "execution_count": 236,
   "metadata": {},
   "outputs": [],
   "source": [
    "premises = ['A&B', 'AvB', '~A']"
   ]
  },
  {
   "cell_type": "code",
   "execution_count": 240,
   "metadata": {},
   "outputs": [
    {
     "name": "stdout",
     "output_type": "stream",
     "text": [
      "A\n",
      "B\n",
      "B\n"
     ]
    }
   ],
   "source": [
    "conclusions = []\n",
    "for prem in premises:\n",
    "    if '&' in prem:\n",
    "        num = prem.index('&')\n",
    "        print(prem[:num])\n",
    "        print(prem[num+1:])\n",
    "        conclusions.append(prem[:num])\n",
    "        conclusions.append(prem[num+1:])\n",
    "    elif 'v' in prem:\n",
    "        num = prem.index('v')\n",
    "        if f'~{prem[:num]}' in premises:\n",
    "            print(prem[num+1:])\n",
    "            conclusions.append(prem[num+1:])\n",
    "        if f'~{prem[num+1:]}' in premises:\n",
    "            print(prem[:num])\n",
    "            conclusions.append(prem[:num])"
   ]
  },
  {
   "cell_type": "code",
   "execution_count": 245,
   "metadata": {},
   "outputs": [
    {
     "name": "stdout",
     "output_type": "stream",
     "text": [
      "0 p\n",
      "1 o\n",
      "2 p\n"
     ]
    }
   ],
   "source": [
    "for ind, char in enumerate('pop'):\n",
    "    print(ind, char)"
   ]
  },
  {
   "cell_type": "code",
   "execution_count": 258,
   "metadata": {},
   "outputs": [],
   "source": [
    "def main_connective(wff):\n",
    "    conns = {}\n",
    "    for ind, char in enumerate(wff):\n",
    "        if char in ['~', '&', 'v', '>']:\n",
    "            conns[ind] = char\n",
    "    for num in conns:\n",
    "        if wff[:num].count('(') == wff[:num].count(')'):\n",
    "            if conns[num] == '~':\n",
    "                out = (num, conns[num])\n",
    "            else:\n",
    "                return (num, conns[num])\n",
    "        return out"
   ]
  },
  {
   "cell_type": "code",
   "execution_count": 259,
   "metadata": {},
   "outputs": [
    {
     "data": {
      "text/plain": [
       "(1, '&')"
      ]
     },
     "execution_count": 259,
     "metadata": {},
     "output_type": "execute_result"
    }
   ],
   "source": [
    "main_connective('A&B')"
   ]
  },
  {
   "cell_type": "code",
   "execution_count": 260,
   "metadata": {},
   "outputs": [
    {
     "data": {
      "text/plain": [
       "(0, '~')"
      ]
     },
     "execution_count": 260,
     "metadata": {},
     "output_type": "execute_result"
    }
   ],
   "source": [
    "main_connective('~((A&B))v(C&D)')"
   ]
  },
  {
   "cell_type": "code",
   "execution_count": 262,
   "metadata": {},
   "outputs": [
    {
     "data": {
      "text/plain": [
       "(0, '~')"
      ]
     },
     "execution_count": 262,
     "metadata": {},
     "output_type": "execute_result"
    }
   ],
   "source": [
    "main_connective('~(~((A&B))v~(~((CvD))))')"
   ]
  },
  {
   "cell_type": "code",
   "execution_count": 274,
   "metadata": {},
   "outputs": [],
   "source": [
    "premises = ['a', 'b']\n",
    "\n",
    "prem_set = set(premises)\n",
    "\n",
    "for j in range(len(premises)):\n",
    "    prem_set.add(f'~({premises[j]})')\n",
    "    for k in range(len(premises)):\n",
    "        prem_set.add(f'{premises[j]}&{premises[k]}')\n",
    "        prem_set.add(f'{premises[j]}v{premises[k]}')\n",
    "        prem_set.add(f'{premises[j]}>{premises[k]}')"
   ]
  },
  {
   "cell_type": "code",
   "execution_count": 275,
   "metadata": {},
   "outputs": [
    {
     "data": {
      "text/plain": [
       "{'a',\n",
       " 'a&a',\n",
       " 'a&b',\n",
       " 'a>a',\n",
       " 'a>b',\n",
       " 'ava',\n",
       " 'avb',\n",
       " 'b',\n",
       " 'b&a',\n",
       " 'b&b',\n",
       " 'b>a',\n",
       " 'b>b',\n",
       " 'bva',\n",
       " 'bvb',\n",
       " '~(a)',\n",
       " '~(b)'}"
      ]
     },
     "execution_count": 275,
     "metadata": {},
     "output_type": "execute_result"
    }
   ],
   "source": [
    "prem_set"
   ]
  },
  {
   "cell_type": "code",
   "execution_count": 336,
   "metadata": {},
   "outputs": [],
   "source": [
    "np.random.seed(42)\n",
    "df = pd.DataFrame(np.random.rand(100, 1))"
   ]
  },
  {
   "cell_type": "code",
   "execution_count": 337,
   "metadata": {},
   "outputs": [],
   "source": [
    "first = np.percentile(df, 25)\n",
    "second = np.percentile(df, 50)\n",
    "third = np.percentile(df, 75)"
   ]
  },
  {
   "cell_type": "code",
   "execution_count": 338,
   "metadata": {},
   "outputs": [],
   "source": [
    "def get_quartile(x):\n",
    "    if x < first:\n",
    "        return 1\n",
    "    elif x < second:\n",
    "        return 2\n",
    "    elif x < third:\n",
    "        return 3\n",
    "    else: return 4"
   ]
  },
  {
   "cell_type": "code",
   "execution_count": 339,
   "metadata": {},
   "outputs": [],
   "source": [
    "df['quartile'] = df[0].map(get_quartile)"
   ]
  },
  {
   "cell_type": "code",
   "execution_count": 340,
   "metadata": {},
   "outputs": [
    {
     "data": {
      "text/html": [
       "<div>\n",
       "<style scoped>\n",
       "    .dataframe tbody tr th:only-of-type {\n",
       "        vertical-align: middle;\n",
       "    }\n",
       "\n",
       "    .dataframe tbody tr th {\n",
       "        vertical-align: top;\n",
       "    }\n",
       "\n",
       "    .dataframe thead th {\n",
       "        text-align: right;\n",
       "    }\n",
       "</style>\n",
       "<table border=\"1\" class=\"dataframe\">\n",
       "  <thead>\n",
       "    <tr style=\"text-align: right;\">\n",
       "      <th></th>\n",
       "      <th>0</th>\n",
       "      <th>quartile</th>\n",
       "    </tr>\n",
       "  </thead>\n",
       "  <tbody>\n",
       "    <tr>\n",
       "      <th>0</th>\n",
       "      <td>0.374540</td>\n",
       "      <td>2</td>\n",
       "    </tr>\n",
       "    <tr>\n",
       "      <th>1</th>\n",
       "      <td>0.950714</td>\n",
       "      <td>4</td>\n",
       "    </tr>\n",
       "    <tr>\n",
       "      <th>2</th>\n",
       "      <td>0.731994</td>\n",
       "      <td>4</td>\n",
       "    </tr>\n",
       "    <tr>\n",
       "      <th>3</th>\n",
       "      <td>0.598658</td>\n",
       "      <td>3</td>\n",
       "    </tr>\n",
       "    <tr>\n",
       "      <th>4</th>\n",
       "      <td>0.156019</td>\n",
       "      <td>1</td>\n",
       "    </tr>\n",
       "  </tbody>\n",
       "</table>\n",
       "</div>"
      ],
      "text/plain": [
       "          0  quartile\n",
       "0  0.374540         2\n",
       "1  0.950714         4\n",
       "2  0.731994         4\n",
       "3  0.598658         3\n",
       "4  0.156019         1"
      ]
     },
     "execution_count": 340,
     "metadata": {},
     "output_type": "execute_result"
    }
   ],
   "source": [
    "df.head()"
   ]
  },
  {
   "cell_type": "code",
   "execution_count": 341,
   "metadata": {},
   "outputs": [
    {
     "data": {
      "text/plain": [
       "array([2., 4., 3., 3., 1., 1., 1., 4., 3., 3., 1., 4., 4., 2., 1., 1., 2.,\n",
       "       3., 2., 2., 3., 1., 2., 2., 2., 4., 2., 3., 3., 1., 3., 1., 1., 4.,\n",
       "       4., 4., 2., 1., 3., 2., 1., 3., 1., 4., 2., 3., 2., 3., 3., 1., 4.,\n",
       "       4., 4., 4., 3., 4., 1., 1., 1., 2., 2., 2., 4., 2., 2., 3., 1., 4.,\n",
       "       1., 4., 4., 2., 1., 4., 3., 3., 4., 1., 2., 1., 4., 3., 2., 1., 2.,\n",
       "       2., 3., 3., 4., 3., 1., 3., 4., 3., 4., 3., 3., 2., 1., 1.])"
      ]
     },
     "execution_count": 341,
     "metadata": {},
     "output_type": "execute_result"
    }
   ],
   "source": [
    "preds[:, 0].round()"
   ]
  },
  {
   "cell_type": "code",
   "execution_count": 342,
   "metadata": {},
   "outputs": [
    {
     "data": {
      "text/plain": [
       "array([1., 2., 3., 4.])"
      ]
     },
     "execution_count": 342,
     "metadata": {},
     "output_type": "execute_result"
    }
   ],
   "source": [
    "np.unique(preds.round())"
   ]
  },
  {
   "cell_type": "code",
   "execution_count": 343,
   "metadata": {},
   "outputs": [],
   "source": [
    "new_df = pd.DataFrame(preds[:, 0], columns=['preds'], index=range(100, 200))"
   ]
  },
  {
   "cell_type": "code",
   "execution_count": 344,
   "metadata": {},
   "outputs": [],
   "source": [
    "df['preds'] = np.nan"
   ]
  },
  {
   "cell_type": "code",
   "execution_count": 345,
   "metadata": {},
   "outputs": [],
   "source": [
    "df['preds'] = new_df['preds'].values"
   ]
  },
  {
   "cell_type": "code",
   "execution_count": 346,
   "metadata": {},
   "outputs": [
    {
     "data": {
      "text/html": [
       "<div>\n",
       "<style scoped>\n",
       "    .dataframe tbody tr th:only-of-type {\n",
       "        vertical-align: middle;\n",
       "    }\n",
       "\n",
       "    .dataframe tbody tr th {\n",
       "        vertical-align: top;\n",
       "    }\n",
       "\n",
       "    .dataframe thead th {\n",
       "        text-align: right;\n",
       "    }\n",
       "</style>\n",
       "<table border=\"1\" class=\"dataframe\">\n",
       "  <thead>\n",
       "    <tr style=\"text-align: right;\">\n",
       "      <th></th>\n",
       "      <th>0</th>\n",
       "      <th>quartile</th>\n",
       "      <th>preds</th>\n",
       "    </tr>\n",
       "  </thead>\n",
       "  <tbody>\n",
       "    <tr>\n",
       "      <th>0</th>\n",
       "      <td>0.374540</td>\n",
       "      <td>2</td>\n",
       "      <td>2.149946</td>\n",
       "    </tr>\n",
       "    <tr>\n",
       "      <th>1</th>\n",
       "      <td>0.950714</td>\n",
       "      <td>4</td>\n",
       "      <td>4.258798</td>\n",
       "    </tr>\n",
       "    <tr>\n",
       "      <th>2</th>\n",
       "      <td>0.731994</td>\n",
       "      <td>4</td>\n",
       "      <td>3.458261</td>\n",
       "    </tr>\n",
       "    <tr>\n",
       "      <th>3</th>\n",
       "      <td>0.598658</td>\n",
       "      <td>3</td>\n",
       "      <td>2.970241</td>\n",
       "    </tr>\n",
       "    <tr>\n",
       "      <th>4</th>\n",
       "      <td>0.156019</td>\n",
       "      <td>1</td>\n",
       "      <td>1.350137</td>\n",
       "    </tr>\n",
       "    <tr>\n",
       "      <th>...</th>\n",
       "      <td>...</td>\n",
       "      <td>...</td>\n",
       "      <td>...</td>\n",
       "    </tr>\n",
       "    <tr>\n",
       "      <th>95</th>\n",
       "      <td>0.493796</td>\n",
       "      <td>3</td>\n",
       "      <td>2.586433</td>\n",
       "    </tr>\n",
       "    <tr>\n",
       "      <th>96</th>\n",
       "      <td>0.522733</td>\n",
       "      <td>3</td>\n",
       "      <td>2.692346</td>\n",
       "    </tr>\n",
       "    <tr>\n",
       "      <th>97</th>\n",
       "      <td>0.427541</td>\n",
       "      <td>2</td>\n",
       "      <td>2.343935</td>\n",
       "    </tr>\n",
       "    <tr>\n",
       "      <th>98</th>\n",
       "      <td>0.025419</td>\n",
       "      <td>1</td>\n",
       "      <td>0.872131</td>\n",
       "    </tr>\n",
       "    <tr>\n",
       "      <th>99</th>\n",
       "      <td>0.107891</td>\n",
       "      <td>1</td>\n",
       "      <td>1.173987</td>\n",
       "    </tr>\n",
       "  </tbody>\n",
       "</table>\n",
       "<p>100 rows × 3 columns</p>\n",
       "</div>"
      ],
      "text/plain": [
       "           0  quartile     preds\n",
       "0   0.374540         2  2.149946\n",
       "1   0.950714         4  4.258798\n",
       "2   0.731994         4  3.458261\n",
       "3   0.598658         3  2.970241\n",
       "4   0.156019         1  1.350137\n",
       "..       ...       ...       ...\n",
       "95  0.493796         3  2.586433\n",
       "96  0.522733         3  2.692346\n",
       "97  0.427541         2  2.343935\n",
       "98  0.025419         1  0.872131\n",
       "99  0.107891         1  1.173987\n",
       "\n",
       "[100 rows x 3 columns]"
      ]
     },
     "execution_count": 346,
     "metadata": {},
     "output_type": "execute_result"
    }
   ],
   "source": [
    "df"
   ]
  },
  {
   "cell_type": "code",
   "execution_count": 349,
   "metadata": {},
   "outputs": [
    {
     "data": {
      "text/plain": [
       "'nan'"
      ]
     },
     "execution_count": 349,
     "metadata": {},
     "output_type": "execute_result"
    }
   ],
   "source": [
    "str(np.nan)"
   ]
  },
  {
   "cell_type": "code",
   "execution_count": 1,
   "metadata": {},
   "outputs": [
    {
     "ename": "AttributeError",
     "evalue": "module 'google.protobuf.descriptor' has no attribute '_internal_create_key'",
     "output_type": "error",
     "traceback": [
      "\u001b[0;31m---------------------------------------------------------------------------\u001b[0m",
      "\u001b[0;31mAttributeError\u001b[0m                            Traceback (most recent call last)",
      "\u001b[0;32m<ipython-input-1-1aa3dc4fa683>\u001b[0m in \u001b[0;36m<module>\u001b[0;34m\u001b[0m\n\u001b[0;32m----> 1\u001b[0;31m \u001b[0;32mimport\u001b[0m \u001b[0mstreamlit\u001b[0m \u001b[0;32mas\u001b[0m \u001b[0mst\u001b[0m\u001b[0;34m\u001b[0m\u001b[0;34m\u001b[0m\u001b[0m\n\u001b[0m",
      "\u001b[0;32m~/anaconda3/lib/python3.7/site-packages/streamlit/__init__.py\u001b[0m in \u001b[0;36m<module>\u001b[0;34m\u001b[0m\n\u001b[1;32m     47\u001b[0m \u001b[0;32mfrom\u001b[0m \u001b[0mstreamlit\u001b[0m \u001b[0;32mimport\u001b[0m \u001b[0mconfig\u001b[0m \u001b[0;32mas\u001b[0m \u001b[0m_config\u001b[0m\u001b[0;34m\u001b[0m\u001b[0;34m\u001b[0m\u001b[0m\n\u001b[1;32m     48\u001b[0m \u001b[0;32mfrom\u001b[0m \u001b[0mstreamlit\u001b[0m\u001b[0;34m.\u001b[0m\u001b[0mbeta_util\u001b[0m \u001b[0;32mimport\u001b[0m \u001b[0mobject_beta_warning\u001b[0m\u001b[0;34m\u001b[0m\u001b[0;34m\u001b[0m\u001b[0m\n\u001b[0;32m---> 49\u001b[0;31m \u001b[0;32mfrom\u001b[0m \u001b[0mstreamlit\u001b[0m\u001b[0;34m.\u001b[0m\u001b[0mproto\u001b[0m\u001b[0;34m.\u001b[0m\u001b[0mRootContainer_pb2\u001b[0m \u001b[0;32mimport\u001b[0m \u001b[0mRootContainer\u001b[0m\u001b[0;34m\u001b[0m\u001b[0;34m\u001b[0m\u001b[0m\n\u001b[0m\u001b[1;32m     50\u001b[0m \u001b[0;32mfrom\u001b[0m \u001b[0mstreamlit\u001b[0m\u001b[0;34m.\u001b[0m\u001b[0msecrets\u001b[0m \u001b[0;32mimport\u001b[0m \u001b[0mSecrets\u001b[0m\u001b[0;34m,\u001b[0m \u001b[0mSECRETS_FILE_LOC\u001b[0m\u001b[0;34m\u001b[0m\u001b[0;34m\u001b[0m\u001b[0m\n\u001b[1;32m     51\u001b[0m \u001b[0;34m\u001b[0m\u001b[0m\n",
      "\u001b[0;32m~/anaconda3/lib/python3.7/site-packages/streamlit/proto/RootContainer_pb2.py\u001b[0m in \u001b[0;36m<module>\u001b[0;34m\u001b[0m\n\u001b[1;32m     20\u001b[0m   \u001b[0msyntax\u001b[0m\u001b[0;34m=\u001b[0m\u001b[0;34m'proto3'\u001b[0m\u001b[0;34m,\u001b[0m\u001b[0;34m\u001b[0m\u001b[0;34m\u001b[0m\u001b[0m\n\u001b[1;32m     21\u001b[0m   \u001b[0mserialized_options\u001b[0m\u001b[0;34m=\u001b[0m\u001b[0;32mNone\u001b[0m\u001b[0;34m,\u001b[0m\u001b[0;34m\u001b[0m\u001b[0;34m\u001b[0m\u001b[0m\n\u001b[0;32m---> 22\u001b[0;31m   \u001b[0mcreate_key\u001b[0m\u001b[0;34m=\u001b[0m\u001b[0m_descriptor\u001b[0m\u001b[0;34m.\u001b[0m\u001b[0m_internal_create_key\u001b[0m\u001b[0;34m,\u001b[0m\u001b[0;34m\u001b[0m\u001b[0;34m\u001b[0m\u001b[0m\n\u001b[0m\u001b[1;32m     23\u001b[0m   \u001b[0mserialized_pb\u001b[0m\u001b[0;34m=\u001b[0m\u001b[0;34mb'\\n#streamlit/proto/RootContainer.proto*&\\n\\rRootContainer\\x12\\x08\\n\\x04MAIN\\x10\\x00\\x12\\x0b\\n\\x07SIDEBAR\\x10\\x01\\x62\\x06proto3'\u001b[0m\u001b[0;34m\u001b[0m\u001b[0;34m\u001b[0m\u001b[0m\n\u001b[1;32m     24\u001b[0m )\n",
      "\u001b[0;31mAttributeError\u001b[0m: module 'google.protobuf.descriptor' has no attribute '_internal_create_key'"
     ]
    }
   ],
   "source": [
    "import streamlit as st"
   ]
  },
  {
   "cell_type": "markdown",
   "metadata": {},
   "source": [
    "## MH Possibilities\n",
    "\n",
    "I choose Door \\#1. Likelihoods that MH opens Door *n*, conditional on the hypothesis that the prize is behind Door *m*:\n",
    "\n",
    "$\\downarrow$ m (Prize) \\|$\\rightarrow$ n (Opened) | 1 | 2 | 3\n",
    "- | - | - | -\n",
    "1 | 0 | $\\frac{1}{2}$ | $\\frac{1}{2}$\n",
    "2 | 0 | 0 | 1\n",
    "3 | 0 | 1 | 0"
   ]
  },
  {
   "cell_type": "markdown",
   "metadata": {},
   "source": [
    "**Hypotheses**:\n",
    "- $h_1$: The prize is behind Door \\#1.\n",
    "- $h_2$: The prize is behind Door \\#2.\n",
    "- $h_3$: The prize is behind Door \\#3."
   ]
  },
  {
   "cell_type": "markdown",
   "metadata": {},
   "source": [
    "**Evidence**:\n",
    "- $e_1$: MH opens Door \\#1.\n",
    "- $e_2$: MH opens Door \\#2.\n",
    "- $e_3$: MH opens Door \\#3."
   ]
  },
  {
   "cell_type": "markdown",
   "metadata": {},
   "source": [
    "**Priors**:\n",
    "- $P(h_1) = 1/3$\n",
    "- $P(h_2) = 1/3$\n",
    "- $P(h_3) = 1/3$"
   ]
  },
  {
   "cell_type": "markdown",
   "metadata": {},
   "source": [
    "**Likelihoods**:\n",
    "- $P(e_1 | h_1) = 0$\n",
    "- $P(e_1 | h_2) = 0$\n",
    "- $P(e_1 | h_3) = 0$\n",
    "- $P(e_2 | h_1) = \\frac{1}{2}$\n",
    "- $P(e_2 | h_2) = 0$\n",
    "- $P(e_2 | h_3) = 1$\n",
    "- $P(e_3 | h_1) = \\frac{1}{2}$\n",
    "- $P(e_3 | h_2) = 1$\n",
    "- $P(e_3 | h_3) = 0$"
   ]
  },
  {
   "cell_type": "markdown",
   "metadata": {},
   "source": [
    "**P(e)**:\n",
    "- $P(e_1) = P(e_1|h_1)P(h_1) + P(e_1|h_2)P(h_2) + P(e_1|h_3)P(h_3) = 0 + 0 + 0 = 0$\n",
    "- $P(e_2) = P(e_2|h_1)P(h_1) + P(e_2|h_2)P(h_2) + P(e_2|h_3)P(h_3) = \\left(\\frac{1}{2}\\right)\\left(\\frac{1}{3}\\right) + 0 + \\frac{1}{3} = \\frac{1}{2}$\n",
    "- $P(e_3) = P(e_3|h_1)P(h_1) + P(e_3|h_2)P(h_2) + P(e_3|h_3)P(h_3) = \\left(\\frac{1}{2}\\right)\\left(\\frac{1}{3}\\right) + \\frac{1}{3} + 0 = \\frac{1}{2}$"
   ]
  },
  {
   "cell_type": "markdown",
   "metadata": {},
   "source": [
    "**Posteriors**:\n",
    "- $P(h_1|e_1) = \\frac{P(h_1)P(e_1|h_1)}{P(e_1)} = 0$\n",
    "- $P(h_1|e_2) = \\frac{P(h_1)P(e_2|h_1)}{P(e_2)} = \\frac{\\left(\\frac{1}{3}\\right)\\left(\\frac{1}{2}\\right)}{\\frac{1}{2}} = \\frac{1}{3}$\n",
    "- $P(h_1|e_3) = \\frac{P(h_1)P(e_3|h_1)}{P(e_3)} = \\frac{\\left(\\frac{1}{3}\\right)\\left(\\frac{1}{2}\\right)}{\\frac{1}{2}} = \\frac{1}{3}$\n",
    "- $P(h_2|e_1) = \\frac{P(h_2)P(e_1|h_2)}{P(e_2)} = 0$\n",
    "- $P(h_2|e_2) = \\frac{P(h_2)P(e_2|h_2)}{P(e_2)} = 0$\n",
    "- $P(h_2|e_3) = \\frac{P(h_2)P(e_3|h_2)}{P(e_3)} = \\frac{\\frac{1}{3}}{\\frac{1}{2}} = \\frac{2}{3}$\n",
    "- $P(h_3|e_1) = \\frac{P(h_3)P(e_1|h_3)}{P(e_1)} = 0$\n",
    "- $P(h_3|e_2) = \\frac{P(h_3)P(e_2|h_3)}{P(e_2)} = \\frac{\\frac{1}{3}}{\\frac{1}{2}} = \\frac{2}{3}$\n",
    "- $P(h_3|e_3) = \\frac{P(h_3)P(e_3|h_3)}{P(e_3)} = 0$"
   ]
  },
  {
   "cell_type": "markdown",
   "metadata": {},
   "source": [
    "## Generate all possible sequences with a set of choices at each step"
   ]
  },
  {
   "cell_type": "code",
   "execution_count": 55,
   "metadata": {},
   "outputs": [],
   "source": [
    "def sequences(arr):\n",
    "    \"\"\"\n",
    "    We assume that we want to build a sequence of characters\n",
    "    of a given length where we have a set of choices for each\n",
    "    position in the sequence. This function generates all possible\n",
    "    such sequences. The function assumes that all choice sets have\n",
    "    the same length.\n",
    "    \n",
    "    Example\n",
    "    --------\n",
    "    \n",
    "    sequences(['ab', 'cd']) = ['ac', 'ad', 'bc', 'bd']\n",
    "    \n",
    "    \"\"\"\n",
    "    \n",
    "    import itertools as it\n",
    "    import numpy as np\n",
    "    \n",
    "    out = []\n",
    "    j = len(arr)\n",
    "    k = len(arr[0])\n",
    "    \n",
    "    seqs = np.char.array([np.zeros(j) for _ in range(k**j)])\n",
    "    \n",
    "    for num, elem in enumerate(arr):\n",
    "        seq = []\n",
    "        \n",
    "        while len(seq) != k**j:\n",
    "            for opt in range(k):\n",
    "                seq.extend(list(it.repeat(elem[opt], k**(j-num-1))))\n",
    "\n",
    "        seqs[:, num] = np.char.array(seq)\n",
    "    \n",
    "    return [''.join(seq) for seq in seqs.astype(str)]"
   ]
  },
  {
   "cell_type": "code",
   "execution_count": 21,
   "metadata": {},
   "outputs": [
    {
     "data": {
      "text/plain": [
       "['a', 'a', 'a']"
      ]
     },
     "execution_count": 21,
     "metadata": {},
     "output_type": "execute_result"
    }
   ],
   "source": [
    "list(itertools.repeat('a', 3))"
   ]
  },
  {
   "cell_type": "code",
   "execution_count": 28,
   "metadata": {},
   "outputs": [],
   "source": [
    "#len(sequences(['abt', 'act', 'adt', 'bct', 'bdt', 'cdt']))"
   ]
  },
  {
   "cell_type": "code",
   "execution_count": 56,
   "metadata": {},
   "outputs": [
    {
     "data": {
      "text/plain": [
       "['aab',\n",
       " 'aac',\n",
       " 'aat',\n",
       " 'acb',\n",
       " 'acc',\n",
       " 'act',\n",
       " 'atb',\n",
       " 'atc',\n",
       " 'att',\n",
       " 'bab',\n",
       " 'bac',\n",
       " 'bat',\n",
       " 'bcb',\n",
       " 'bcc',\n",
       " 'bct',\n",
       " 'btb',\n",
       " 'btc',\n",
       " 'btt',\n",
       " 'tab',\n",
       " 'tac',\n",
       " 'tat',\n",
       " 'tcb',\n",
       " 'tcc',\n",
       " 'tct',\n",
       " 'ttb',\n",
       " 'ttc',\n",
       " 'ttt']"
      ]
     },
     "execution_count": 56,
     "metadata": {},
     "output_type": "execute_result"
    }
   ],
   "source": [
    "sequences(['abt', 'act', 'bct'])"
   ]
  },
  {
   "cell_type": "markdown",
   "metadata": {},
   "source": [
    "## Random Art"
   ]
  },
  {
   "cell_type": "code",
   "execution_count": 69,
   "metadata": {},
   "outputs": [],
   "source": [
    "from matplotlib import pyplot as plt, cm"
   ]
  },
  {
   "cell_type": "code",
   "execution_count": 60,
   "metadata": {},
   "outputs": [
    {
     "data": {
      "image/png": "[encoded data removed]",
      "text/plain": [
       "<Figure size 432x288 with 1 Axes>"
      ]
     },
     "metadata": {
      "needs_background": "light"
     },
     "output_type": "display_data"
    },
    {
     "data": {
      "image/png": "[encoded data removed]",
      "text/plain": [
       "<Figure size 432x288 with 1 Axes>"
      ]
     },
     "metadata": {
      "needs_background": "light"
     },
     "output_type": "display_data"
    },
    {
     "data": {
      "image/png": "[encoded data removed]",
      "text/plain": [
       "<Figure size 432x288 with 1 Axes>"
      ]
     },
     "metadata": {
      "needs_background": "light"
     },
     "output_type": "display_data"
    },
    {
     "data": {
      "image/png": "[encoded data removed]",
      "text/plain": [
       "<Figure size 432x288 with 1 Axes>"
      ]
     },
     "metadata": {
      "needs_background": "light"
     },
     "output_type": "display_data"
    },
    {
     "data": {
      "image/png": "[encoded data removed]",
      "text/plain": [
       "<Figure size 432x288 with 1 Axes>"
      ]
     },
     "metadata": {
      "needs_background": "light"
     },
     "output_type": "display_data"
    },
    {
     "data": {
      "image/png": "[encoded data removed]",
      "text/plain": [
       "<Figure size 432x288 with 1 Axes>"
      ]
     },
     "metadata": {
      "needs_background": "light"
     },
     "output_type": "display_data"
    },
    {
     "data": {
      "image/png": "[encoded data removed]",
      "text/plain": [
       "<Figure size 432x288 with 1 Axes>"
      ]
     },
     "metadata": {
      "needs_background": "light"
     },
     "output_type": "display_data"
    },
    {
     "data": {
      "image/png": "[encoded data removed]",
      "text/plain": [
       "<Figure size 432x288 with 1 Axes>"
      ]
     },
     "metadata": {
      "needs_background": "light"
     },
     "output_type": "display_data"
    },
    {
     "data": {
      "image/png": "[encoded data removed]",
      "text/plain": [
       "<Figure size 432x288 with 1 Axes>"
      ]
     },
     "metadata": {
      "needs_background": "light"
     },
     "output_type": "display_data"
    },
    {
     "data": {
      "image/png": "[encoded data removed]",
      "text/plain": [
       "<Figure size 432x288 with 1 Axes>"
      ]
     },
     "metadata": {
      "needs_background": "light"
     },
     "output_type": "display_data"
    }
   ],
   "source": [
    "for _ in range(10):\n",
    "\n",
    "    arr = np.random.rand(8, 8)\n",
    "    plt.imshow(arr)\n",
    "    plt.show()"
   ]
  },
  {
   "cell_type": "code",
   "execution_count": 73,
   "metadata": {},
   "outputs": [
    {
     "data": {
      "image/png": "[encoded data removed]",
      "text/plain": [
       "<Figure size 432x288 with 1 Axes>"
      ]
     },
     "metadata": {
      "needs_background": "light"
     },
     "output_type": "display_data"
    }
   ],
   "source": [
    "arr = 100*np.random.rand(100, 100)\n",
    "plt.imshow(arr, cmap=cm.rainbow);"
   ]
  },
  {
   "cell_type": "code",
   "execution_count": 77,
   "metadata": {},
   "outputs": [],
   "source": [
    "arrs = [np.zeros((3, 3)) for _ in range(3)]\n",
    "\n",
    "for j in range(len(arrs)):\n",
    "    arrs[j][1, j] = 1"
   ]
  },
  {
   "cell_type": "code",
   "execution_count": 78,
   "metadata": {},
   "outputs": [
    {
     "data": {
      "image/png": "[encoded data removed]",
      "text/plain": [
       "<Figure size 432x288 with 1 Axes>"
      ]
     },
     "metadata": {
      "needs_background": "light"
     },
     "output_type": "display_data"
    },
    {
     "data": {
      "image/png": "[encoded data removed]",
      "text/plain": [
       "<Figure size 432x288 with 1 Axes>"
      ]
     },
     "metadata": {
      "needs_background": "light"
     },
     "output_type": "display_data"
    },
    {
     "data": {
      "image/png": "[encoded data removed]",
      "text/plain": [
       "<Figure size 432x288 with 1 Axes>"
      ]
     },
     "metadata": {
      "needs_background": "light"
     },
     "output_type": "display_data"
    }
   ],
   "source": [
    "for arr in arrs:\n",
    "    plt.imshow(arr)\n",
    "    plt.show()"
   ]
  },
  {
   "cell_type": "markdown",
   "metadata": {},
   "source": [
    "## Von Neumann Succession"
   ]
  },
  {
   "cell_type": "code",
   "execution_count": 90,
   "metadata": {},
   "outputs": [],
   "source": [
    "vn0 = set()\n",
    "\n",
    "def vn_succ(ord_):\n",
    "    return ord_.union({ord_})"
   ]
  },
  {
   "cell_type": "code",
   "execution_count": 98,
   "metadata": {},
   "outputs": [
    {
     "ename": "TypeError",
     "evalue": "unhashable type: 'set'",
     "output_type": "error",
     "traceback": [
      "\u001b[0;31m--------------------------------------------------\u001b[0m",
      "\u001b[0;31mTypeError\u001b[0m        Traceback (most recent call last)",
      "\u001b[0;32m<ipython-input-98-635010f33edb>\u001b[0m in \u001b[0;36m<module>\u001b[0;34m\u001b[0m\n\u001b[0;32m----> 1\u001b[0;31m \u001b[0mvn_succ\u001b[0m\u001b[0;34m(\u001b[0m\u001b[0mvn0\u001b[0m\u001b[0;34m)\u001b[0m\u001b[0;34m\u001b[0m\u001b[0;34m\u001b[0m\u001b[0m\n\u001b[0m",
      "\u001b[0;32m<ipython-input-90-363453a492b9>\u001b[0m in \u001b[0;36mvn_succ\u001b[0;34m(ord_)\u001b[0m\n\u001b[1;32m      2\u001b[0m \u001b[0;34m\u001b[0m\u001b[0m\n\u001b[1;32m      3\u001b[0m \u001b[0;32mdef\u001b[0m \u001b[0mvn_succ\u001b[0m\u001b[0;34m(\u001b[0m\u001b[0mord_\u001b[0m\u001b[0;34m)\u001b[0m\u001b[0;34m:\u001b[0m\u001b[0;34m\u001b[0m\u001b[0;34m\u001b[0m\u001b[0m\n\u001b[0;32m----> 4\u001b[0;31m     \u001b[0;32mreturn\u001b[0m \u001b[0mord_\u001b[0m\u001b[0;34m.\u001b[0m\u001b[0munion\u001b[0m\u001b[0;34m(\u001b[0m\u001b[0;34m{\u001b[0m\u001b[0mord_\u001b[0m\u001b[0;34m}\u001b[0m\u001b[0;34m)\u001b[0m\u001b[0;34m\u001b[0m\u001b[0;34m\u001b[0m\u001b[0m\n\u001b[0m",
      "\u001b[0;31mTypeError\u001b[0m: unhashable type: 'set'"
     ]
    }
   ],
   "source": [
    "vn_succ(vn0)"
   ]
  },
  {
   "cell_type": "markdown",
   "metadata": {},
   "source": [
    "## Random Forest from Trees"
   ]
  },
  {
   "cell_type": "code",
   "execution_count": 254,
   "metadata": {},
   "outputs": [],
   "source": [
    "from sklearn.datasets import make_classification\n",
    "from sklearn.tree import DecisionTreeClassifier\n",
    "from sklearn.metrics import accuracy_score\n",
    "from sklearn.model_selection import train_test_split"
   ]
  },
  {
   "cell_type": "code",
   "execution_count": 392,
   "metadata": {},
   "outputs": [],
   "source": [
    "X, y = make_classification(flip_y=0.3,\n",
    "                           n_samples=1000,\n",
    "                           class_sep=5,\n",
    "                           n_informative=15,\n",
    "                           random_state=42)"
   ]
  },
  {
   "cell_type": "code",
   "execution_count": 393,
   "metadata": {},
   "outputs": [],
   "source": [
    "X_train, X_test, y_train, y_test = train_test_split(X, y)"
   ]
  },
  {
   "cell_type": "code",
   "execution_count": 394,
   "metadata": {},
   "outputs": [],
   "source": [
    "def simple_bagger(X_train, y_train, X_test=None, y_test=None, n_trees=10):\n",
    "    import numpy as np\n",
    "    if X_test is None:\n",
    "        X_test = X_train\n",
    "    if y_test is None:\n",
    "        y_test = y_train\n",
    "    y_train = y_train.reshape(-1, 1)\n",
    "    data = np.hstack((X_train, y_train))\n",
    "    num_recs = y_train.shape[0]\n",
    "    preds = []\n",
    "    for _ in range(n_trees):\n",
    "        subset = np.random.choice(num_recs, size=num_recs//10)\n",
    "        training = data[subset, :]\n",
    "        ct = DecisionTreeClassifier(random_state=42)\n",
    "        ct.fit(training[:, :-1], training[:, -1])\n",
    "        preds.append(ct.predict_proba(X_test))\n",
    "    return np.mean(preds, axis=0).argmax()\n",
    "\n",
    "#simple_bagger(X_train, y_train)\n",
    "\n",
    "ct = DecisionTreeClassifier(random_state=42)\n",
    "\n",
    "ct.fit(X_train, y_train)\n",
    "ct.score(X_test, y_test)\n",
    "\n",
    "accuracy_score(y_test, simple_bagger(X_train, y_train, X_test, y_test))\n",
    "\n",
    "def bagger(X_train, y_train, X_test=None, y_test=None, n_trees=10, random_forest=False):\n",
    "    import numpy as np\n",
    "    if X_test is None:\n",
    "        X_test = X_train\n",
    "    if y_test is None:\n",
    "        y_test = y_train\n",
    "    y_train = y_train.reshape(-1, 1)\n",
    "    data = np.hstack((X_train, y_train))\n",
    "    num_recs = X_train.shape[0]\n",
    "    num_feats = X_train.shape[1]\n",
    "    preds = []\n",
    "    for _ in range(n_trees):\n",
    "        subset = np.random.choice(num_recs, size=num_recs//10).reshape(-1, 1)\n",
    "        if random_forest == True:\n",
    "            subfeatures = np.random.choice(num_feats, size=int(np.sqrt(num_feats)))\n",
    "        else:\n",
    "            subfeatures = np.arange(num_feats)\n",
    "        subfeatures_y = np.append(subfeatures, -1).reshape(1, -1)\n",
    "        training = data[subset, subfeatures_y]\n",
    "        ct = DecisionTreeClassifier(random_state=42)\n",
    "        ct.fit(training[:, :-1], training[:, -1])\n",
    "        preds.append(ct.predict_proba(X_test[:, subfeatures]))\n",
    "    return np.mean(preds, axis=0).argmax()\n",
    "\n",
    "accuracy_score(y_test, bagger(X_train, y_train, X_test, y_test, random_forest=True))"
   ]
  },
  {
   "cell_type": "markdown",
   "metadata": {},
   "source": [
    "## Zoom Info"
   ]
  },
  {
   "cell_type": "markdown",
   "metadata": {},
   "source": [
    "Seems like a dead end inasmuch as Zoom asks for image identification when logging in via Selenium."
   ]
  },
  {
   "cell_type": "code",
   "execution_count": 39,
   "metadata": {},
   "outputs": [],
   "source": [
    "from selenium import webdriver\n",
    "from bs4 import BeautifulSoup\n",
    "import requests as rq"
   ]
  },
  {
   "cell_type": "code",
   "execution_count": 52,
   "metadata": {},
   "outputs": [],
   "source": [
    "#page = rq.get('https://zoom.us/account/my/report?from=07/26/2021&to=07/30/2021')"
   ]
  },
  {
   "cell_type": "code",
   "execution_count": 57,
   "metadata": {},
   "outputs": [],
   "source": [
    "page_login = 'https://zoom.us/signin'"
   ]
  },
  {
   "cell_type": "code",
   "execution_count": 56,
   "metadata": {},
   "outputs": [],
   "source": [
    "soup = BeautifulSoup(page.content)"
   ]
  },
  {
   "cell_type": "code",
   "execution_count": 55,
   "metadata": {},
   "outputs": [
    {
     "data": {
      "text/plain": [
       "[]"
      ]
     },
     "execution_count": 55,
     "metadata": {},
     "output_type": "execute_result"
    }
   ],
   "source": [
    "soup.find_all('table')"
   ]
  },
  {
   "cell_type": "code",
   "execution_count": 338,
   "metadata": {},
   "outputs": [],
   "source": [
    "driver = webdriver.Chrome(executable_path='/Users/gdamico/Downloads/chromedriver')"
   ]
  },
  {
   "cell_type": "code",
   "execution_count": 59,
   "metadata": {},
   "outputs": [],
   "source": [
    "driver.get(page_login)"
   ]
  },
  {
   "cell_type": "code",
   "execution_count": 61,
   "metadata": {},
   "outputs": [],
   "source": [
    "email = driver.find_element_by_id('email')"
   ]
  },
  {
   "cell_type": "code",
   "execution_count": 62,
   "metadata": {},
   "outputs": [],
   "source": [
    "email.send_keys('greg.damico@flatironschool.com')"
   ]
  },
  {
   "cell_type": "code",
   "execution_count": 63,
   "metadata": {},
   "outputs": [],
   "source": [
    "pwd = driver.find_element_by_id('password')"
   ]
  },
  {
   "cell_type": "code",
   "execution_count": 64,
   "metadata": {},
   "outputs": [],
   "source": [
    "pwd.send_keys('g,A,d,g,A,d,9')"
   ]
  },
  {
   "cell_type": "code",
   "execution_count": 71,
   "metadata": {},
   "outputs": [],
   "source": [
    "btn = driver.find_elements_by_class_name('btn')"
   ]
  },
  {
   "cell_type": "code",
   "execution_count": 72,
   "metadata": {},
   "outputs": [
    {
     "data": {
      "text/plain": [
       "[<selenium.webdriver.remote.webelement.WebElement (session=\"522fc2cd974465dcb04340bec7b54a61\", element=\"0.2868743490029062-3\")>,\n",
       " <selenium.webdriver.remote.webelement.WebElement (session=\"522fc2cd974465dcb04340bec7b54a61\", element=\"0.2868743490029062-4\")>,\n",
       " <selenium.webdriver.remote.webelement.WebElement (session=\"522fc2cd974465dcb04340bec7b54a61\", element=\"0.2868743490029062-5\")>,\n",
       " <selenium.webdriver.remote.webelement.WebElement (session=\"522fc2cd974465dcb04340bec7b54a61\", element=\"0.2868743490029062-6\")>,\n",
       " <selenium.webdriver.remote.webelement.WebElement (session=\"522fc2cd974465dcb04340bec7b54a61\", element=\"0.2868743490029062-7\")>]"
      ]
     },
     "execution_count": 72,
     "metadata": {},
     "output_type": "execute_result"
    }
   ],
   "source": [
    "btn"
   ]
  },
  {
   "cell_type": "code",
   "execution_count": 75,
   "metadata": {},
   "outputs": [],
   "source": [
    "btn[1].click()"
   ]
  },
  {
   "cell_type": "code",
   "execution_count": 28,
   "metadata": {},
   "outputs": [],
   "source": [
    "#table = driver.find_element_by_id('meeting_list')"
   ]
  },
  {
   "cell_type": "code",
   "execution_count": 36,
   "metadata": {},
   "outputs": [],
   "source": [
    "js = \"document.getElementsByClassName('col6')[0].click()\""
   ]
  },
  {
   "cell_type": "code",
   "execution_count": 37,
   "metadata": {},
   "outputs": [],
   "source": [
    "driver.execute_script(js)"
   ]
  },
  {
   "cell_type": "markdown",
   "metadata": {},
   "source": [
    "### Manual Downloads"
   ]
  },
  {
   "cell_type": "code",
   "execution_count": 392,
   "metadata": {},
   "outputs": [],
   "source": [
    "dfs = []\n",
    "for j in range(6, 13):\n",
    "    dfs.append(pd.read_csv(f'/Users/gdamico/Downloads/participants_97329952849 ({j}).csv'))"
   ]
  },
  {
   "cell_type": "code",
   "execution_count": 399,
   "metadata": {},
   "outputs": [],
   "source": [
    "semiweek10 = pd.concat([df.groupby('Name (Original Name)').count() for df in dfs])"
   ]
  },
  {
   "cell_type": "code",
   "execution_count": 404,
   "metadata": {},
   "outputs": [
    {
     "data": {
      "text/plain": [
       "Ian Sharff            7\n",
       "Sejin Jang            7\n",
       "Manav Kahlon          7\n",
       "mia fryer             7\n",
       "Douglas Lu            7\n",
       "Harmandip Singh       7\n",
       "Eddie Lin             7\n",
       "Nina Vergara          7\n",
       "Tony Bai              7\n",
       "Jesús Baquiax         7\n",
       "Arthur Kim            7\n",
       "Sanjit Varma          7\n",
       "Anthony Conte         7\n",
       "Greg Damico           7\n",
       "Samantha Baltodano    7\n",
       "Shane M               7\n",
       "Brett Z               7\n",
       "Ben B                 7\n",
       "Ben McCarty           6\n",
       "nate walter           6\n",
       "Jax                   6\n",
       "Chris Lewis           5\n",
       "nate                  2\n",
       "Max Barry             2\n",
       "Name: Name (Original Name), dtype: int64"
      ]
     },
     "execution_count": 404,
     "metadata": {},
     "output_type": "execute_result"
    }
   ],
   "source": [
    "semiweek10.reset_index()['Name (Original Name)'].value_counts()"
   ]
  },
  {
   "cell_type": "markdown",
   "metadata": {},
   "source": [
    "## Exit Tickets"
   ]
  },
  {
   "cell_type": "markdown",
   "metadata": {},
   "source": [
    "Promising!"
   ]
  },
  {
   "cell_type": "code",
   "execution_count": 349,
   "metadata": {},
   "outputs": [],
   "source": [
    "driver = webdriver.Chrome(executable_path='/Users/gdamico/Downloads/chromedriver')"
   ]
  },
  {
   "cell_type": "code",
   "execution_count": 351,
   "metadata": {},
   "outputs": [],
   "source": [
    "driver.implicitly_wait(10)"
   ]
  },
  {
   "cell_type": "code",
   "execution_count": 352,
   "metadata": {},
   "outputs": [],
   "source": [
    "canvas_login = 'https://learning.flatironschool.com/'\n",
    "\n",
    "driver.get(canvas_login)"
   ]
  },
  {
   "cell_type": "code",
   "execution_count": 353,
   "metadata": {},
   "outputs": [],
   "source": [
    "email = driver.find_element_by_id('user-email')\n",
    "\n",
    "email.send_keys('greg.damico@flatironschool.com')\n",
    "\n",
    "pwd = driver.find_element_by_id('user-password')\n",
    "\n",
    "pwd.send_keys('g,A,d,g,A,d,9')"
   ]
  },
  {
   "cell_type": "code",
   "execution_count": 354,
   "metadata": {},
   "outputs": [],
   "source": [
    "bttns = driver.find_elements_by_class_name('button')\n",
    "\n",
    "bttns[1].click()"
   ]
  },
  {
   "cell_type": "code",
   "execution_count": 300,
   "metadata": {},
   "outputs": [],
   "source": [
    "# courses = driver.find_element_by_css_selector(\"a[href='https://learning.flatironschool.com/']\")\n",
    "\n",
    "# courses.click()"
   ]
  },
  {
   "cell_type": "code",
   "execution_count": 184,
   "metadata": {},
   "outputs": [
    {
     "data": {
      "text/plain": [
       "'https://learning.flatironschool.com/'"
      ]
     },
     "execution_count": 184,
     "metadata": {},
     "output_type": "execute_result"
    }
   ],
   "source": [
    "driver.current_url"
   ]
  },
  {
   "cell_type": "code",
   "execution_count": 355,
   "metadata": {},
   "outputs": [],
   "source": [
    "course_no = \"a[href='/courses/4243']\"\n",
    "ph1_071921 = driver.find_element_by_css_selector(course_no)"
   ]
  },
  {
   "cell_type": "code",
   "execution_count": 356,
   "metadata": {},
   "outputs": [],
   "source": [
    "#ph1_071921 = driver.find_element_by_css_selector(\"a[href='/courses/4243']\")\n",
    "\n",
    "ph1_071921.click()"
   ]
  },
  {
   "cell_type": "code",
   "execution_count": 193,
   "metadata": {},
   "outputs": [],
   "source": [
    "quizzes = course_no[:-2]+\"/quizzes']\""
   ]
  },
  {
   "cell_type": "code",
   "execution_count": 194,
   "metadata": {},
   "outputs": [],
   "source": [
    "quizzes = driver.find_element_by_css_selector(course_no[:-2])"
   ]
  },
  {
   "cell_type": "code",
   "execution_count": 357,
   "metadata": {},
   "outputs": [],
   "source": [
    "quizzes = driver.find_element_by_css_selector(\"a[href='/courses/4243/quizzes']\")\n",
    "\n",
    "quizzes.click()"
   ]
  },
  {
   "cell_type": "code",
   "execution_count": 358,
   "metadata": {},
   "outputs": [],
   "source": [
    "items = driver.find_elements_by_partial_link_text('Exit Ticket')"
   ]
  },
  {
   "cell_type": "code",
   "execution_count": 359,
   "metadata": {},
   "outputs": [],
   "source": [
    "items_clean = [item for item in items if 'Manage' not in item.text]\n",
    "\n",
    "names = [item.text for item in items_clean]"
   ]
  },
  {
   "cell_type": "code",
   "execution_count": 360,
   "metadata": {},
   "outputs": [
    {
     "data": {
      "text/plain": [
       "['Data Science Environments Exit Ticket',\n",
       " 'Bash Exit Ticket',\n",
       " 'Git Exit Ticket',\n",
       " 'Python Data Manipulation Exit Ticket',\n",
       " 'Data Visualization Exit Ticket',\n",
       " 'Data Analysis with CSVs Exit Ticket',\n",
       " 'Data Analysis with JSONs Exit Ticket',\n",
       " 'Pandas DataFrames Exit Ticket',\n",
       " 'Pandas Data Cleaning Exit Ticket',\n",
       " 'Aggregating and Combining DataFrames Exit Ticket',\n",
       " 'Descriptive Analysis Exit Ticket',\n",
       " 'SQL Queries Exit Ticket',\n",
       " 'SQL Joins and Aggregation Exit Ticket',\n",
       " 'SQL Subqueries and Implementations Exit Ticket',\n",
       " 'APIs Exit Ticket',\n",
       " 'Web Scraping Exit Ticket',\n",
       " 'Collaborating with Git Exit Ticket']"
      ]
     },
     "execution_count": 360,
     "metadata": {},
     "output_type": "execute_result"
    }
   ],
   "source": [
    "names"
   ]
  },
  {
   "cell_type": "code",
   "execution_count": 361,
   "metadata": {},
   "outputs": [
    {
     "data": {
      "text/plain": [
       "34"
      ]
     },
     "execution_count": 361,
     "metadata": {},
     "output_type": "execute_result"
    }
   ],
   "source": [
    "len(items)"
   ]
  },
  {
   "cell_type": "code",
   "execution_count": 108,
   "metadata": {},
   "outputs": [
    {
     "data": {
      "text/plain": [
       "<selenium.webdriver.remote.webelement.WebElement (session=\"522fc2cd974465dcb04340bec7b54a61\", element=\"0.9246222379986417-28\")>"
      ]
     },
     "execution_count": 108,
     "metadata": {},
     "output_type": "execute_result"
    }
   ],
   "source": [
    "items[0]."
   ]
  },
  {
   "cell_type": "code",
   "execution_count": 109,
   "metadata": {},
   "outputs": [],
   "source": [
    "items[0].click()"
   ]
  },
  {
   "cell_type": "code",
   "execution_count": 125,
   "metadata": {},
   "outputs": [
    {
     "data": {
      "text/plain": [
       "'https://learning.flatironschool.com/courses/4243/quizzes/20072'"
      ]
     },
     "execution_count": 125,
     "metadata": {},
     "output_type": "execute_result"
    }
   ],
   "source": [
    "driver.current_url"
   ]
  },
  {
   "cell_type": "code",
   "execution_count": 127,
   "metadata": {},
   "outputs": [],
   "source": [
    "stats = driver.find_element_by_partial_link_text('Quiz Statistics')"
   ]
  },
  {
   "cell_type": "code",
   "execution_count": 128,
   "metadata": {},
   "outputs": [],
   "source": [
    "stats.click()"
   ]
  },
  {
   "cell_type": "code",
   "execution_count": 129,
   "metadata": {},
   "outputs": [],
   "source": [
    "anal_btn = driver.find_element_by_partial_link_text('Student Analysis')"
   ]
  },
  {
   "cell_type": "code",
   "execution_count": 130,
   "metadata": {},
   "outputs": [],
   "source": [
    "anal_btn.click()"
   ]
  },
  {
   "cell_type": "code",
   "execution_count": 133,
   "metadata": {},
   "outputs": [],
   "source": [
    "dfs = []\n",
    "dfs.append(pd.read_csv('/Users/gdamico/Downloads/Aggregating and \\\n",
    "Combining DataFrames Exit Ticket Quiz Student Analysis Report (1).csv'))"
   ]
  },
  {
   "cell_type": "code",
   "execution_count": 135,
   "metadata": {
    "scrolled": false
   },
   "outputs": [],
   "source": [
    "#dfs[0]"
   ]
  },
  {
   "cell_type": "code",
   "execution_count": 207,
   "metadata": {},
   "outputs": [
    {
     "data": {
      "text/plain": [
       "<selenium.webdriver.remote.webelement.WebElement (session=\"59192d2d2a00aec1d26d07027cf4118f\", element=\"0.737407568138944-1\")>"
      ]
     },
     "execution_count": 207,
     "metadata": {},
     "output_type": "execute_result"
    }
   ],
   "source": [
    "driver.find_element_by_partial_link_text('Quiz Statistics')"
   ]
  },
  {
   "cell_type": "code",
   "execution_count": 278,
   "metadata": {},
   "outputs": [],
   "source": [
    "from selenium.webdriver.support.ui import WebDriverWait\n",
    "from selenium.webdriver.support import expected_conditions as EC\n",
    "from selenium.webdriver.common.by import By"
   ]
  },
  {
   "cell_type": "code",
   "execution_count": 362,
   "metadata": {},
   "outputs": [
    {
     "name": "stdout",
     "output_type": "stream",
     "text": [
      "found quiz\n",
      "No success on the 1-th attempt.\n",
      "found quiz\n",
      "No success on the 2-th attempt.\n",
      "found quiz\n",
      "found quiz stats button\n",
      "No success on the 3-th attempt.\n",
      "No success on the 4-th attempt.\n",
      "No success on the 5-th attempt.\n",
      "No success on the 6-th attempt.\n",
      "No success on the 7-th attempt.\n",
      "No success on the 8-th attempt.\n",
      "No success on the 9-th attempt.\n",
      "No success on the 10-th attempt.\n",
      "No success on the 11-th attempt.\n",
      "No success on the 12-th attempt.\n",
      "No success on the 13-th attempt.\n",
      "No success on the 14-th attempt.\n",
      "No success on the 15-th attempt.\n",
      "No success on the 16-th attempt.\n",
      "No success on the 17-th attempt.\n"
     ]
    }
   ],
   "source": [
    "j = 0\n",
    "for name in names:\n",
    "    j += 1\n",
    "    try:\n",
    "        et = WebDriverWait(driver, 30).\\\n",
    "            until(EC.presence_of_element_located((By.LINK_TEXT, name)))\n",
    "        print(\"found quiz\")\n",
    "        et.click()\n",
    "        stats = WebDriverWait(driver, 30).\\\n",
    "            until(EC.presence_of_element_located((By.PARTIAL_LINK_TEXT,\n",
    "                                                  'Quiz Statistics')))\n",
    "        print(\"found quiz stats button\")\n",
    "        stats.click()\n",
    "        anal_btn = WebDriverWait(driver, 30).\\\n",
    "            until(EC.presence_of_element_located((By.PARTIAL_LINK_TEXT,\n",
    "                                                  'Student Analysis')))\n",
    "        print(\"found student analysis button\")\n",
    "        anal_btn.click()\n",
    "        quizzes = WebDriverWait(driver, 30).\\\n",
    "            until(EC.presence_of_element_located((By.CSS_SELECTOR,\n",
    "                                                  \"a[href='/courses/4243/quizzes']\")))\n",
    "        print(\"found link back to quizzes page\")\n",
    "        quizzes.click()\n",
    "    \n",
    "    except:\n",
    "        print(f\"No success on the {j}-th attempt.\")\n",
    "        continue"
   ]
  },
  {
   "cell_type": "code",
   "execution_count": 138,
   "metadata": {},
   "outputs": [],
   "source": [
    "quizzes = driver.find_element_by_css_selector(\"a[href='/courses/4243/quizzes']\")"
   ]
  },
  {
   "cell_type": "code",
   "execution_count": 139,
   "metadata": {},
   "outputs": [],
   "source": [
    "quizzes.click()"
   ]
  },
  {
   "cell_type": "code",
   "execution_count": 143,
   "metadata": {},
   "outputs": [],
   "source": [
    "phase1_titles = []\n",
    "for tkt in driver.find_elements_by_partial_link_text('Exit Ticket'):\n",
    "    phase1_titles.append(tkt.text)"
   ]
  },
  {
   "cell_type": "code",
   "execution_count": 309,
   "metadata": {},
   "outputs": [
    {
     "data": {
      "text/plain": [
       "['Aggregating and Combining DataFrames Exit Ticket Quiz Student Analysis Report.csv',\n",
       " 'APIs Exit Ticket Quiz Student Analysis Report.csv',\n",
       " 'Bash Exit Ticket Quiz Student Analysis Report.csv',\n",
       " 'Collaborating with Git Exit Ticket Quiz Student Analysis Report.csv',\n",
       " 'Data Analysis with CSVs Exit Ticket Quiz Student Analysis Report.csv',\n",
       " 'Data Analysis with JSONs Exit Ticket Quiz Student Analysis Report.csv',\n",
       " 'Data Science Environments Exit Ticket Quiz Student Analysis Report.csv',\n",
       " 'Data Visualization Exit Ticket Quiz Student Analysis Report.csv',\n",
       " 'Descriptive Analysis Exit Ticket Quiz Student Analysis Report.csv',\n",
       " 'Git Exit Ticket Quiz Student Analysis Report.csv',\n",
       " 'Pandas Data Cleaning Exit Ticket Quiz Student Analysis Report.csv',\n",
       " 'Pandas DataFrames Exit Ticket Quiz Student Analysis Report.csv',\n",
       " 'Python Data Manipulation Exit Ticket Quiz Student Analysis Report.csv',\n",
       " 'SQL Joins and Aggregation Exit Ticket Quiz Student Analysis Report.csv',\n",
       " 'SQL Queries Exit Ticket Quiz Student Analysis Report.csv',\n",
       " 'SQL Subqueries and Implementations Exit Ticket Quiz Student Analysis Report.csv',\n",
       " 'Web Scraping Exit Ticket Quiz Student Analysis Report.csv']"
      ]
     },
     "execution_count": 309,
     "metadata": {},
     "output_type": "execute_result"
    }
   ],
   "source": [
    "phase1 = [title + ' Quiz Student Analysis Report.csv' for title in phase1_titles]\n",
    "phase1"
   ]
  },
  {
   "cell_type": "code",
   "execution_count": 311,
   "metadata": {},
   "outputs": [],
   "source": [
    "dfs = []\n",
    "for title in phase1:\n",
    "    try:\n",
    "        dfs.append(pd.read_csv(f'~/Downloads/{title}'))\n",
    "    except:\n",
    "        continue"
   ]
  },
  {
   "cell_type": "code",
   "execution_count": 315,
   "metadata": {},
   "outputs": [
    {
     "data": {
      "text/plain": [
       "3"
      ]
     },
     "execution_count": 315,
     "metadata": {},
     "output_type": "execute_result"
    }
   ],
   "source": [
    "len(dfs)"
   ]
  },
  {
   "cell_type": "markdown",
   "metadata": {},
   "source": [
    "## Jesse Steinweg-Woods's [Rec System Example](https://jessesw.com/Rec-System/)"
   ]
  },
  {
   "cell_type": "code",
   "execution_count": 457,
   "metadata": {},
   "outputs": [],
   "source": [
    "import scipy.sparse as sparse\n",
    "#from scipy.sparse.linalg import spsolve"
   ]
  },
  {
   "cell_type": "code",
   "execution_count": 458,
   "metadata": {},
   "outputs": [],
   "source": [
    "website_url = 'http://archive.ics.uci.edu/ml/\\\n",
    "machine-learning-databases/00352/Online%20Retail.xlsx'\n",
    "retail_data = pd.read_excel(website_url) # This may take a couple minutes"
   ]
  },
  {
   "cell_type": "code",
   "execution_count": 459,
   "metadata": {},
   "outputs": [
    {
     "data": {
      "text/html": [
       "<div>\n",
       "<style scoped>\n",
       "    .dataframe tbody tr th:only-of-type {\n",
       "        vertical-align: middle;\n",
       "    }\n",
       "\n",
       "    .dataframe tbody tr th {\n",
       "        vertical-align: top;\n",
       "    }\n",
       "\n",
       "    .dataframe thead th {\n",
       "        text-align: right;\n",
       "    }\n",
       "</style>\n",
       "<table border=\"1\" class=\"dataframe\">\n",
       "  <thead>\n",
       "    <tr style=\"text-align: right;\">\n",
       "      <th></th>\n",
       "      <th>InvoiceNo</th>\n",
       "      <th>StockCode</th>\n",
       "      <th>Description</th>\n",
       "      <th>Quantity</th>\n",
       "      <th>InvoiceDate</th>\n",
       "      <th>UnitPrice</th>\n",
       "      <th>CustomerID</th>\n",
       "      <th>Country</th>\n",
       "    </tr>\n",
       "  </thead>\n",
       "  <tbody>\n",
       "    <tr>\n",
       "      <th>0</th>\n",
       "      <td>536365</td>\n",
       "      <td>85123A</td>\n",
       "      <td>WHITE HANGING HEART T-LIGHT HOLDER</td>\n",
       "      <td>6</td>\n",
       "      <td>2010-12-01 08:26:00</td>\n",
       "      <td>2.55</td>\n",
       "      <td>17850.0</td>\n",
       "      <td>United Kingdom</td>\n",
       "    </tr>\n",
       "    <tr>\n",
       "      <th>1</th>\n",
       "      <td>536365</td>\n",
       "      <td>71053</td>\n",
       "      <td>WHITE METAL LANTERN</td>\n",
       "      <td>6</td>\n",
       "      <td>2010-12-01 08:26:00</td>\n",
       "      <td>3.39</td>\n",
       "      <td>17850.0</td>\n",
       "      <td>United Kingdom</td>\n",
       "    </tr>\n",
       "    <tr>\n",
       "      <th>2</th>\n",
       "      <td>536365</td>\n",
       "      <td>84406B</td>\n",
       "      <td>CREAM CUPID HEARTS COAT HANGER</td>\n",
       "      <td>8</td>\n",
       "      <td>2010-12-01 08:26:00</td>\n",
       "      <td>2.75</td>\n",
       "      <td>17850.0</td>\n",
       "      <td>United Kingdom</td>\n",
       "    </tr>\n",
       "    <tr>\n",
       "      <th>3</th>\n",
       "      <td>536365</td>\n",
       "      <td>84029G</td>\n",
       "      <td>KNITTED UNION FLAG HOT WATER BOTTLE</td>\n",
       "      <td>6</td>\n",
       "      <td>2010-12-01 08:26:00</td>\n",
       "      <td>3.39</td>\n",
       "      <td>17850.0</td>\n",
       "      <td>United Kingdom</td>\n",
       "    </tr>\n",
       "    <tr>\n",
       "      <th>4</th>\n",
       "      <td>536365</td>\n",
       "      <td>84029E</td>\n",
       "      <td>RED WOOLLY HOTTIE WHITE HEART.</td>\n",
       "      <td>6</td>\n",
       "      <td>2010-12-01 08:26:00</td>\n",
       "      <td>3.39</td>\n",
       "      <td>17850.0</td>\n",
       "      <td>United Kingdom</td>\n",
       "    </tr>\n",
       "  </tbody>\n",
       "</table>\n",
       "</div>"
      ],
      "text/plain": [
       "  InvoiceNo StockCode                          Description  Quantity  \\\n",
       "0    536365    85123A   WHITE HANGING HEART T-LIGHT HOLDER         6   \n",
       "1    536365     71053                  WHITE METAL LANTERN         6   \n",
       "2    536365    84406B       CREAM CUPID HEARTS COAT HANGER         8   \n",
       "3    536365    84029G  KNITTED UNION FLAG HOT WATER BOTTLE         6   \n",
       "4    536365    84029E       RED WOOLLY HOTTIE WHITE HEART.         6   \n",
       "\n",
       "          InvoiceDate  UnitPrice  CustomerID         Country  \n",
       "0 2010-12-01 08:26:00       2.55     17850.0  United Kingdom  \n",
       "1 2010-12-01 08:26:00       3.39     17850.0  United Kingdom  \n",
       "2 2010-12-01 08:26:00       2.75     17850.0  United Kingdom  \n",
       "3 2010-12-01 08:26:00       3.39     17850.0  United Kingdom  \n",
       "4 2010-12-01 08:26:00       3.39     17850.0  United Kingdom  "
      ]
     },
     "execution_count": 459,
     "metadata": {},
     "output_type": "execute_result"
    }
   ],
   "source": [
    "retail_data.head()"
   ]
  },
  {
   "cell_type": "code",
   "execution_count": 460,
   "metadata": {},
   "outputs": [
    {
     "name": "stdout",
     "output_type": "stream",
     "text": [
      "<class 'pandas.core.frame.DataFrame'>\n",
      "RangeIndex: 541909 entries, 0 to 541908\n",
      "Data columns (total 8 columns):\n",
      " #   Column       Non-Null Count   Dtype         \n",
      "---  ------       --------------   -----         \n",
      " 0   InvoiceNo    541909 non-null  object        \n",
      " 1   StockCode    541909 non-null  object        \n",
      " 2   Description  540455 non-null  object        \n",
      " 3   Quantity     541909 non-null  int64         \n",
      " 4   InvoiceDate  541909 non-null  datetime64[ns]\n",
      " 5   UnitPrice    541909 non-null  float64       \n",
      " 6   CustomerID   406829 non-null  float64       \n",
      " 7   Country      541909 non-null  object        \n",
      "dtypes: datetime64[ns](1), float64(2), int64(1), object(4)\n",
      "memory usage: 33.1+ MB\n"
     ]
    }
   ],
   "source": [
    "retail_data.info()"
   ]
  },
  {
   "cell_type": "code",
   "execution_count": 461,
   "metadata": {},
   "outputs": [],
   "source": [
    "retail_data_clean = retail_data.copy().dropna()"
   ]
  },
  {
   "cell_type": "code",
   "execution_count": 462,
   "metadata": {},
   "outputs": [],
   "source": [
    "retail_data_clean['CustomerID'] = retail_data_clean['CustomerID'].map(int)\n",
    "preds = retail_data_clean[['StockCode', 'Quantity', 'CustomerID']]\n",
    "grouped_cleaned = preds.groupby(['CustomerID', 'StockCode']).sum().reset_index()"
   ]
  },
  {
   "cell_type": "code",
   "execution_count": 463,
   "metadata": {},
   "outputs": [],
   "source": [
    "grouped_cleaned['Quantity'] = grouped_cleaned['Quantity'].map(lambda x: 1 if x == 0 else x)\n",
    "grouped_purchased = grouped_cleaned[grouped_cleaned['Quantity'] > 0]"
   ]
  },
  {
   "cell_type": "code",
   "execution_count": 470,
   "metadata": {},
   "outputs": [
    {
     "name": "stdout",
     "output_type": "stream",
     "text": [
      "0    12346\n",
      "1    12347\n",
      "2    12347\n",
      "3    12347\n",
      "4    12347\n",
      "Name: CustomerID, dtype: category\n",
      "Categories (4338, int64): [12346, 12347, 12348, 12349, ..., 18281, 18282, 18283, 18287] 0    0\n",
      "1    1\n",
      "2    1\n",
      "3    1\n",
      "4    1\n",
      "dtype: int16\n"
     ]
    }
   ],
   "source": [
    "# Get unique customers\n",
    "customers = list(np.sort(grouped_purchased.CustomerID.unique()))\n",
    "\n",
    "# Get unique products\n",
    "products = list(grouped_purchased['StockCode'].unique())\n",
    "\n",
    "# Get purchases\n",
    "quantity = list(grouped_purchased['Quantity'])\n",
    "\n",
    "# Renumbering our customers\n",
    "rows = grouped_purchased['CustomerID'].astype('category').cat.codes\n",
    "print(grouped_purchased['CustomerID'].astype('category').head(), rows.head())"
   ]
  },
  {
   "cell_type": "code",
   "execution_count": 472,
   "metadata": {},
   "outputs": [],
   "source": [
    "# Renumbering our products\n",
    "cols = grouped_purchased.StockCode.astype('category').cat.codes"
   ]
  },
  {
   "cell_type": "code",
   "execution_count": 473,
   "metadata": {},
   "outputs": [],
   "source": [
    "purchases_sparse = sparse.csr_matrix((quantity, (rows, cols)),\n",
    "                                     shape=(len(customers), len(products)))"
   ]
  },
  {
   "cell_type": "code",
   "execution_count": 474,
   "metadata": {},
   "outputs": [
    {
     "data": {
      "text/plain": [
       "<4338x3664 sparse matrix of type '<class 'numpy.longlong'>'\n",
       "\twith 266723 stored elements in Compressed Sparse Row format>"
      ]
     },
     "execution_count": 474,
     "metadata": {},
     "output_type": "execute_result"
    }
   ],
   "source": [
    "purchases_sparse"
   ]
  },
  {
   "cell_type": "code",
   "execution_count": 475,
   "metadata": {},
   "outputs": [
    {
     "name": "stdout",
     "output_type": "stream",
     "text": [
      "Our matrix is 98.32% sparse.\n"
     ]
    }
   ],
   "source": [
    "# Sparsity calculation\n",
    "matrix_size = purchases_sparse.shape[0]*purchases_sparse.shape[1]\n",
    "num_purchases = len(purchases_sparse.nonzero()[0])\n",
    "sparsity = 100*(1 - (num_purchases/matrix_size))\n",
    "print(f\"Our matrix is {round(sparsity, 2)}% sparse.\")"
   ]
  },
  {
   "cell_type": "code",
   "execution_count": 476,
   "metadata": {},
   "outputs": [],
   "source": [
    "def implicit_weighted_ALS(training_set,\n",
    "                          lambda_val=0.1,\n",
    "                          alpha=40,\n",
    "                          iterations=10,\n",
    "                          rank_size=20,\n",
    "                          seed=0):\n",
    "    '''\n",
    "    Implicit weighted ALS taken from Hu, Koren, and Volinsky 2008.\n",
    "    Designed for alternating least squares and implicit\n",
    "    feedback based collaborative filtering. \n",
    "    \n",
    "    parameters:\n",
    "    \n",
    "    training_set - Our matrix of ratings with shape m x n, where m\n",
    "    is the number of users and n is the number of items.\n",
    "    Should be a sparse csr matrix to save space. \n",
    "    \n",
    "    lambda_val - Used for regularization during alternating\n",
    "    least squares. Increasing this value may increase bias\n",
    "    but decrease variance. Default is 0.1. \n",
    "    \n",
    "    alpha - The parameter associated with the confidence matrix\n",
    "    discussed in the paper, where C_ui = 1 + alpha*R_ui. \n",
    "    The paper found a default of 40 most effective.\n",
    "    Decreasing this will decrease the variability in confidence between\n",
    "    various ratings.\n",
    "    \n",
    "    iterations - The number of times to alternate between both user-\n",
    "    feature vectors and item-feature vectors. More iterations will\n",
    "    allow better convergence at the cost of increased computation. \n",
    "    The authors found 10 iterations was sufficient, but more may be\n",
    "    required to converge. \n",
    "    \n",
    "    rank_size - The number of latent features in the user-/item-feature\n",
    "    vectors. The paper recommends varying this \n",
    "    between 20-200. Increasing the number of features may overfit\n",
    "    but could reduce bias. \n",
    "    \n",
    "    seed - Set the seed for reproducible results\n",
    "    \n",
    "    returns:\n",
    "    \n",
    "    The feature vectors for users and items. The dot product of these\n",
    "    feature-vectors should give you the expected \n",
    "    \"rating\" at each point in your original matrix. \n",
    "    '''\n",
    "    \n",
    "    # first set up our confidence matrix\n",
    "    \n",
    "    conf = (alpha*training_set) # To allow the matrix to stay sparse,\n",
    "                                # add one later when each row is taken \n",
    "                                # and converted to dense. \n",
    "    num_user = conf.shape[0]\n",
    "    num_item = conf.shape[1] # Get the size of our original ratings matrix, m x n\n",
    "    \n",
    "    # initialize our X/Y feature-vectors randomly with a set seed\n",
    "    rstate = np.random.RandomState(seed)\n",
    "    \n",
    "    # generate random matrices\n",
    "    X = sparse.csr_matrix(rstate.normal(size=(num_user, rank_size)))\n",
    "    Y = sparse.csr_matrix(rstate.normal(size=(num_item, rank_size)))\n",
    "    \n",
    "    X_eye = sparse.eye(num_user)\n",
    "    Y_eye = sparse.eye(num_item)\n",
    "    lambda_eye = lambda_val * sparse.eye(rank_size) # Our regularization term lambda*I. \n",
    "    \n",
    "    # We can compute this before iteration starts. \n",
    "    \n",
    "    # Begin iterations\n",
    "   \n",
    "    for iter_step in range(iterations): # Iterate back and forth between\n",
    "                                        # solving X given fixed Y and vice versa\n",
    "        \n",
    "        # Compute yTy and xTx at beginning of each iteration to save computing time\n",
    "        yTy = Y.T.dot(Y)\n",
    "        xTx = X.T.dot(X)\n",
    "        \n",
    "        # Begin iteration to solve for X based on fixed Y\n",
    "        for u in range(num_user):\n",
    "            \n",
    "            # Grab user row from confidence matrix and convert to dense\n",
    "            conf_samp = conf[u, :].toarray()\n",
    "            pref = conf_samp.copy()\n",
    "            \n",
    "            # Create binarized preference vector\n",
    "            pref[pref != 0] = 1\n",
    "            \n",
    "            # Get Cu - I term, don't need to subtract 1 since we never added it\n",
    "            CuI = sparse.diags(conf_samp, [0])\n",
    "            \n",
    "            # This is the yT(Cu-I)Y term\n",
    "            yTCuIY = Y.T.dot(CuI).dot(Y)\n",
    "            \n",
    "            # This is the yTCuPu term, where we add the eye back in:\n",
    "            # Cu - I + I = Cu\n",
    "            yTCupu = Y.T.dot(CuI + Y_eye).dot(pref.T)\n",
    "            X[u] = sparse.linalg.spsolve(yTy + yTCuIY + lambda_eye, yTCupu) \n",
    "            # Solve for Xu = ((yTy + yT(Cu-I)Y + lambda*I)^-1)yTCuPu,\n",
    "            # equation 4 from the paper  \n",
    "        \n",
    "        # Begin iteration to solve for Y based on fixed X \n",
    "        for i in range(num_item):\n",
    "            \n",
    "            # transpose to get it in row format and convert to dense\n",
    "            conf_samp = conf[:, i].T.toarray()\n",
    "            pref = conf_samp.copy()\n",
    "            \n",
    "            # Create binarized preference vector\n",
    "            pref[pref != 0] = 1\n",
    "            \n",
    "            # Get Ci - I term, don't need to subtract 1 since we never added it\n",
    "            CiI = sparse.diags(conf_samp, [0])\n",
    "            \n",
    "            # This is the xT(Cu-I)X term\n",
    "            xTCiIX = X.T.dot(CiI).dot(X)\n",
    "            \n",
    "            # This is the xTCiPi term\n",
    "            xTCiPi = X.T.dot(CiI + X_eye).dot(pref.T)\n",
    "            Y[i] = sparse.linalg.spsolve(xTx + xTCiIX + lambda_eye, xTCiPi)\n",
    "            # Solve for Yi = ((xTx + xT(Cu-I)X) + lambda*I)^-1)xTCiPi,\n",
    "            # equation 5 from the paper\n",
    "    # End iterations\n",
    "    \n",
    "    # Transpose at the end to make up for not being transposed at the beginning. \n",
    "    # Y needs to be rank x n. Keep these as separate matrices for scale reasons. \n",
    "    return X, Y.T"
   ]
  },
  {
   "cell_type": "code",
   "execution_count": 478,
   "metadata": {},
   "outputs": [],
   "source": [
    "user_vecs, item_vecs = implicit_weighted_ALS(purchases_sparse,\n",
    "                                             lambda_val=0.1,\n",
    "                                             alpha=15,\n",
    "                                             iterations=10,\n",
    "                                             rank_size=20)"
   ]
  },
  {
   "cell_type": "code",
   "execution_count": 479,
   "metadata": {},
   "outputs": [],
   "source": [
    "user0_ratings_pred = user_vecs[0, :].dot(item_vecs).toarray()[0, :]"
   ]
  },
  {
   "cell_type": "code",
   "execution_count": 480,
   "metadata": {},
   "outputs": [
    {
     "data": {
      "text/plain": [
       "array([0.10494322, 0.11381391, 0.13002682, 0.14069729, 0.16350271,\n",
       "       0.10110354, 0.10134013, 0.10275236])"
      ]
     },
     "execution_count": 480,
     "metadata": {},
     "output_type": "execute_result"
    }
   ],
   "source": [
    "user0_ratings_pred[user0_ratings_pred > 0.1]"
   ]
  },
  {
   "cell_type": "code",
   "execution_count": 487,
   "metadata": {},
   "outputs": [
    {
     "data": {
      "text/plain": [
       "(4338, 20)"
      ]
     },
     "execution_count": 487,
     "metadata": {},
     "output_type": "execute_result"
    }
   ],
   "source": [
    "user_vecs.shape"
   ]
  },
  {
   "cell_type": "code",
   "execution_count": 489,
   "metadata": {},
   "outputs": [
    {
     "data": {
      "text/plain": [
       "(20, 3664)"
      ]
     },
     "execution_count": 489,
     "metadata": {},
     "output_type": "execute_result"
    }
   ],
   "source": [
    "item_vecs.shape"
   ]
  },
  {
   "cell_type": "code",
   "execution_count": 488,
   "metadata": {},
   "outputs": [
    {
     "data": {
      "text/plain": [
       "(4338, 3664)"
      ]
     },
     "execution_count": 488,
     "metadata": {},
     "output_type": "execute_result"
    }
   ],
   "source": [
    "ratings.shape"
   ]
  },
  {
   "cell_type": "code",
   "execution_count": 511,
   "metadata": {},
   "outputs": [
    {
     "name": "stdout",
     "output_type": "stream",
     "text": [
      "1 0.14069728578999188\n",
      "24 0.9265612355443679\n",
      "36 0.8672926002671694\n",
      "6 0.7951717072788043\n",
      "40 0.9529058916007898\n",
      "12 0.7082969722184629\n",
      "6 0.6275218424927448\n",
      "10 0.7913620362507889\n",
      "6 0.7494663717360075\n",
      "12 0.7758747614816444\n",
      "30 0.8808229071128382\n",
      "10 0.7690086065755924\n",
      "12 0.825752078490077\n",
      "24 0.8715358170077128\n",
      "6 0.7540771110638139\n",
      "12 0.8986956406901243\n",
      "72 1.0547313103039517\n",
      "48 1.0390168888465037\n",
      "12 0.9414161755474937\n",
      "48 1.0021058188005016\n",
      "48 0.9557107825472729\n",
      "6 0.6356519875543638\n",
      "12 0.7702273237168787\n",
      "48 0.9998768742051961\n",
      "72 0.9974913949180394\n",
      "6 0.8992546665749188\n",
      "12 0.8986898778561144\n",
      "32 1.0035658227004434\n",
      "8 0.8782609296996501\n",
      "16 1.026322584732649\n",
      "28 0.9759396700224072\n",
      "12 0.9582319073516332\n",
      "48 0.9810147500791495\n",
      "12 1.1908782690353685\n",
      "15 0.979315485802341\n",
      "6 1.0353911273593022\n",
      "108 0.9760774363594077\n",
      "12 1.0490323102518895\n",
      "12 0.9354586282375824\n",
      "8 0.8563104537099853\n",
      "12 0.9805673989964048\n",
      "12 0.8414703323115933\n",
      "12 0.9512555839611774\n",
      "12 0.9619602135598344\n",
      "24 0.9635530848654736\n",
      "20 1.0295254979847763\n",
      "16 0.994007848032034\n",
      "36 1.025286806465965\n",
      "16 1.006716695024732\n",
      "8 1.0860585911379386\n",
      "12 1.0036793743209982\n",
      "12 0.8465629213805145\n",
      "12 0.9217207014866733\n",
      "24 0.8955732196619234\n",
      "12 0.8378227620013854\n",
      "12 0.956046307071439\n",
      "12 0.7752037002959\n",
      "12 0.7091352816437015\n",
      "24 0.9167015634976268\n",
      "240 0.9693910513371692\n",
      "84 1.012341069451241\n",
      "16 0.7820794834436519\n",
      "12 0.7283976771560166\n",
      "16 0.9552662636172229\n",
      "12 0.9660273948460724\n",
      "12 0.9710463480117046\n",
      "12 0.9976519224704998\n",
      "4 1.0638987491478775\n",
      "4 1.0492654146967026\n",
      "8 1.0355031162639567\n",
      "16 0.9924607505437153\n",
      "16 0.7651052788747622\n",
      "16 0.8886858791171568\n",
      "48 0.9557733885870834\n",
      "12 0.9819258426534188\n",
      "12 0.8271206676181806\n",
      "12 0.8101431827803681\n",
      "12 0.8413669943061141\n",
      "12 0.8569202825005573\n",
      "12 0.8551565852052427\n",
      "12 0.6249774856908786\n",
      "40 0.9435733770432384\n",
      "40 0.956539508011694\n",
      "6 0.8984972036987005\n",
      "6 0.7021433634574028\n",
      "12 0.7635884281148335\n",
      "12 0.9244640517621721\n",
      "72 0.9856187340095208\n",
      "72 0.9632424850873876\n",
      "18 1.121728128621017\n",
      "12 1.1491983693740189\n",
      "30 0.9216773189366663\n",
      "6 0.8564198150858694\n",
      "12 0.8037673044384445\n",
      "126 0.9781809524337575\n",
      "12 0.8967350897298783\n",
      "12 0.8112780346003376\n",
      "48 0.9590645911405788\n",
      "24 0.905001896153637\n",
      "6 0.8593686928764978\n",
      "6 0.873233623854025\n",
      "6 0.8653751163225439\n",
      "30 0.8012766449418818\n",
      "3 0.8567920698160473\n",
      "72 0.9571056572866083\n",
      "144 1.0437193119521957\n",
      "48 0.9323895964008642\n",
      "24 0.8336499955268877\n",
      "144 1.0093065808691064\n",
      "144 0.999325864695023\n",
      "144 0.9996786464437625\n",
      "144 0.9826489044869439\n",
      "144 0.981973125774303\n",
      "144 0.967889206231424\n",
      "144 1.0226240458813594\n",
      "20 0.8153337856867695\n",
      "72 0.9695687368638282\n",
      "72 0.9312785618362426\n",
      "144 0.9825652772196458\n",
      "72 0.9701123949575671\n",
      "200 0.9762401350011755\n",
      "192 0.9969982594433848\n",
      "48 0.9623725155210294\n",
      "144 0.9896683870772678\n",
      "72 1.0021132821079781\n"
     ]
    },
    {
     "data": {
      "text/plain": [
       "(60.70120005658853, 125)"
      ]
     },
     "execution_count": 511,
     "metadata": {},
     "output_type": "execute_result"
    }
   ],
   "source": [
    "# Error Calculation\n",
    "\n",
    "guess = user_vecs.dot(item_vecs).todense().flatten()\n",
    "truth = ratings.flatten()\n",
    "\n",
    "err = 0\n",
    "ctr = 0\n",
    "\n",
    "for i in range(10000):\n",
    "    if truth[0, i] != 0:\n",
    "        ctr += 1\n",
    "        err += (truth[0, i] - guess[0, i])**2\n",
    "        print(truth[0, i], guess[0, i])\n",
    "np.sqrt(err / ctr), ctr"
   ]
  },
  {
   "cell_type": "code",
   "execution_count": 481,
   "metadata": {},
   "outputs": [
    {
     "data": {
      "text/plain": [
       "0.14069728578999188"
      ]
     },
     "execution_count": 481,
     "metadata": {},
     "output_type": "execute_result"
    }
   ],
   "source": [
    "user0_ratings_pred[1927]"
   ]
  },
  {
   "cell_type": "code",
   "execution_count": 485,
   "metadata": {},
   "outputs": [
    {
     "data": {
      "text/plain": [
       "matrix([[0, 0, 1, 0, 0]], dtype=int64)"
      ]
     },
     "execution_count": 485,
     "metadata": {},
     "output_type": "execute_result"
    }
   ],
   "source": [
    "purchases_sparse.todense()[0, 1925:1930]"
   ]
  },
  {
   "cell_type": "code",
   "execution_count": 482,
   "metadata": {},
   "outputs": [],
   "source": [
    "ratings = purchases_sparse.todense()"
   ]
  },
  {
   "cell_type": "code",
   "execution_count": 450,
   "metadata": {},
   "outputs": [
    {
     "data": {
      "text/plain": [
       "1927"
      ]
     },
     "execution_count": 450,
     "metadata": {},
     "output_type": "execute_result"
    }
   ],
   "source": [
    "list(np.array(ratings[0, :])[0].reshape(1, -1)[0]).index(1)"
   ]
  },
  {
   "cell_type": "code",
   "execution_count": 486,
   "metadata": {},
   "outputs": [
    {
     "data": {
      "text/plain": [
       "array([0.08523272, 0.13002682, 0.14069729, 0.16350271, 0.04224508])"
      ]
     },
     "execution_count": 486,
     "metadata": {},
     "output_type": "execute_result"
    }
   ],
   "source": [
    "user0_ratings_pred[1925:1930]"
   ]
  },
  {
   "cell_type": "code",
   "execution_count": 484,
   "metadata": {},
   "outputs": [
    {
     "data": {
      "text/plain": [
       "matrix([[0, 0, 0, ..., 0, 0, 0]], dtype=int64)"
      ]
     },
     "execution_count": 484,
     "metadata": {},
     "output_type": "execute_result"
    }
   ],
   "source": [
    "ratings[0, :]"
   ]
  },
  {
   "cell_type": "code",
   "execution_count": null,
   "metadata": {},
   "outputs": [],
   "source": []
  }
 ],
 "metadata": {
  "kernelspec": {
   "display_name": "Python 3",
   "language": "python",
   "name": "python3"
  },
  "language_info": {
   "codemirror_mode": {
    "name": "ipython",
    "version": 3
   },
   "file_extension": ".py",
   "mimetype": "text/x-python",
   "name": "python",
   "nbconvert_exporter": "python",
   "pygments_lexer": "ipython3",
   "version": "3.7.2"
  }
 },
 "nbformat": 4,
 "nbformat_minor": 4
}
