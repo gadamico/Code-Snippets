{
 "cells": [
  {
   "cell_type": "code",
   "execution_count": 24,
   "metadata": {
    "scrolled": true
   },
   "outputs": [
    {
     "name": "stderr",
     "output_type": "stream",
     "text": [
      "/Users/gdamico/anaconda3/lib/python3.7/importlib/_bootstrap.py:219: RuntimeWarning: numpy.ufunc size changed, may indicate binary incompatibility. Expected 192 from C header, got 216 from PyObject\n",
      "  return f(*args, **kwds)\n"
     ]
    }
   ],
   "source": [
    "import numpy as np\n",
    "import pandas as pd\n",
    "from matplotlib import pyplot as plt"
   ]
  },
  {
   "cell_type": "code",
   "execution_count": 1,
   "metadata": {},
   "outputs": [],
   "source": [
    "def first_no_spaces(str_list):\n",
    "    return min([x.replace(' ', '') for x in str_list])"
   ]
  },
  {
   "cell_type": "code",
   "execution_count": 2,
   "metadata": {},
   "outputs": [
    {
     "data": {
      "text/plain": [
       "'123'"
      ]
     },
     "execution_count": 2,
     "metadata": {},
     "output_type": "execute_result"
    }
   ],
   "source": [
    "new_list = ['a and b', 'apples', '123', '1 or a']\n",
    "first_no_spaces(new_list)"
   ]
  },
  {
   "cell_type": "code",
   "execution_count": 17,
   "metadata": {},
   "outputs": [],
   "source": [
    "class Animal:\n",
    "    \n",
    "    def __init__(self, legs, wings):\n",
    "        self.legs = legs\n",
    "        self.wings = wings"
   ]
  },
  {
   "cell_type": "code",
   "execution_count": 18,
   "metadata": {},
   "outputs": [],
   "source": [
    "greg = Animal(2, 0)"
   ]
  },
  {
   "cell_type": "code",
   "execution_count": 19,
   "metadata": {},
   "outputs": [
    {
     "data": {
      "text/plain": [
       "2"
      ]
     },
     "execution_count": 19,
     "metadata": {},
     "output_type": "execute_result"
    }
   ],
   "source": [
    "greg.legs"
   ]
  },
  {
   "cell_type": "code",
   "execution_count": 7,
   "metadata": {},
   "outputs": [
    {
     "name": "stdout",
     "output_type": "stream",
     "text": [
      "/bin/sh: y: command not found\n",
      "ERROR: Pipe to stdout was broken\n",
      "Exception ignored in: <_io.TextIOWrapper name='<stdout>' mode='w' encoding='UTF-8'>\n",
      "BrokenPipeError: [Errno 32] Broken pipe\n"
     ]
    }
   ],
   "source": [
    "!pip uninstall utils | y"
   ]
  },
  {
   "cell_type": "code",
   "execution_count": 10,
   "metadata": {},
   "outputs": [
    {
     "ename": "ImportError",
     "evalue": "cannot import name 'plot_decision_boundary' from 'keras.utils' (/Users/gdamico/anaconda3/lib/python3.7/site-packages/keras/utils/__init__.py)",
     "output_type": "error",
     "traceback": [
      "\u001b[0;31m---------------------------------------------------------------------------\u001b[0m",
      "\u001b[0;31mImportError\u001b[0m                               Traceback (most recent call last)",
      "\u001b[0;32m<ipython-input-10-61b48a454fbd>\u001b[0m in \u001b[0;36m<module>\u001b[0;34m\u001b[0m\n\u001b[0;32m----> 1\u001b[0;31m \u001b[0;32mfrom\u001b[0m \u001b[0mkeras\u001b[0m\u001b[0;34m.\u001b[0m\u001b[0mutils\u001b[0m \u001b[0;32mimport\u001b[0m \u001b[0mplot_decision_boundary\u001b[0m\u001b[0;34m\u001b[0m\u001b[0;34m\u001b[0m\u001b[0m\n\u001b[0m",
      "\u001b[0;31mImportError\u001b[0m: cannot import name 'plot_decision_boundary' from 'keras.utils' (/Users/gdamico/anaconda3/lib/python3.7/site-packages/keras/utils/__init__.py)"
     ]
    }
   ],
   "source": [
    "from keras.utils import plot_decision_boundary"
   ]
  },
  {
   "cell_type": "code",
   "execution_count": 22,
   "metadata": {},
   "outputs": [],
   "source": [
    "from sklearn.model_selection import LeaveOneOut, cross_val_score\n",
    "from sklearn.datasets import make_regression\n",
    "from sklearn.linear_model import LinearRegression\n",
    "from sklearn.metrics import mean_squared_error"
   ]
  },
  {
   "cell_type": "code",
   "execution_count": 62,
   "metadata": {},
   "outputs": [],
   "source": [
    "X, y = make_regression()"
   ]
  },
  {
   "cell_type": "code",
   "execution_count": 63,
   "metadata": {},
   "outputs": [],
   "source": [
    "loo = LeaveOneOut()\n",
    "\n",
    "lr = LinearRegression()"
   ]
  },
  {
   "cell_type": "code",
   "execution_count": 64,
   "metadata": {},
   "outputs": [],
   "source": [
    "scores = np.array([])\n",
    "for train, test in loo.split(X):\n",
    "    lr.fit(X[train, :], y[train])\n",
    "    scores = np.append(scores, np.sqrt(mean_squared_error(lr.predict(X[test, :])\\\n",
    "                                                        .reshape(1, -1), y[test])))"
   ]
  },
  {
   "cell_type": "code",
   "execution_count": 65,
   "metadata": {},
   "outputs": [
    {
     "data": {
      "text/plain": [
       "36.56881013252029"
      ]
     },
     "execution_count": 65,
     "metadata": {},
     "output_type": "execute_result"
    }
   ],
   "source": [
    "scores.mean()"
   ]
  },
  {
   "cell_type": "code",
   "execution_count": 57,
   "metadata": {},
   "outputs": [],
   "source": [
    "X, y = make_regression(n_samples=100000)"
   ]
  },
  {
   "cell_type": "code",
   "execution_count": 34,
   "metadata": {},
   "outputs": [],
   "source": [
    "from tensorflow import keras"
   ]
  },
  {
   "cell_type": "code",
   "execution_count": 68,
   "metadata": {},
   "outputs": [],
   "source": [
    "def build_model():\n",
    "    model = keras.Sequential()\n",
    "    model.add(keras.layers.Dense(8, input_dim=X.shape[1],\n",
    "                                activation='tanh'))\n",
    "    \n",
    "    # One way of regularizing is to add noise.\n",
    "    model.add(keras.layers.GaussianNoise(0.05))\n",
    "    model.add(keras.layers.Dense(1))\n",
    "    \n",
    "    model.compile(loss='mean_squared_error',\n",
    "                 optimizer='adam')\n",
    "    return model"
   ]
  },
  {
   "cell_type": "code",
   "execution_count": 59,
   "metadata": {},
   "outputs": [],
   "source": [
    "# We can use sklearn tools on keras models by using keras wrappers.\n",
    "MyModel = keras.wrappers.scikit_learn.KerasRegressor(build_fn=build_model,\n",
    "                                                    epochs=10,\n",
    "                                                    batch_size=20,\n",
    "                                                    verbose=1)"
   ]
  },
  {
   "cell_type": "code",
   "execution_count": 60,
   "metadata": {},
   "outputs": [],
   "source": [
    "from sklearn.model_selection import cross_val_score"
   ]
  },
  {
   "cell_type": "code",
   "execution_count": 61,
   "metadata": {},
   "outputs": [
    {
     "name": "stdout",
     "output_type": "stream",
     "text": [
      "Epoch 1/10\n",
      "4000/4000 [==============================] - 2s 381us/step - loss: 27944.7461\n",
      "Epoch 2/10\n",
      "4000/4000 [==============================] - 2s 376us/step - loss: 20695.0488\n",
      "Epoch 3/10\n",
      "4000/4000 [==============================] - 2s 379us/step - loss: 15510.0830\n",
      "Epoch 4/10\n",
      "4000/4000 [==============================] - 2s 376us/step - loss: 11563.0498\n",
      "Epoch 5/10\n",
      "4000/4000 [==============================] - 1s 372us/step - loss: 8637.9492\n",
      "Epoch 6/10\n",
      "4000/4000 [==============================] - 2s 379us/step - loss: 6514.9170\n",
      "Epoch 7/10\n",
      "4000/4000 [==============================] - 2s 377us/step - loss: 4996.4648\n",
      "Epoch 8/10\n",
      "4000/4000 [==============================] - 2s 382us/step - loss: 3888.3335\n",
      "Epoch 9/10\n",
      "4000/4000 [==============================] - 2s 378us/step - loss: 3010.7446\n",
      "Epoch 10/10\n",
      "4000/4000 [==============================] - 2s 377us/step - loss: 2322.0593\n",
      "1000/1000 [==============================] - 0s 306us/step - loss: 2113.0886\n",
      "Epoch 1/10\n",
      "4000/4000 [==============================] - 2s 382us/step - loss: 27698.4805\n",
      "Epoch 2/10\n",
      "4000/4000 [==============================] - 2s 379us/step - loss: 20463.5703\n",
      "Epoch 3/10\n",
      "4000/4000 [==============================] - 2s 379us/step - loss: 15346.3682\n",
      "Epoch 4/10\n",
      "4000/4000 [==============================] - 2s 385us/step - loss: 11459.6836\n",
      "Epoch 5/10\n",
      "4000/4000 [==============================] - 2s 399us/step - loss: 8569.9414\n",
      "Epoch 6/10\n",
      "4000/4000 [==============================] - 2s 414us/step - loss: 6463.2808\n",
      "Epoch 7/10\n",
      "4000/4000 [==============================] - 2s 386us/step - loss: 4954.6328\n",
      "Epoch 8/10\n",
      "4000/4000 [==============================] - 2s 377us/step - loss: 3851.2681\n",
      "Epoch 9/10\n",
      "4000/4000 [==============================] - 2s 382us/step - loss: 2972.7319\n",
      "Epoch 10/10\n",
      "4000/4000 [==============================] - 2s 379us/step - loss: 2167.1316\n",
      "1000/1000 [==============================] - 0s 310us/step - loss: 1691.9102\n",
      "Epoch 1/10\n",
      "4000/4000 [==============================] - 1s 373us/step - loss: 27791.7637\n",
      "Epoch 2/10\n",
      "4000/4000 [==============================] - 2s 376us/step - loss: 20552.4375\n",
      "Epoch 3/10\n",
      "4000/4000 [==============================] - 2s 460us/step - loss: 15403.4434\n",
      "Epoch 4/10\n",
      "4000/4000 [==============================] - 2s 509us/step - loss: 11475.5342\n",
      "Epoch 5/10\n",
      "4000/4000 [==============================] - 2s 475us/step - loss: 8569.4980\n",
      "Epoch 6/10\n",
      "4000/4000 [==============================] - 2s 426us/step - loss: 6466.0918\n",
      "Epoch 7/10\n",
      "4000/4000 [==============================] - 2s 381us/step - loss: 4954.4038\n",
      "Epoch 8/10\n",
      "4000/4000 [==============================] - 2s 381us/step - loss: 3848.8940\n",
      "Epoch 9/10\n",
      "4000/4000 [==============================] - 2s 382us/step - loss: 2796.3098\n",
      "Epoch 10/10\n",
      "4000/4000 [==============================] - 2s 381us/step - loss: 1928.0746\n",
      "1000/1000 [==============================] - 0s 306us/step - loss: 1572.5476\n",
      "Epoch 1/10\n",
      "4000/4000 [==============================] - 2s 380us/step - loss: 27506.8828\n",
      "Epoch 2/10\n",
      "4000/4000 [==============================] - 2s 392us/step - loss: 20267.9648\n",
      "Epoch 3/10\n",
      "4000/4000 [==============================] - 2s 382us/step - loss: 15176.1484\n",
      "Epoch 4/10\n",
      "4000/4000 [==============================] - 2s 382us/step - loss: 11309.1709\n",
      "Epoch 5/10\n",
      "4000/4000 [==============================] - 2s 381us/step - loss: 8449.0801\n",
      "Epoch 6/10\n",
      "4000/4000 [==============================] - 2s 384us/step - loss: 6380.2974\n",
      "Epoch 7/10\n",
      "4000/4000 [==============================] - 2s 383us/step - loss: 4887.6890\n",
      "Epoch 8/10\n",
      "4000/4000 [==============================] - 2s 383us/step - loss: 3767.9399\n",
      "Epoch 9/10\n",
      "4000/4000 [==============================] - 2s 384us/step - loss: 2888.7141\n",
      "Epoch 10/10\n",
      "4000/4000 [==============================] - 2s 392us/step - loss: 2161.6897\n",
      "1000/1000 [==============================] - 0s 311us/step - loss: 1874.6125\n",
      "Epoch 1/10\n",
      "4000/4000 [==============================] - 2s 390us/step - loss: 27569.2930\n",
      "Epoch 2/10\n",
      "4000/4000 [==============================] - 2s 388us/step - loss: 20331.7734\n",
      "Epoch 3/10\n",
      "4000/4000 [==============================] - 2s 389us/step - loss: 15238.3955\n",
      "Epoch 4/10\n",
      "4000/4000 [==============================] - 2s 388us/step - loss: 11370.1973\n",
      "Epoch 5/10\n",
      "4000/4000 [==============================] - 2s 388us/step - loss: 8503.4043\n",
      "Epoch 6/10\n",
      "4000/4000 [==============================] - 2s 389us/step - loss: 6417.4146\n",
      "Epoch 7/10\n",
      "4000/4000 [==============================] - 2s 388us/step - loss: 4914.8569\n",
      "Epoch 8/10\n",
      "4000/4000 [==============================] - 2s 389us/step - loss: 3795.5752\n",
      "Epoch 9/10\n",
      "4000/4000 [==============================] - 2s 388us/step - loss: 2913.5237\n",
      "Epoch 10/10\n",
      "4000/4000 [==============================] - 2s 387us/step - loss: 2269.0049\n",
      "1000/1000 [==============================] - 0s 310us/step - loss: 2001.1458\n"
     ]
    },
    {
     "data": {
      "text/plain": [
       "array([-2113.08862305, -1691.91015625, -1572.54760742, -1874.61254883,\n",
       "       -2001.14575195])"
      ]
     },
     "execution_count": 61,
     "metadata": {},
     "output_type": "execute_result"
    }
   ],
   "source": [
    "cross_val_score(MyModel, X, y, cv=5)"
   ]
  },
  {
   "cell_type": "code",
   "execution_count": 69,
   "metadata": {},
   "outputs": [],
   "source": [
    "from sklearn.datasets import load_wine"
   ]
  },
  {
   "cell_type": "code",
   "execution_count": 73,
   "metadata": {},
   "outputs": [],
   "source": [
    "wine = load_wine()"
   ]
  },
  {
   "cell_type": "code",
   "execution_count": 79,
   "metadata": {
    "scrolled": true
   },
   "outputs": [
    {
     "data": {
      "text/plain": [
       "'.. _wine_dataset:\\n\\nWine recognition dataset\\n------------------------\\n\\n**Data Set Characteristics:**\\n\\n    :Number of Instances: 178 (50 in each of three classes)\\n    :Number of Attributes: 13 numeric, predictive attributes and the class\\n    :Attribute Information:\\n \\t\\t- Alcohol\\n \\t\\t- Malic acid\\n \\t\\t- Ash\\n\\t\\t- Alcalinity of ash  \\n \\t\\t- Magnesium\\n\\t\\t- Total phenols\\n \\t\\t- Flavanoids\\n \\t\\t- Nonflavanoid phenols\\n \\t\\t- Proanthocyanins\\n\\t\\t- Color intensity\\n \\t\\t- Hue\\n \\t\\t- OD280/OD315 of diluted wines\\n \\t\\t- Proline\\n\\n    - class:\\n            - class_0\\n            - class_1\\n            - class_2\\n\\t\\t\\n    :Summary Statistics:\\n    \\n    ============================= ==== ===== ======= =====\\n                                   Min   Max   Mean     SD\\n    ============================= ==== ===== ======= =====\\n    Alcohol:                      11.0  14.8    13.0   0.8\\n    Malic Acid:                   0.74  5.80    2.34  1.12\\n    Ash:                          1.36  3.23    2.36  0.27\\n    Alcalinity of Ash:            10.6  30.0    19.5   3.3\\n    Magnesium:                    70.0 162.0    99.7  14.3\\n    Total Phenols:                0.98  3.88    2.29  0.63\\n    Flavanoids:                   0.34  5.08    2.03  1.00\\n    Nonflavanoid Phenols:         0.13  0.66    0.36  0.12\\n    Proanthocyanins:              0.41  3.58    1.59  0.57\\n    Colour Intensity:              1.3  13.0     5.1   2.3\\n    Hue:                          0.48  1.71    0.96  0.23\\n    OD280/OD315 of diluted wines: 1.27  4.00    2.61  0.71\\n    Proline:                       278  1680     746   315\\n    ============================= ==== ===== ======= =====\\n\\n    :Missing Attribute Values: None\\n    :Class Distribution: class_0 (59), class_1 (71), class_2 (48)\\n    :Creator: R.A. Fisher\\n    :Donor: Michael Marshall (MARSHALL%PLU@io.arc.nasa.gov)\\n    :Date: July, 1988\\n\\nThis is a copy of UCI ML Wine recognition datasets.\\nhttps://archive.ics.uci.edu/ml/machine-learning-databases/wine/wine.data\\n\\nThe data is the results of a chemical analysis of wines grown in the same\\nregion in Italy by three different cultivators. There are thirteen different\\nmeasurements taken for different constituents found in the three types of\\nwine.\\n\\nOriginal Owners: \\n\\nForina, M. et al, PARVUS - \\nAn Extendible Package for Data Exploration, Classification and Correlation. \\nInstitute of Pharmaceutical and Food Analysis and Technologies,\\nVia Brigata Salerno, 16147 Genoa, Italy.\\n\\nCitation:\\n\\nLichman, M. (2013). UCI Machine Learning Repository\\n[https://archive.ics.uci.edu/ml]. Irvine, CA: University of California,\\nSchool of Information and Computer Science. \\n\\n.. topic:: References\\n\\n  (1) S. Aeberhard, D. Coomans and O. de Vel, \\n  Comparison of Classifiers in High Dimensional Settings, \\n  Tech. Rep. no. 92-02, (1992), Dept. of Computer Science and Dept. of  \\n  Mathematics and Statistics, James Cook University of North Queensland. \\n  (Also submitted to Technometrics). \\n\\n  The data was used with many others for comparing various \\n  classifiers. The classes are separable, though only RDA \\n  has achieved 100% correct classification. \\n  (RDA : 100%, QDA 99.4%, LDA 98.9%, 1NN 96.1% (z-transformed data)) \\n  (All results using the leave-one-out technique) \\n\\n  (2) S. Aeberhard, D. Coomans and O. de Vel, \\n  \"THE CLASSIFICATION PERFORMANCE OF RDA\" \\n  Tech. Rep. no. 92-01, (1992), Dept. of Computer Science and Dept. of \\n  Mathematics and Statistics, James Cook University of North Queensland. \\n  (Also submitted to Journal of Chemometrics).\\n'"
      ]
     },
     "execution_count": 79,
     "metadata": {},
     "output_type": "execute_result"
    }
   ],
   "source": [
    "wine.DESCR"
   ]
  },
  {
   "cell_type": "code",
   "execution_count": 89,
   "metadata": {},
   "outputs": [
    {
     "data": {
      "text/html": [
       "<div>\n",
       "<style scoped>\n",
       "    .dataframe tbody tr th:only-of-type {\n",
       "        vertical-align: middle;\n",
       "    }\n",
       "\n",
       "    .dataframe tbody tr th {\n",
       "        vertical-align: top;\n",
       "    }\n",
       "\n",
       "    .dataframe thead th {\n",
       "        text-align: right;\n",
       "    }\n",
       "</style>\n",
       "<table border=\"1\" class=\"dataframe\">\n",
       "  <thead>\n",
       "    <tr style=\"text-align: right;\">\n",
       "      <th></th>\n",
       "      <th>Football: (United States)</th>\n",
       "    </tr>\n",
       "    <tr>\n",
       "      <th>Month</th>\n",
       "      <th></th>\n",
       "    </tr>\n",
       "  </thead>\n",
       "  <tbody>\n",
       "    <tr>\n",
       "      <th>2004-01</th>\n",
       "      <td>34</td>\n",
       "    </tr>\n",
       "    <tr>\n",
       "      <th>2004-02</th>\n",
       "      <td>33</td>\n",
       "    </tr>\n",
       "    <tr>\n",
       "      <th>2004-03</th>\n",
       "      <td>34</td>\n",
       "    </tr>\n",
       "    <tr>\n",
       "      <th>2004-04</th>\n",
       "      <td>36</td>\n",
       "    </tr>\n",
       "    <tr>\n",
       "      <th>2004-05</th>\n",
       "      <td>38</td>\n",
       "    </tr>\n",
       "    <tr>\n",
       "      <th>...</th>\n",
       "      <td>...</td>\n",
       "    </tr>\n",
       "    <tr>\n",
       "      <th>2020-11</th>\n",
       "      <td>34</td>\n",
       "    </tr>\n",
       "    <tr>\n",
       "      <th>2020-12</th>\n",
       "      <td>28</td>\n",
       "    </tr>\n",
       "    <tr>\n",
       "      <th>2021-01</th>\n",
       "      <td>28</td>\n",
       "    </tr>\n",
       "    <tr>\n",
       "      <th>2021-02</th>\n",
       "      <td>25</td>\n",
       "    </tr>\n",
       "    <tr>\n",
       "      <th>2021-03</th>\n",
       "      <td>24</td>\n",
       "    </tr>\n",
       "  </tbody>\n",
       "</table>\n",
       "<p>207 rows × 1 columns</p>\n",
       "</div>"
      ],
      "text/plain": [
       "         Football: (United States)\n",
       "Month                             \n",
       "2004-01                         34\n",
       "2004-02                         33\n",
       "2004-03                         34\n",
       "2004-04                         36\n",
       "2004-05                         38\n",
       "...                            ...\n",
       "2020-11                         34\n",
       "2020-12                         28\n",
       "2021-01                         28\n",
       "2021-02                         25\n",
       "2021-03                         24\n",
       "\n",
       "[207 rows x 1 columns]"
      ]
     },
     "execution_count": 89,
     "metadata": {},
     "output_type": "execute_result"
    }
   ],
   "source": [
    "trend_df = pd.read_csv('/Users/gdamico/Downloads/multiTimeline.csv',\n",
    "                       header=1,\n",
    "                      index_col='Month')\n",
    "trend_df"
   ]
  },
  {
   "cell_type": "code",
   "execution_count": 91,
   "metadata": {},
   "outputs": [
    {
     "data": {
      "image/png": "[encoded data removed]",
      "text/plain": [
       "<Figure size 432x288 with 1 Axes>"
      ]
     },
     "metadata": {
      "needs_background": "light"
     },
     "output_type": "display_data"
    }
   ],
   "source": [
    "fig, ax = plt.subplots()\n",
    "plt.tight_layout()\n",
    "\n",
    "#ax.set_title(str(trends[i]))\n",
    "ax.plot(np.array(trend_df.index), trend_df['Football: (United States)'])\n",
    "ticks = ax.get_xticks()\n",
    "ax.set_ylim((0, 100))\n",
    "ax.set_xticks([tick for tick in ticks if tick%24 == 0]);"
   ]
  },
  {
   "cell_type": "code",
   "execution_count": 92,
   "metadata": {},
   "outputs": [],
   "source": [
    "import boto3"
   ]
  },
  {
   "cell_type": "code",
   "execution_count": 93,
   "metadata": {},
   "outputs": [],
   "source": [
    "from sklearn.metrics import log_loss"
   ]
  },
  {
   "cell_type": "code",
   "execution_count": 101,
   "metadata": {},
   "outputs": [
    {
     "data": {
      "text/plain": [
       "array([0.62300467, 0.91164955])"
      ]
     },
     "execution_count": 101,
     "metadata": {},
     "output_type": "execute_result"
    }
   ],
   "source": [
    "np.random.rand(2)"
   ]
  },
  {
   "cell_type": "code",
   "execution_count": 107,
   "metadata": {},
   "outputs": [
    {
     "data": {
      "text/plain": [
       "array([0, 0])"
      ]
     },
     "execution_count": 107,
     "metadata": {},
     "output_type": "execute_result"
    }
   ],
   "source": [
    "np.random.choice(a=[1, 0], size=2)"
   ]
  },
  {
   "cell_type": "code",
   "execution_count": 117,
   "metadata": {},
   "outputs": [],
   "source": [
    "def rand_log_loss(n):\n",
    "\n",
    "    try: loss = log_loss(y_true=np.random.choice(a=[1, 0], size=n),\n",
    "         y_pred=np.random.rand(n))\n",
    "    except:\n",
    "        print('Try larger n!')\n",
    "        return None\n",
    "    return loss"
   ]
  },
  {
   "cell_type": "code",
   "execution_count": 124,
   "metadata": {},
   "outputs": [
    {
     "data": {
      "image/png": "[encoded data removed]",
      "text/plain": [
       "<Figure size 432x288 with 1 Axes>"
      ]
     },
     "metadata": {
      "needs_background": "light"
     },
     "output_type": "display_data"
    }
   ],
   "source": [
    "import matplotlib.pyplot as plt\n",
    "\n",
    "X = np.arange(10, 10000, 10)\n",
    "y = [rand_log_loss(x) for x in X]\n",
    "fig, ax = plt.subplots()\n",
    "\n",
    "ax.scatter(X, y);"
   ]
  },
  {
   "cell_type": "markdown",
   "metadata": {},
   "source": [
    "## Mean of Sine / Minimize SSE"
   ]
  },
  {
   "cell_type": "code",
   "execution_count": 129,
   "metadata": {
    "scrolled": true
   },
   "outputs": [
    {
     "data": {
      "text/plain": [
       "4999"
      ]
     },
     "execution_count": 129,
     "metadata": {},
     "output_type": "execute_result"
    }
   ],
   "source": [
    "X = np.linspace(0, 2*np.pi, 10000)\n",
    "y = np.sin(X)\n",
    "\n",
    "mses = []\n",
    "for j in range(1, len(X)):\n",
    "    mse = sum((y[:j] - y[:j].mean())**2)\n",
    "    mse += sum((y[j:] - y[j:].mean())**2)\n",
    "    mses.append(mse)\n",
    "mses.index(min(mses))"
   ]
  },
  {
   "cell_type": "code",
   "execution_count": 160,
   "metadata": {},
   "outputs": [
    {
     "data": {
      "text/plain": [
       "28"
      ]
     },
     "execution_count": 160,
     "metadata": {},
     "output_type": "execute_result"
    }
   ],
   "source": [
    "X = np.linspace(0, 20, 201)\n",
    "y = np.sin(X)\n",
    "\n",
    "mses = []\n",
    "for j in range(1, len(X)):\n",
    "    mse = sum((y[:j] - y[:j].mean())**2)\n",
    "    mse += sum((y[j:] - y[j:].mean())**2)\n",
    "    mses.append(mse)\n",
    "mses.index(min(mses))"
   ]
  },
  {
   "cell_type": "markdown",
   "metadata": {},
   "source": [
    "## k-NN Predicting on Training"
   ]
  },
  {
   "cell_type": "code",
   "execution_count": 161,
   "metadata": {},
   "outputs": [],
   "source": [
    "from sklearn.neighbors import KNeighborsClassifier, NearestNeighbors"
   ]
  },
  {
   "cell_type": "code",
   "execution_count": 163,
   "metadata": {},
   "outputs": [],
   "source": [
    "X = np.array([1, 2]).reshape(-1, 1)\n",
    "y = np.array([True, False])"
   ]
  },
  {
   "cell_type": "code",
   "execution_count": 164,
   "metadata": {},
   "outputs": [],
   "source": [
    "knn = KNeighborsClassifier(n_neighbors=1)"
   ]
  },
  {
   "cell_type": "code",
   "execution_count": 165,
   "metadata": {},
   "outputs": [
    {
     "data": {
      "text/plain": [
       "KNeighborsClassifier(n_neighbors=1)"
      ]
     },
     "execution_count": 165,
     "metadata": {},
     "output_type": "execute_result"
    }
   ],
   "source": [
    "knn.fit(X, y)"
   ]
  },
  {
   "cell_type": "code",
   "execution_count": 166,
   "metadata": {},
   "outputs": [
    {
     "data": {
      "text/plain": [
       "array([ True, False])"
      ]
     },
     "execution_count": 166,
     "metadata": {},
     "output_type": "execute_result"
    }
   ],
   "source": [
    "knn.predict(X)"
   ]
  },
  {
   "cell_type": "code",
   "execution_count": 167,
   "metadata": {},
   "outputs": [
    {
     "data": {
      "text/plain": [
       "NearestNeighbors(n_neighbors=1)"
      ]
     },
     "execution_count": 167,
     "metadata": {},
     "output_type": "execute_result"
    }
   ],
   "source": [
    "ns = NearestNeighbors(n_neighbors=1)\n",
    "ns.fit(X)"
   ]
  },
  {
   "cell_type": "code",
   "execution_count": 170,
   "metadata": {},
   "outputs": [
    {
     "data": {
      "text/plain": [
       "(array([[0.]]), array([[0]]))"
      ]
     },
     "execution_count": 170,
     "metadata": {},
     "output_type": "execute_result"
    }
   ],
   "source": [
    "ns.kneighbors(np.array([1]).reshape(1, 1))"
   ]
  },
  {
   "cell_type": "code",
   "execution_count": 186,
   "metadata": {},
   "outputs": [],
   "source": [
    "X = np.random.rand(100, 3)\n",
    "y = np.random.choice([True, False], size=100)"
   ]
  },
  {
   "cell_type": "code",
   "execution_count": 187,
   "metadata": {},
   "outputs": [
    {
     "data": {
      "text/plain": [
       "KNeighborsClassifier(n_neighbors=1)"
      ]
     },
     "execution_count": 187,
     "metadata": {},
     "output_type": "execute_result"
    }
   ],
   "source": [
    "knn_rand = KNeighborsClassifier(n_neighbors=1)\n",
    "knn_rand.fit(X, y)"
   ]
  },
  {
   "cell_type": "code",
   "execution_count": 188,
   "metadata": {},
   "outputs": [
    {
     "data": {
      "text/plain": [
       "1.0"
      ]
     },
     "execution_count": 188,
     "metadata": {},
     "output_type": "execute_result"
    }
   ],
   "source": [
    "knn_rand.score(X, y)"
   ]
  },
  {
   "cell_type": "markdown",
   "metadata": {},
   "source": [
    "## ALS with `sklearn.linear_model.LinearRegression`"
   ]
  },
  {
   "cell_type": "code",
   "execution_count": 52,
   "metadata": {},
   "outputs": [],
   "source": [
    "from random import gauss as gs, uniform as uni, seed\n",
    "from scipy.sparse.linalg import spsolve"
   ]
  },
  {
   "cell_type": "code",
   "execution_count": 53,
   "metadata": {},
   "outputs": [],
   "source": [
    "def als(ratings, users, items, reps=10):\n",
    "    \n",
    "    ratings_cols = ratings.T\n",
    "    for _ in range(reps):\n",
    "        new_users = []\n",
    "        for i in range(len(ratings)):\n",
    "            user = spsolve(LinearRegression().fit(items, ratings[i]).coef_\n",
    "            new_users.append(user)\n",
    "        new_users = np.asarray(new_users)\n",
    "        \n",
    "        new_items = []\n",
    "        for i in range(len(ratings)):\n",
    "            item = LinearRegression().fit(new_users, ratings_cols[i]).coef_\n",
    "            new_items.append(item)\n",
    "        new_items = np.asarray(new_items)\n",
    "        \n",
    "        guess = new_users.dot(new_items.T)\n",
    "        err = 0\n",
    "        for i in range(len(ratings)):\n",
    "            for j in range(len(ratings[i])):\n",
    "                if ratings[i, j] != 0:\n",
    "                    err += (ratings[i, j] - guess[i, j])**2\n",
    "        print(err)\n",
    "        \n",
    "        items = new_items\n",
    "        \n",
    "    return new_users.dot(new_items.T)"
   ]
  },
  {
   "cell_type": "code",
   "execution_count": 62,
   "metadata": {},
   "outputs": [],
   "source": [
    "# If P = users and Q = items, then we want to approximate R = PQ^T\n",
    "# Let's generate R.\n",
    "\n",
    "seed(42)\n",
    "ratings2 = []\n",
    "for _ in range(100):\n",
    "    user = []\n",
    "    for _ in range(100):\n",
    "        chance = gs(0, 0.4)\n",
    "        \n",
    "        # We'll fill our ratings matrix mostly with 0's to represent\n",
    "        # unrated films. This is NOT standard; we're doing this only\n",
    "        # to illustrate the general algorithm.\n",
    "        if chance > 0.5:\n",
    "            user.append(40 * int(uni(1, 6)))\n",
    "        else:\n",
    "            user.append(gs(0, 1e-5))\n",
    "        \n",
    "        # This 'if' will simply ensure that everyone has given at least\n",
    "        # one rating.\n",
    "        if user.count(0) == 10:\n",
    "            user[int(uni(0, 10))] = int(uni(1, 6))\n",
    "    ratings2.append(user)\n",
    "ratings_arr2 = np.array(ratings2)"
   ]
  },
  {
   "cell_type": "code",
   "execution_count": 63,
   "metadata": {},
   "outputs": [
    {
     "data": {
      "text/plain": [
       "array([[-1.72903600e-06,  7.01983725e-06, -1.49735341e-05, ...,\n",
       "         6.95283931e-06, -1.00197549e-06,  2.00000000e+02],\n",
       "       [ 1.73912401e-05,  5.78785691e-06,  2.28636690e-06, ...,\n",
       "        -2.43680163e-06, -1.27800835e-05, -1.05440873e-05],\n",
       "       [ 2.55982921e-06,  1.45030994e-05,  2.03518661e-06, ...,\n",
       "         1.73742551e-05, -7.66626646e-06,  4.00000000e+01],\n",
       "       ...,\n",
       "       [-9.53572471e-06, -8.97884742e-07,  2.44974044e-05, ...,\n",
       "         1.20000000e+02, -1.29197918e-05, -6.73464740e-06],\n",
       "       [ 2.08353422e-06, -7.52011769e-07, -7.59144480e-07, ...,\n",
       "        -1.00620946e-06,  4.75583217e-06, -6.64890286e-06],\n",
       "       [-2.76168622e-06,  1.29989734e-05, -1.09635449e-05, ...,\n",
       "         1.36491775e-05,  9.84810496e-06, -1.17365366e-05]])"
      ]
     },
     "execution_count": 63,
     "metadata": {},
     "output_type": "execute_result"
    }
   ],
   "source": [
    "ratings_arr2"
   ]
  },
  {
   "cell_type": "code",
   "execution_count": 67,
   "metadata": {},
   "outputs": [],
   "source": [
    "users2 = []\n",
    "\n",
    "# Random generation of values for the user matrix\n",
    "for _ in range(100):\n",
    "    user = []\n",
    "    for _ in range(10):\n",
    "        user.append(gs(0, 2))\n",
    "    users2.append(user)\n",
    "users_arr2 = np.array(users2)"
   ]
  },
  {
   "cell_type": "code",
   "execution_count": 68,
   "metadata": {},
   "outputs": [],
   "source": [
    "items2 = []\n",
    "\n",
    "# Random generation of values for the item matrix\n",
    "for _ in range(100):\n",
    "    item = []\n",
    "    for _ in range(10):\n",
    "        item.append(gs(0, 2))\n",
    "    items2.append(item)\n",
    "items_arr2 = np.array(items2)"
   ]
  },
  {
   "cell_type": "code",
   "execution_count": 70,
   "metadata": {},
   "outputs": [
    {
     "name": "stdout",
     "output_type": "stream",
     "text": [
      "14902697.00282787\n",
      "13677136.066097116\n",
      "13259512.631001495\n",
      "13089705.061877707\n",
      "13011106.605853757\n",
      "12969576.396666985\n",
      "12944900.166656092\n",
      "12928714.718666377\n",
      "12917227.716339227\n",
      "12908568.211957647\n",
      "12901736.98082181\n",
      "12896160.880885046\n",
      "12891491.360889712\n",
      "12887507.32449786\n",
      "12884064.769111896\n",
      "12881068.362322556\n",
      "12878453.914675206\n",
      "12876176.774304409\n",
      "12874203.88182126\n",
      "12872508.403510256\n",
      "12871066.327858355\n",
      "12869854.56606814\n",
      "12868850.145235892\n",
      "12868030.119077248\n",
      "12867371.877834484\n",
      "12866853.614849513\n",
      "12866454.788018746\n",
      "12866156.4860512\n",
      "12865941.66410249\n",
      "12865795.249211049\n",
      "12865704.135539206\n",
      "12865657.097059479\n",
      "12865644.645458167\n",
      "12865658.85720486\n",
      "12865693.188430628\n",
      "12865742.290933523\n",
      "12865801.83802063\n",
      "12865868.365263587\n",
      "12865939.128581926\n",
      "12866011.98023364\n",
      "12866085.262119208\n",
      "12866157.715119192\n",
      "12866228.402836232\n",
      "12866296.647999978\n",
      "12866361.979817957\n",
      "12866424.090666844\n",
      "12866482.8006732\n",
      "12866538.028902419\n",
      "12866589.770045912\n",
      "12866638.075655276\n"
     ]
    },
    {
     "data": {
      "text/plain": [
       "array([[ 1.31625184e+01, -1.06793853e+01, -1.61006450e+01,\n",
       "         1.29671776e+01, -4.14742956e+00,  8.13197496e-01,\n",
       "        -2.49569258e+00, -1.62195359e+01,  9.63015035e+00,\n",
       "         1.57470082e+01, -9.48902227e+00, -9.09252438e+00,\n",
       "        -1.45655438e+01, -1.29289113e+01, -3.45626641e+01,\n",
       "         3.76229795e+00, -2.74899352e+01, -2.04245855e+01,\n",
       "        -2.62803992e+01,  2.47761539e+01,  3.35762287e+01,\n",
       "        -9.12930789e+00,  2.14164484e+01, -7.14921572e+00,\n",
       "        -4.20238639e+00, -9.02266880e+00,  7.31410576e-01,\n",
       "        -7.58112318e+00, -2.87627608e+00,  1.19033993e+01,\n",
       "         4.26599412e+01, -3.56464211e+00, -3.52838018e+01,\n",
       "        -1.49644871e+01,  3.99267568e+00, -4.97879811e-01,\n",
       "        -4.75593183e+01,  2.64037665e+01,  6.16075375e-01,\n",
       "         1.33289549e+01, -4.01091320e+00,  3.25279206e+00,\n",
       "         3.77510856e+00,  6.00229324e+00,  1.92759138e+01,\n",
       "        -7.63893952e+01,  1.92805179e+01, -2.80630382e+01,\n",
       "        -2.18033738e+01, -1.93992560e+01,  2.39776259e+00,\n",
       "         1.84749828e+01, -5.31090544e+00, -1.30032696e+00,\n",
       "         1.13591280e+01, -1.25700914e+01, -1.07608022e+01,\n",
       "         5.37524035e+01, -3.59133347e+00, -6.00031692e+00,\n",
       "         8.27961991e-01,  6.68356686e+00,  7.79426292e+00,\n",
       "         4.44581358e+01,  3.50926702e-02, -2.00804310e+01,\n",
       "        -3.69612611e+00, -2.09451957e+01,  1.30229596e+01,\n",
       "        -3.15923394e+01,  1.12943271e+01,  9.38743228e+00,\n",
       "         9.44084661e+00, -1.17139789e+01, -1.70763232e+01,\n",
       "         1.46166944e+01, -1.08806520e+01,  8.19023897e+00,\n",
       "        -5.79187168e+00, -4.62308726e+00,  2.87957999e+01,\n",
       "         6.87301879e+00,  1.00352407e+01, -1.28969242e+01,\n",
       "         3.47857248e+01,  2.45339572e+01,  1.59344916e+01,\n",
       "        -1.89232975e+01, -6.15119738e+00,  2.79224089e+01,\n",
       "         7.60010883e+00, -1.64023778e+01,  1.70779502e+01,\n",
       "         2.00673132e+01, -1.02598629e+01,  1.64227814e+01,\n",
       "         2.31546946e+00,  2.62767743e+01,  1.88583846e+01,\n",
       "         3.04188416e+01],\n",
       "       [ 3.54902900e+00, -7.32279736e+00,  3.86339165e+00,\n",
       "        -1.21655585e+01, -3.16307437e+00, -8.75144404e+00,\n",
       "         1.93702344e+00,  5.54411592e+00, -4.71008289e+00,\n",
       "         4.18618994e+01,  7.87982215e+00,  1.21334395e+01,\n",
       "         1.48541620e+01,  9.86590408e+00,  4.34947809e+01,\n",
       "         3.23072284e+00,  1.22976774e+01,  2.61588801e+01,\n",
       "         2.15832387e+01, -3.41297105e+01, -5.48853026e+00,\n",
       "        -9.58012124e+00, -1.78103129e+01,  5.86257801e+00,\n",
       "         1.55538009e+01, -2.78682251e+01, -1.38166620e+01,\n",
       "        -5.70175101e+00,  7.58735000e+00, -2.83998976e+01,\n",
       "        -4.13674190e+01,  1.24271922e+01,  3.30683658e+01,\n",
       "         2.76435030e+01, -6.34845188e+00, -1.97864019e+01,\n",
       "         3.95898964e+01, -3.01829063e+01, -9.25605950e+00,\n",
       "        -6.56690904e+00, -1.10817908e+01, -1.19147197e+01,\n",
       "        -1.63683628e+01,  2.57351826e+00, -1.04583383e+00,\n",
       "         8.49036342e+01, -9.02712957e+00,  4.20028974e+01,\n",
       "         2.25001452e+01,  3.50848055e+01,  7.85863192e+00,\n",
       "         4.43346355e+00, -1.33764765e+01,  2.46189387e-01,\n",
       "         7.26716856e+00, -1.57471191e+01, -6.23198564e+00,\n",
       "        -8.03798078e+00,  1.64043263e+01,  8.05436775e+00,\n",
       "         4.02305936e-01,  2.50732469e+00,  2.04030607e+00,\n",
       "        -3.70430596e+01, -6.63785858e+00,  6.66434980e+00,\n",
       "        -7.79692875e-01,  7.44973380e+00, -3.36032741e+00,\n",
       "         2.23000082e+01, -8.39312718e+00,  1.30596302e+01,\n",
       "        -2.19691201e+01,  1.37575532e+01,  2.32640365e-01,\n",
       "        -1.41514503e+01,  6.31677418e+00, -7.51792804e+00,\n",
       "         1.00571672e+01, -2.82155982e+01, -1.42865208e+01,\n",
       "        -7.51518429e+00, -2.46012061e+01,  4.80712254e+00,\n",
       "         5.91392609e+01, -1.31757893e+01, -1.40250477e+01,\n",
       "         8.89596860e+00,  5.18817591e+00, -2.82119485e+01,\n",
       "        -1.53925622e+00,  3.09764365e+00, -3.01812396e+00,\n",
       "        -1.15232794e+01,  1.18296172e+01, -8.16301985e+00,\n",
       "        -8.91510206e+00, -1.25201047e+01, -1.43139990e+01,\n",
       "        -2.26995686e+01],\n",
       "       [-2.98836527e+01, -1.41896339e+01, -4.96204665e-01,\n",
       "        -6.43360306e+00,  4.39680654e+00,  3.00076404e+01,\n",
       "         6.11054725e+00, -1.58877769e+00, -4.72370453e+00,\n",
       "         2.69575192e+01, -5.33495332e+00,  8.44179985e-01,\n",
       "        -3.85173751e+00, -2.80105444e+00,  1.10148138e+01,\n",
       "        -2.78057685e+01,  3.02005728e+01,  2.57121362e-01,\n",
       "        -1.42781154e+00, -4.45377736e+01,  3.13350253e+00,\n",
       "         4.18029591e+00, -1.92415658e+01, -4.71382619e+01,\n",
       "         1.03502825e+01,  6.31786459e+01, -3.14122668e-01,\n",
       "         1.04096799e+01, -1.68331150e+01, -3.87858510e+00,\n",
       "        -3.23228428e+01, -2.33261689e+01, -1.49675048e+01,\n",
       "        -1.14033341e+00,  1.46951890e+01,  3.24452527e+01,\n",
       "        -2.29502985e+00,  2.20955232e+00, -2.23525231e+01,\n",
       "        -1.25046979e+01, -7.81118683e+00, -4.62005542e+00,\n",
       "         6.70452303e+00,  1.99982801e+01, -1.44135557e+01,\n",
       "         1.32566391e+01,  2.04975089e+01, -3.68943041e+01,\n",
       "        -2.79850539e+01, -4.80985873e+00,  5.34541083e+00,\n",
       "        -2.95499533e+01,  4.03403883e+01,  5.31878840e+00,\n",
       "         2.86756249e-01, -2.82081317e+01,  5.82781960e+00,\n",
       "        -1.16206205e+00,  2.41137001e+01, -1.73353721e+01,\n",
       "        -3.56906452e+01, -6.65736513e+00, -1.42781372e+01,\n",
       "         7.74161058e+00, -8.75048323e-01, -2.53340696e+01,\n",
       "         1.64121033e+01,  2.09966129e+01,  3.41635952e+01,\n",
       "        -8.57684218e+00, -3.13094367e+01,  1.16699431e+00,\n",
       "         2.59916617e+01, -1.29786540e+01, -2.40471442e+01,\n",
       "         1.87742281e+01,  2.48697458e+01, -1.76151876e+01,\n",
       "         2.42471522e+01, -4.29771654e+01,  1.92133015e-01,\n",
       "        -1.62184699e+01,  6.59990347e+01,  2.66732748e+01,\n",
       "         7.38011762e+01,  7.89790410e+00, -4.47641368e+00,\n",
       "         2.23659628e+00, -1.79179712e+01,  1.50079343e+01,\n",
       "        -2.43944621e+01, -2.40240717e+01,  2.15805782e+01,\n",
       "         2.29532990e+01,  2.46309181e+00, -1.70301598e+01,\n",
       "        -7.58393987e+00,  2.63159562e+01,  6.26001321e+00,\n",
       "         1.01156270e+01],\n",
       "       [-4.29034427e+00,  6.86273260e+00, -2.18494314e+01,\n",
       "         1.60684782e+01, -7.30866101e-01, -1.12508748e+01,\n",
       "         1.48920913e+01, -7.18697414e+00,  1.39534513e+01,\n",
       "         2.08235182e+01,  1.05631757e+01, -2.81696113e+01,\n",
       "        -1.22585018e+01, -1.19547994e+01, -1.05297851e+01,\n",
       "         1.07007751e+01, -2.78417787e+01, -1.58201662e+01,\n",
       "        -3.27979658e+01,  1.46004676e+01,  4.47301896e+01,\n",
       "        -1.87629127e+01,  1.17236164e+01,  2.60547779e+01,\n",
       "        -6.32518068e-01, -3.59674099e+01,  2.36796135e+01,\n",
       "        -9.19305408e+00,  2.55375378e+01, -9.28989648e+00,\n",
       "        -3.11902563e+00,  1.43773236e+01, -2.24728940e+01,\n",
       "        -2.92348283e+01, -1.21741647e+01, -5.23267908e+01,\n",
       "        -1.40452065e+01, -6.02354963e+00, -2.83951283e+01,\n",
       "        -1.59314919e+00, -1.12330177e+01, -8.97565940e+00,\n",
       "        -1.95672472e+01,  1.30574524e+01, -5.39167340e-01,\n",
       "        -2.94226390e+01,  3.55840031e+00, -3.32251760e+01,\n",
       "         3.09983835e+01,  1.80071881e+01,  3.83476237e+00,\n",
       "         1.70613622e+01, -3.18245843e+01,  1.25164523e+01,\n",
       "         5.30473518e+00, -3.46659065e+01, -7.64454915e+00,\n",
       "         5.87940049e+01,  1.25119993e+01,  2.03784026e+00,\n",
       "         1.48292919e+01,  5.69331037e+01,  1.80281782e+01,\n",
       "         2.68964409e+01,  2.33219477e+01, -1.57391628e+01,\n",
       "        -2.39913097e+01, -6.66308129e+01,  9.44074428e+00,\n",
       "        -6.66449762e+00,  7.96502144e+01,  3.53556628e+00,\n",
       "        -1.59814057e+01,  1.35317154e+01, -1.67903014e+01,\n",
       "         2.12853423e+00, -3.39141395e+01,  1.48203106e+01,\n",
       "        -5.39496623e-01, -4.75484575e+01,  3.91663508e+01,\n",
       "         1.42332819e+01, -4.37743010e+01, -2.92323188e+01,\n",
       "         7.24865148e+01,  1.71226054e+01, -7.83344227e+00,\n",
       "        -1.30895998e+01,  8.94341648e+01,  1.57293458e+01,\n",
       "         3.03145504e+01,  3.15681571e+01, -7.77293837e+00,\n",
       "         1.56401979e+01, -3.14023263e+01,  3.70403143e+01,\n",
       "         8.36777039e+00, -7.99701081e+00, -1.30484882e+01,\n",
       "         1.52550938e+01],\n",
       "       [-2.68395595e+01,  2.03317147e+01,  7.05837421e+00,\n",
       "         1.39759665e+01,  1.82107261e+00,  1.10435119e+00,\n",
       "         1.32175874e+00, -3.96779172e-01,  2.78848025e+00,\n",
       "        -1.14871678e+01, -9.96387919e+00, -1.86748948e+01,\n",
       "        -6.83828848e+00, -1.25671565e+01,  8.67283514e+00,\n",
       "        -1.34863053e+00, -1.66428609e+01, -1.53238223e+01,\n",
       "        -9.05224247e+00,  5.12267322e+00,  6.09868908e+00,\n",
       "         8.50256313e+00, -8.71957075e+00,  1.05829086e+01,\n",
       "         2.92492768e+00, -1.79777785e+01,  4.14475610e+01,\n",
       "        -5.99478963e+00,  3.84744855e+00, -1.28053053e+01,\n",
       "        -1.85096048e+01,  8.18825540e-01, -8.25803556e+00,\n",
       "        -3.76769114e+01, -1.50236973e+01, -1.91665583e+01,\n",
       "         3.17259888e+00, -9.14668806e+00, -1.36238134e+01,\n",
       "        -4.19195288e+00,  1.18715437e+01, -9.07739957e+00,\n",
       "        -1.08137493e+01,  8.98559131e+00, -1.60009079e+01,\n",
       "        -4.93188475e+00,  1.09336751e+01,  1.71163668e+00,\n",
       "         2.15102153e+01,  5.47241571e+00, -5.98449310e+00,\n",
       "         9.43194347e+00, -8.81988440e+00, -3.71427018e+00,\n",
       "        -2.15627956e+01,  2.74895860e+00,  2.75778748e+01,\n",
       "        -1.97955889e+01,  4.38350654e+00,  5.50140368e-01,\n",
       "         6.16555449e+00,  1.03990241e+01,  4.94382945e+00,\n",
       "         1.77407690e+01, -4.34262901e+00,  4.28302184e+00,\n",
       "        -8.02019842e+00, -1.91393406e+01, -1.62850733e+01,\n",
       "         9.33097601e+00,  4.04445194e+01, -1.28050423e+01,\n",
       "        -1.07614273e+01,  1.75156945e+01, -1.08682826e+00,\n",
       "        -1.84746512e+00, -1.92589356e+01,  2.08376676e+01,\n",
       "        -8.32413331e+00,  9.68326977e+00, -1.37752175e+01,\n",
       "         7.05345934e+00, -1.17805065e+01, -1.05429443e+01,\n",
       "        -2.88840785e+01,  3.60594216e+00, -2.24920382e+01,\n",
       "         6.00907602e+00,  2.33694109e+01,  6.18860211e+00,\n",
       "         2.16599939e+01,  1.76585441e+01, -8.62538122e+00,\n",
       "         4.71783013e+00,  3.42326132e+00,  8.17312260e+00,\n",
       "         7.64391198e+00, -7.73471331e+00, -6.68723910e+00,\n",
       "         1.22527624e+00]])"
      ]
     },
     "execution_count": 70,
     "metadata": {},
     "output_type": "execute_result"
    }
   ],
   "source": [
    "als(ratings_arr2, users_arr2, items_arr2, reps=50)[:5, :]"
   ]
  },
  {
   "cell_type": "code",
   "execution_count": 81,
   "metadata": {},
   "outputs": [],
   "source": [
    "wheel = 'WWNNNNNNNNN'\n",
    "\n",
    "def spinning_wheel(wheel):\n",
    "    n_prop = wheel.count('N')/len(wheel)\n",
    "    print(n_prop)\n",
    "    if n_prop == 1:\n",
    "        return 0\n",
    "    else:\n",
    "        print((n_prop+1)**(-1))\n",
    "        return int(100 / (n_prop+1))"
   ]
  },
  {
   "cell_type": "code",
   "execution_count": 82,
   "metadata": {},
   "outputs": [
    {
     "name": "stdout",
     "output_type": "stream",
     "text": [
      "0.8181818181818182\n",
      "0.5499999999999999\n"
     ]
    },
    {
     "data": {
      "text/plain": [
       "True"
      ]
     },
     "execution_count": 82,
     "metadata": {},
     "output_type": "execute_result"
    }
   ],
   "source": [
    "spinning_wheel(wheel)"
   ]
  },
  {
   "cell_type": "code",
   "execution_count": 85,
   "metadata": {},
   "outputs": [
    {
     "data": {
      "text/plain": [
       "{'9'}"
      ]
     },
     "execution_count": 85,
     "metadata": {},
     "output_type": "execute_result"
    }
   ],
   "source": [
    "set(str(.99)[2:])"
   ]
  },
  {
   "cell_type": "code",
   "execution_count": 86,
   "metadata": {},
   "outputs": [],
   "source": [
    "from tensorflow.keras import optimizers"
   ]
  },
  {
   "cell_type": "markdown",
   "metadata": {},
   "source": [
    "## Adding to a List"
   ]
  },
  {
   "cell_type": "code",
   "execution_count": 88,
   "metadata": {},
   "outputs": [
    {
     "data": {
      "text/plain": [
       "[1, 2, 3]"
      ]
     },
     "execution_count": 88,
     "metadata": {},
     "output_type": "execute_result"
    }
   ],
   "source": [
    "[1, 2] + [3]"
   ]
  },
  {
   "cell_type": "markdown",
   "metadata": {},
   "source": [
    "## Time Series Builder"
   ]
  },
  {
   "cell_type": "code",
   "execution_count": 185,
   "metadata": {},
   "outputs": [],
   "source": [
    "from statsmodels.tsa.stattools import adfuller\n",
    "from statsmodels.graphics.tsaplots import plot_pacf, plot_acf"
   ]
  },
  {
   "cell_type": "code",
   "execution_count": 205,
   "metadata": {},
   "outputs": [],
   "source": [
    "def auto_regressor(phis, n, start=0, add_gaussian_noise=True):\n",
    "    from random import gauss as gs\n",
    "    import numpy as np\n",
    "    import matplotlib.pyplot as plt\n",
    "    \n",
    "    ys = np.arange(start, start+len(phis))\n",
    "    for j in np.arange(n-len(phis)):\n",
    "        ys = np.append(ys, phis @ ys[-len(phis):] + gs(0, 1)*add_gaussian_noise)\n",
    "    fig, ax = plt.subplots()\n",
    "    ax.plot(np.arange(n), ys)\n",
    "    return ys"
   ]
  },
  {
   "cell_type": "code",
   "execution_count": 206,
   "metadata": {},
   "outputs": [
    {
     "data": {
      "image/png": "[encoded data removed]",
      "text/plain": [
       "<Figure size 432x288 with 1 Axes>"
      ]
     },
     "metadata": {
      "needs_background": "light"
     },
     "output_type": "display_data"
    }
   ],
   "source": [
    "sample1 = auto_regressor(phis=np.array([1, 0.5, 1]), n=100)"
   ]
  },
  {
   "cell_type": "code",
   "execution_count": 170,
   "metadata": {},
   "outputs": [
    {
     "data": {
      "text/plain": [
       "(5.931611060021448e+16,\n",
       " 1.0,\n",
       " 2,\n",
       " 97,\n",
       " {'1%': -3.4996365338407074,\n",
       "  '5%': -2.8918307730370025,\n",
       "  '10%': -2.5829283377617176},\n",
       " 1971.209467828492)"
      ]
     },
     "execution_count": 170,
     "metadata": {},
     "output_type": "execute_result"
    }
   ],
   "source": [
    "adfuller(sample1)"
   ]
  },
  {
   "cell_type": "code",
   "execution_count": 182,
   "metadata": {},
   "outputs": [
    {
     "data": {
      "image/png": "[encoded data removed]",
      "text/plain": [
       "<Figure size 432x288 with 1 Axes>"
      ]
     },
     "metadata": {
      "needs_background": "light"
     },
     "output_type": "display_data"
    }
   ],
   "source": [
    "plot_pacf(sample1);"
   ]
  },
  {
   "cell_type": "code",
   "execution_count": 187,
   "metadata": {},
   "outputs": [
    {
     "data": {
      "image/png": "[encoded data removed]",
      "text/plain": [
       "<Figure size 432x288 with 1 Axes>"
      ]
     },
     "metadata": {
      "needs_background": "light"
     },
     "output_type": "display_data"
    }
   ],
   "source": [
    "plot_acf(sample1);"
   ]
  },
  {
   "cell_type": "code",
   "execution_count": 191,
   "metadata": {},
   "outputs": [
    {
     "data": {
      "image/png": "[encoded data removed]",
      "text/plain": [
       "<Figure size 432x288 with 1 Axes>"
      ]
     },
     "metadata": {
      "needs_background": "light"
     },
     "output_type": "display_data"
    }
   ],
   "source": [
    "sample2 = auto_regressor(phis=np.array([0.5, 0,5]), n=100)"
   ]
  },
  {
   "cell_type": "code",
   "execution_count": 174,
   "metadata": {},
   "outputs": [
    {
     "data": {
      "text/plain": [
       "(4.0276990724788243e+17,\n",
       " 1.0,\n",
       " 10,\n",
       " 89,\n",
       " {'1%': -3.506057133647011,\n",
       "  '5%': -2.8946066061911946,\n",
       "  '10%': -2.5844100201994697},\n",
       " 20243.132541035582)"
      ]
     },
     "execution_count": 174,
     "metadata": {},
     "output_type": "execute_result"
    }
   ],
   "source": [
    "adfuller(sample2)"
   ]
  },
  {
   "cell_type": "code",
   "execution_count": 183,
   "metadata": {
    "scrolled": true
   },
   "outputs": [
    {
     "data": {
      "image/png": "[encoded data removed]",
      "text/plain": [
       "<Figure size 432x288 with 1 Axes>"
      ]
     },
     "metadata": {
      "needs_background": "light"
     },
     "output_type": "display_data"
    }
   ],
   "source": [
    "plot_pacf(sample2);"
   ]
  },
  {
   "cell_type": "code",
   "execution_count": 188,
   "metadata": {},
   "outputs": [
    {
     "data": {
      "image/png": "[encoded data removed]",
      "text/plain": [
       "<Figure size 432x288 with 1 Axes>"
      ]
     },
     "metadata": {
      "needs_background": "light"
     },
     "output_type": "display_data"
    }
   ],
   "source": [
    "plot_acf(sample2);"
   ]
  },
  {
   "cell_type": "code",
   "execution_count": 177,
   "metadata": {},
   "outputs": [
    {
     "data": {
      "image/png": "[encoded data removed]",
      "text/plain": [
       "<Figure size 432x288 with 1 Axes>"
      ]
     },
     "metadata": {
      "needs_background": "light"
     },
     "output_type": "display_data"
    }
   ],
   "source": [
    "sample3 = auto_regressor(phis=np.array([0.5, -0.5]), n=100)"
   ]
  },
  {
   "cell_type": "code",
   "execution_count": 178,
   "metadata": {},
   "outputs": [
    {
     "data": {
      "text/plain": [
       "(-3.8598483504528325,\n",
       " 0.002351037708277171,\n",
       " 5,\n",
       " 94,\n",
       " {'1%': -3.5019123847798657,\n",
       "  '5%': -2.892815255482889,\n",
       "  '10%': -2.583453861475781},\n",
       " 247.3626037173128)"
      ]
     },
     "execution_count": 178,
     "metadata": {},
     "output_type": "execute_result"
    }
   ],
   "source": [
    "adfuller(sample3)"
   ]
  },
  {
   "cell_type": "code",
   "execution_count": 184,
   "metadata": {},
   "outputs": [
    {
     "name": "stderr",
     "output_type": "stream",
     "text": [
      "/Users/gdamico/anaconda3/envs/learn-env/lib/python3.8/site-packages/statsmodels/regression/linear_model.py:1434: RuntimeWarning: invalid value encountered in sqrt\n",
      "  return rho, np.sqrt(sigmasq)\n"
     ]
    },
    {
     "data": {
      "image/png": "[encoded data removed]",
      "text/plain": [
       "<Figure size 432x288 with 1 Axes>"
      ]
     },
     "metadata": {
      "needs_background": "light"
     },
     "output_type": "display_data"
    }
   ],
   "source": [
    "plot_pacf(sample3);"
   ]
  },
  {
   "cell_type": "code",
   "execution_count": 189,
   "metadata": {},
   "outputs": [
    {
     "data": {
      "image/png": "[encoded data removed]",
      "text/plain": [
       "<Figure size 432x288 with 1 Axes>"
      ]
     },
     "metadata": {
      "needs_background": "light"
     },
     "output_type": "display_data"
    }
   ],
   "source": [
    "plot_acf(sample3);"
   ]
  },
  {
   "cell_type": "code",
   "execution_count": 199,
   "metadata": {},
   "outputs": [
    {
     "data": {
      "image/png": "[encoded data removed]",
      "text/plain": [
       "<Figure size 432x288 with 1 Axes>"
      ]
     },
     "metadata": {
      "needs_background": "light"
     },
     "output_type": "display_data"
    }
   ],
   "source": [
    "sample4 = auto_regressor(phis=np.array([0.5, 0.5]), n=100, add_gaussian_noise=False)"
   ]
  },
  {
   "cell_type": "code",
   "execution_count": 200,
   "metadata": {},
   "outputs": [
    {
     "data": {
      "text/plain": [
       "(-244127623292.7805,\n",
       " 0.0,\n",
       " 11,\n",
       " 88,\n",
       " {'1%': -3.506944401824286,\n",
       "  '5%': -2.894989819214876,\n",
       "  '10%': -2.584614550619835},\n",
       " -6626.769966602906)"
      ]
     },
     "execution_count": 200,
     "metadata": {},
     "output_type": "execute_result"
    }
   ],
   "source": [
    "adfuller(sample4)"
   ]
  },
  {
   "cell_type": "code",
   "execution_count": 202,
   "metadata": {},
   "outputs": [
    {
     "data": {
      "image/png": "[encoded data removed]",
      "text/plain": [
       "<Figure size 432x288 with 1 Axes>"
      ]
     },
     "metadata": {
      "needs_background": "light"
     },
     "output_type": "display_data"
    }
   ],
   "source": [
    "plot_pacf(sample4);"
   ]
  },
  {
   "cell_type": "code",
   "execution_count": 203,
   "metadata": {},
   "outputs": [
    {
     "data": {
      "image/png": "[encoded data removed]",
      "text/plain": [
       "<Figure size 432x288 with 1 Axes>"
      ]
     },
     "metadata": {
      "needs_background": "light"
     },
     "output_type": "display_data"
    }
   ],
   "source": [
    "plot_acf(sample4);"
   ]
  },
  {
   "cell_type": "code",
   "execution_count": 210,
   "metadata": {},
   "outputs": [
    {
     "data": {
      "image/png": "[encoded data removed]",
      "text/plain": [
       "<Figure size 432x288 with 1 Axes>"
      ]
     },
     "metadata": {
      "needs_background": "light"
     },
     "output_type": "display_data"
    }
   ],
   "source": [
    "sample5 = auto_regressor(phis=np.array([2]),\n",
    "                         n=100,\n",
    "                         start=1,\n",
    "                         add_gaussian_noise=False)"
   ]
  },
  {
   "cell_type": "code",
   "execution_count": 211,
   "metadata": {},
   "outputs": [
    {
     "name": "stderr",
     "output_type": "stream",
     "text": [
      "/Users/gdamico/anaconda3/envs/learn-env/lib/python3.8/site-packages/statsmodels/regression/linear_model.py:903: RuntimeWarning: divide by zero encountered in log\n",
      "  llf = -nobs2*np.log(2*np.pi) - nobs2*np.log(ssr / nobs) - nobs2\n"
     ]
    },
    {
     "data": {
      "text/plain": [
       "(4.412608437138468e+16,\n",
       " 1.0,\n",
       " 2,\n",
       " 97,\n",
       " {'1%': -3.4996365338407074,\n",
       "  '5%': -2.8918307730370025,\n",
       "  '10%': -2.5829283377617176},\n",
       " -inf)"
      ]
     },
     "execution_count": 211,
     "metadata": {},
     "output_type": "execute_result"
    }
   ],
   "source": [
    "adfuller(sample5)"
   ]
  },
  {
   "cell_type": "code",
   "execution_count": 212,
   "metadata": {},
   "outputs": [
    {
     "data": {
      "image/png": "[encoded data removed]",
      "text/plain": [
       "<Figure size 432x288 with 1 Axes>"
      ]
     },
     "metadata": {
      "needs_background": "light"
     },
     "output_type": "display_data"
    }
   ],
   "source": [
    "plot_pacf(sample5);"
   ]
  },
  {
   "cell_type": "code",
   "execution_count": 213,
   "metadata": {},
   "outputs": [
    {
     "data": {
      "image/png": "[encoded data removed]",
      "text/plain": [
       "<Figure size 432x288 with 1 Axes>"
      ]
     },
     "metadata": {
      "needs_background": "light"
     },
     "output_type": "display_data"
    }
   ],
   "source": [
    "plot_acf(sample5);"
   ]
  },
  {
   "cell_type": "markdown",
   "metadata": {},
   "source": [
    "## Plants API"
   ]
  },
  {
   "cell_type": "code",
   "execution_count": 235,
   "metadata": {},
   "outputs": [],
   "source": [
    "import requests\n",
    "plants = requests.get('https://trefle.io/api/v1/plants\\\n",
    "?token=lVVquVwDaWnZfrwZF8c2644rteRGn-Iz5kpRLS9b1_g&page=1').json()"
   ]
  },
  {
   "cell_type": "code",
   "execution_count": 227,
   "metadata": {},
   "outputs": [
    {
     "data": {
      "text/plain": [
       "dict_keys(['data', 'links', 'meta'])"
      ]
     },
     "execution_count": 227,
     "metadata": {},
     "output_type": "execute_result"
    }
   ],
   "source": [
    "plants.keys()"
   ]
  },
  {
   "cell_type": "code",
   "execution_count": 236,
   "metadata": {},
   "outputs": [
    {
     "data": {
      "text/plain": [
       "20"
      ]
     },
     "execution_count": 236,
     "metadata": {},
     "output_type": "execute_result"
    }
   ],
   "source": [
    "len(plants['data'])"
   ]
  },
  {
   "cell_type": "code",
   "execution_count": 232,
   "metadata": {},
   "outputs": [],
   "source": [
    "plants2 = requests.get('https://trefle.io/api/v1/plants\\\n",
    "?token=lVVquVwDaWnZfrwZF8c2644rteRGn-Iz5kpRLS9b1_g&page=2').json()"
   ]
  },
  {
   "cell_type": "code",
   "execution_count": 242,
   "metadata": {},
   "outputs": [],
   "source": [
    "plants = []\n",
    "for j in range(1, 51):\n",
    "    rq = requests.get('https://trefle.io/api/v1/plants\\\n",
    "?token=lVVquVwDaWnZfrwZF8c2644rteRGn-Iz5kpRLS9b1_g&page='+str(j)).json()\n",
    "    plants.extend(rq['data'])"
   ]
  },
  {
   "cell_type": "code",
   "execution_count": 243,
   "metadata": {},
   "outputs": [
    {
     "data": {
      "text/plain": [
       "1000"
      ]
     },
     "execution_count": 243,
     "metadata": {},
     "output_type": "execute_result"
    }
   ],
   "source": [
    "len(plants)"
   ]
  },
  {
   "cell_type": "code",
   "execution_count": 244,
   "metadata": {},
   "outputs": [],
   "source": [
    "import json"
   ]
  },
  {
   "cell_type": "code",
   "execution_count": 251,
   "metadata": {},
   "outputs": [],
   "source": [
    "with open('plants.json', 'w') as f:\n",
    "    json.dump(plants, f)"
   ]
  },
  {
   "cell_type": "code",
   "execution_count": 255,
   "metadata": {},
   "outputs": [],
   "source": [
    "with open('plants.json', 'r') as f:\n",
    "    plants = json.load(f)"
   ]
  },
  {
   "cell_type": "code",
   "execution_count": 263,
   "metadata": {},
   "outputs": [
    {
     "data": {
      "text/plain": [
       "{'id': 409980,\n",
       " 'common_name': 'Woolly thistle',\n",
       " 'slug': 'cirsium-eriophorum',\n",
       " 'scientific_name': 'Cirsium eriophorum',\n",
       " 'year': 1771,\n",
       " 'bibliography': 'Fl. Carniol., ed. 2, 2: 130 (1771)',\n",
       " 'author': '(L.) Scop.',\n",
       " 'status': 'accepted',\n",
       " 'rank': 'species',\n",
       " 'family_common_name': 'Aster family',\n",
       " 'genus_id': 1787,\n",
       " 'image_url': 'https://bs.plantnet.org/image/o/723f243bd0d20ff006a4f0799fab593eecc97cb5',\n",
       " 'synonyms': ['Cirsium ligulare var. bosniacum',\n",
       "  'Tetralix eriophora',\n",
       "  'Cynara eriocephala',\n",
       "  'Carduus tomentosus',\n",
       "  'Cnicus velenowskyi',\n",
       "  'Cirsium longebracteatum',\n",
       "  'Cirsium velenowskyi',\n",
       "  'Carduus spurius',\n",
       "  'Cirsium eriophorum subsp. degenii',\n",
       "  'Cirsium corbariense',\n",
       "  'Cirsium eriophorum subsp. chodatii',\n",
       "  'Cirsium vandasii',\n",
       "  'Cirsium chodatii',\n",
       "  'Cnicus eriophorus',\n",
       "  'Cirsium eriophorum var. bosniacum',\n",
       "  'Cirsium insubricum',\n",
       "  'Cirsium eriophorum var. costae',\n",
       "  'Cirsium corbariense var. costae'],\n",
       " 'genus': 'Cirsium',\n",
       " 'family': 'Asteraceae',\n",
       " 'links': {'self': '/api/v1/species/cirsium-eriophorum',\n",
       "  'plant': '/api/v1/plants/cirsium-eriophorum',\n",
       "  'genus': '/api/v1/genus/cirsium'}}"
      ]
     },
     "execution_count": 263,
     "metadata": {},
     "output_type": "execute_result"
    }
   ],
   "source": [
    "plants[-1]"
   ]
  },
  {
   "cell_type": "code",
   "execution_count": 258,
   "metadata": {},
   "outputs": [],
   "source": [
    "num_syn = [len(obj['synonyms']) for obj in plants]"
   ]
  },
  {
   "cell_type": "code",
   "execution_count": 262,
   "metadata": {},
   "outputs": [
    {
     "data": {
      "image/png": "[encoded data removed]",
      "text/plain": [
       "<Figure size 432x288 with 1 Axes>"
      ]
     },
     "metadata": {
      "needs_background": "light"
     },
     "output_type": "display_data"
    }
   ],
   "source": [
    "fig, ax = plt.subplots()\n",
    "\n",
    "ax.scatter(range(1000), num_syn);"
   ]
  },
  {
   "cell_type": "code",
   "execution_count": 266,
   "metadata": {},
   "outputs": [
    {
     "data": {
      "text/plain": [
       "array(['Acacia', 'Acanthus', 'Acer', 'Achillea', 'Aconitum', 'Acorus',\n",
       "       'Actaea', 'Adoxa', 'Aesculus', 'Aethusa', 'Agrostis', 'Aira',\n",
       "       'Alchemilla', 'Alisma', 'Alliaria', 'Allium', 'Alnus',\n",
       "       'Alopecurus', 'Alyssum', 'Amblystegium', 'Ambrosia', 'Anacamptis',\n",
       "       'Andromeda', 'Andropogon', 'Anemonoides', 'Angelica', 'Antennaria',\n",
       "       'Anthoxanthum', 'Anthyllis', 'Apera', 'Aphanes', 'Aphyllanthes',\n",
       "       'Aquilegia', 'Arabidopsis', 'Arachis', 'Arbutus', 'Arctium',\n",
       "       'Argentina', 'Aria', 'Armeria', 'Artemisia', 'Arum', 'Arundo',\n",
       "       'Asarum', 'Asparagus', 'Asperula', 'Asplenium', 'Astragalus',\n",
       "       'Astrantia', 'Athyrium', 'Atrichum', 'Atriplex', 'Aulacomnium',\n",
       "       'Avena', 'Avenella', 'Avenula', 'Ballota', 'Barbarea', 'Barbula',\n",
       "       'Bartsia', 'Bellis', 'Berberis', 'Berteroa', 'Beta', 'Betonica',\n",
       "       'Betula', 'Bidens', 'Bistorta', 'Bituminaria', 'Blackstonia',\n",
       "       'Bolboschoenus', 'Borago', 'Borkhausenia', 'Botrychium',\n",
       "       'Brachypodium', 'Brachythecium', 'Brassica', 'Briza', 'Bromus',\n",
       "       'Bryonia', 'Bryum', 'Buddleja', 'Buglossoides', 'Bupleurum',\n",
       "       'Bursaria', 'Butomus', 'Buxus', 'Cakile', 'Calamagrostis',\n",
       "       'Calendula', 'Calicotome', 'Calla', 'Calliergonella',\n",
       "       'Callitriche', 'Caltha', 'Calystegia', 'Campanula', 'Campylopus',\n",
       "       'Capsicum', 'Cardamine', 'Carduus', 'Carex', 'Carlina', 'Carpinus',\n",
       "       'Carum', 'Castanea', 'Catapodium', 'Cenchrus', 'Centaurea',\n",
       "       'Centaurium', 'Cephalanthera', 'Cerastium', 'Ceratocapnos',\n",
       "       'Ceratodon', 'Ceratonia', 'Ceratophyllum', 'Chaenorhinum',\n",
       "       'Chaerophyllum', 'Chenopodium', 'Chrysosplenium', 'Cichorium',\n",
       "       'Cicuta', 'Circaea', 'Cirsium', 'Cistus', 'Clematis',\n",
       "       'Clinopodium', 'Cochlearia', 'Colchicum', 'Comarum', 'Conium',\n",
       "       'Conopodium', 'Convallaria', 'Convolvulus', 'Cornus', 'Coronilla',\n",
       "       'Corydalis', 'Corylus', 'Corynephorus', 'Cota', 'Crataegus',\n",
       "       'Crepis', 'Cruciata', 'Ctenidium', 'Cymbalaria', 'Cymodocea',\n",
       "       'Cynodon', 'Cynoglossum', 'Cynosurus', 'Cystopteris', 'Cytisus',\n",
       "       'Dactylis', 'Dactylorhiza', 'Danthonia', 'Daphne', 'Datura',\n",
       "       'Daucus', 'Deschampsia', 'Descurainia', 'Dianella', 'Dianthus',\n",
       "       'Dichondra', 'Dicranella', 'Dicranum', 'Digitaria', 'Dioscorea',\n",
       "       'Dodonaea', 'Draba', 'Drosera', 'Dryas', 'Dryopteris',\n",
       "       'Echinochloa', 'Echium', 'Eleocharis', 'Elodea', 'Elymus',\n",
       "       'Empetrum', 'Enhalus', 'Epilobium', 'Epipactis', 'Equisetum',\n",
       "       'Erica', 'Erigeron', 'Eriophorum', 'Erodium', 'Eryngium',\n",
       "       'Erysimum', 'Eschscholzia', 'Eucalyptus', 'Euonymus', 'Eupatorium',\n",
       "       'Euphorbia', 'Euphrasia', 'Eurhynchium', 'Fagus', 'Fallopia',\n",
       "       'Faramea', 'Festuca', 'Ficaria', 'Filipendula', 'Fissidens',\n",
       "       'Foeniculum', 'Fragaria', 'Frangula', 'Fraxinus', 'Frullania',\n",
       "       'Fumaria', 'Funaria', 'Gagea', 'Galanthus', 'Galeopsis',\n",
       "       'Galinsoga', 'Galium', 'Genista', 'Gentiana', 'Gentianella',\n",
       "       'Geranium', 'Geum', 'Glechoma', 'Globularia', 'Glyceria',\n",
       "       'Glycine', 'Gonocarpus', 'Goodyera', 'Grimmia', 'Gymnadenia',\n",
       "       'Gymnocarpium', 'Halodule', 'Halophila', 'Helianthemum',\n",
       "       'Helianthus', 'Helichrysum', 'Helictochloa', 'Heliosperma',\n",
       "       'Helleborus', 'Helminthotheca', 'Helosciadium', 'Heracleum',\n",
       "       'Herniaria', 'Hesperis', 'Hieracium', 'Himantoglossum',\n",
       "       'Hippocrepis', 'Hippophae', 'Hippuris', 'Holcus', 'Homalothecium',\n",
       "       'Honckenya', 'Hordeum', 'Hottonia', 'Humulus', 'Huperzia',\n",
       "       'Hyacinthoides', 'Hydrocharis', 'Hydrocotyle', 'Hylocomium',\n",
       "       'Hylotelephium', 'Hypericum', 'Hypnum', 'Hypochaeris', 'Ilex',\n",
       "       'Impatiens', 'Iris', 'Isolepis', 'Jacobaea', 'Jasione', 'Juglans',\n",
       "       'Juncus', 'Juniperus', 'Kickxia', 'Kindbergia', 'Knautia',\n",
       "       'Koeleria', 'Lactuca', 'Lamium', 'Lantana', 'Lapsana', 'Larix',\n",
       "       'Laserpitium', 'Lathyrus', 'Lavandula', 'Lemna', 'Leopoldia',\n",
       "       'Lepidium', 'Lepidocaryum', 'Leucanthemum', 'Leucobryum', 'Lilium',\n",
       "       'Linaria', 'Linnaea', 'Linum', 'Lipandra', 'Lobularia', 'Logfia',\n",
       "       'Lolium', 'Lomandra', 'Lonicera', 'Lophocolea', 'Lotus', 'Lunaria',\n",
       "       'Lupinus', 'Luzula', 'Lycium', 'Lycopodiella', 'Lycopodium',\n",
       "       'Lycopsis', 'Lysimachia', 'Lythrum', 'Maianthemum', 'Malus',\n",
       "       'Malva', 'Manihot', 'Marrubium', 'Matricaria', 'Medicago',\n",
       "       'Melampyrum', 'Melica', 'Melilotus', 'Melittis', 'Mentha',\n",
       "       'Menyanthes', 'Mercurialis', 'Metzgeria', 'Miconia', 'Mnium',\n",
       "       'Moehringia', 'Molinia', 'Montia', 'Muscari', 'Myosotis',\n",
       "       'Myosoton', 'Myrica', 'Myriophyllum', 'Narcissus', 'Nardus',\n",
       "       'Narthecium', 'Nassella', 'Neotinea', 'Neottia', 'Nerium',\n",
       "       'Nuphar', 'Nymphaea', 'Odontites', 'Oenanthe', 'Oenocarpus',\n",
       "       'Oenothera', 'Olea', 'Omalotheca', 'Onobrychis', 'Onopordum',\n",
       "       'Ophioglossum', 'Ophrys', 'Orchis', 'Origanum', 'Ornithogalum',\n",
       "       'Ornithopus', 'Orthilia', 'Orthotrichum', 'Oryza', 'Osmunda',\n",
       "       'Oxalis', 'Papaver', 'Paris', 'Parkinsonia', 'Parnassia',\n",
       "       'Parthenocissus', 'Paspalum', 'Pastinaca', 'Pedicularis',\n",
       "       'Pentanema', 'Persicaria', 'Petasites', 'Petrorhagia',\n",
       "       'Petrosedum', 'Phalaris', 'Phaseolus', 'Phegopteris', 'Phillyrea',\n",
       "       'Phleum', 'Phlomis', 'Phragmites', 'Phyteuma', 'Phytolacca',\n",
       "       'Picea', 'Pilosella', 'Pimpinella', 'Pinguicula', 'Pinus',\n",
       "       'Pistacia', 'Pisum', 'Pittosporum', 'Plagiomnium', 'Plantago',\n",
       "       'Platanthera', 'Pleurozium', 'Poa', 'Pohlia', 'Polygala',\n",
       "       'Polygonatum', 'Polygonum', 'Polypodium', 'Polystichum',\n",
       "       'Polytrichum', 'Populus', 'Portulaca', 'Potamogeton', 'Potentilla',\n",
       "       'Poterium', 'Prenanthes', 'Primula', 'Prunella', 'Prunus',\n",
       "       'Pseudoscleropodium', 'Pseudotsuga', 'Pteridium', 'Puccinellia',\n",
       "       'Pulsatilla', 'Pyrola', 'Pyrus', 'Quercus', 'Ranunculus',\n",
       "       'Raphanus', 'Reseda', 'Retama', 'Reynoutria', 'Rhamnus',\n",
       "       'Rhinanthus', 'Rhododendron', 'Rhynchospora', 'Rhytidiadelphus',\n",
       "       'Ribes', 'Robinia', 'Rorippa', 'Rosa', 'Rubus', 'Rumex', 'Ruscus',\n",
       "       'Sagina', 'Salvia', 'Sambucus', 'Samolus', 'Sanguisorba',\n",
       "       'Sanicula', 'Saponaria', 'Saxifraga', 'Scabiosa', 'Schoenoplectus',\n",
       "       'Scleranthus', 'Scolochloa', 'Scorzonera', 'Scorzoneroides',\n",
       "       'Scrophularia', 'Scutellaria', 'Secale', 'Securigera', 'Sedum',\n",
       "       'Selaginella', 'Sempervivum', 'Senecio', 'Serratula', 'Sesleria',\n",
       "       'Setaria', 'Sherardia', 'Silaum', 'Silene', 'Silybum', 'Sinapis',\n",
       "       'Sisymbrium', 'Solanum', 'Solidago', 'Sonchus', 'Sorbus',\n",
       "       'Sparganium', 'Spergula', 'Spergularia', 'Sphagnum', 'Spinulum',\n",
       "       'Spirodela', 'Stachys', 'Stuckenia', 'Suaeda', 'Succisa',\n",
       "       'Symphytum', 'Syringa', 'Syringodium', 'Tanacetum', 'Taraxacum',\n",
       "       'Teucrium', 'Thalassia', 'Thalassodendron', 'Thalictrum',\n",
       "       'Thelypteris', 'Themeda', 'Thuidium', 'Thymbra', 'Thymus',\n",
       "       'Thysselinum', 'Tilia', 'Torilis', 'Torminalis', 'Tortula',\n",
       "       'Tragopogon', 'Trichophorum', 'Trifolium', 'Triglochin',\n",
       "       'Tripleurospermum', 'Tripogon', 'Tripolium', 'Trisetum',\n",
       "       'Triticum', 'Trocdaris', 'Trollius', 'Turritis', 'Tussilago',\n",
       "       'Typha', 'Ulex', 'Ulmus', 'Umbilicus', 'Urtica', 'Utricularia',\n",
       "       'Vaccinium', 'Valeriana', 'Verbascum', 'Verbena', 'Veronica',\n",
       "       'Viburnum', 'Vicia', 'Vigna', 'Vinca', 'Vincetoxicum', 'Viscaria',\n",
       "       'Viscum', 'Vitis', 'Vulpia', 'Zannichellia', 'Zea', 'Zostera'],\n",
       "      dtype='<U18')"
      ]
     },
     "execution_count": 266,
     "metadata": {},
     "output_type": "execute_result"
    }
   ],
   "source": [
    "gen = np.array([plant['genus'] for plant in plants])\n",
    "np.unique(gen)"
   ]
  },
  {
   "cell_type": "code",
   "execution_count": 279,
   "metadata": {},
   "outputs": [],
   "source": [
    "plant_df = pd.DataFrame(plants)\n",
    "gen_cts = plant_df.genus.value_counts()"
   ]
  },
  {
   "cell_type": "code",
   "execution_count": 278,
   "metadata": {},
   "outputs": [
    {
     "data": {
      "image/png": "[encoded data removed]",
      "text/plain": [
       "<Figure size 576x432 with 1 Axes>"
      ]
     },
     "metadata": {
      "needs_background": "light"
     },
     "output_type": "display_data"
    }
   ],
   "source": [
    "top_gen = gen_cts[gen_cts > 5]\n",
    "\n",
    "fig, ax = plt.subplots(figsize=(8, 6))\n",
    "\n",
    "ax.bar(top_gen.index, top_gen)\n",
    "plt.xticks(rotation=80);"
   ]
  },
  {
   "cell_type": "code",
   "execution_count": 3,
   "metadata": {},
   "outputs": [],
   "source": [
    "import re"
   ]
  },
  {
   "cell_type": "code",
   "execution_count": 5,
   "metadata": {},
   "outputs": [
    {
     "data": {
      "text/plain": [
       "<re.Match object; span=(2, 3), match='e'>"
      ]
     },
     "execution_count": 5,
     "metadata": {},
     "output_type": "execute_result"
    }
   ],
   "source": [
    "re.search('[aeiou]', 'greg')"
   ]
  },
  {
   "cell_type": "code",
   "execution_count": 9,
   "metadata": {},
   "outputs": [],
   "source": [
    "def abbrev(string):\n",
    "    return [substr[0] for substr in string.split()]"
   ]
  },
  {
   "cell_type": "code",
   "execution_count": 14,
   "metadata": {},
   "outputs": [],
   "source": [
    "character = {'occupation': 'scientist', 'age': 30, 'languages':\\\n",
    "             {'natural': ['english', 'french'], 'artificial': ['Python', 'JavaScript']}}"
   ]
  },
  {
   "cell_type": "code",
   "execution_count": 16,
   "metadata": {},
   "outputs": [
    {
     "data": {
      "text/plain": [
       "'Python'"
      ]
     },
     "execution_count": 16,
     "metadata": {},
     "output_type": "execute_result"
    }
   ],
   "source": [
    "character['languages']['artificial'][0]"
   ]
  },
  {
   "cell_type": "code",
   "execution_count": 19,
   "metadata": {},
   "outputs": [
    {
     "data": {
      "text/plain": [
       "True"
      ]
     },
     "execution_count": 19,
     "metadata": {},
     "output_type": "execute_result"
    }
   ],
   "source": [
    "character['occupation'][0] is 's'"
   ]
  },
  {
   "cell_type": "code",
   "execution_count": 23,
   "metadata": {},
   "outputs": [
    {
     "data": {
      "text/plain": [
       "True"
      ]
     },
     "execution_count": 23,
     "metadata": {},
     "output_type": "execute_result"
    }
   ],
   "source": [
    "a = [1, 2, 3]\n",
    "b = a.copy()\n",
    "\n",
    "a == b"
   ]
  },
  {
   "cell_type": "code",
   "execution_count": 24,
   "metadata": {},
   "outputs": [
    {
     "data": {
      "text/plain": [
       "False"
      ]
     },
     "execution_count": 24,
     "metadata": {},
     "output_type": "execute_result"
    }
   ],
   "source": [
    "a is b"
   ]
  },
  {
   "cell_type": "code",
   "execution_count": 43,
   "metadata": {},
   "outputs": [],
   "source": [
    "X = np.arange(5).reshape(5, 1)\n",
    "Y = np.ones((5, 2))"
   ]
  },
  {
   "cell_type": "code",
   "execution_count": 44,
   "metadata": {},
   "outputs": [
    {
     "data": {
      "text/plain": [
       "array([[1., 1.],\n",
       "       [2., 2.],\n",
       "       [3., 3.],\n",
       "       [4., 4.],\n",
       "       [5., 5.]])"
      ]
     },
     "execution_count": 44,
     "metadata": {},
     "output_type": "execute_result"
    }
   ],
   "source": [
    "X + Y"
   ]
  },
  {
   "cell_type": "code",
   "execution_count": 45,
   "metadata": {},
   "outputs": [
    {
     "data": {
      "text/plain": [
       "array([[1., 1.],\n",
       "       [2., 2.],\n",
       "       [3., 3.],\n",
       "       [4., 4.],\n",
       "       [5., 5.]])"
      ]
     },
     "execution_count": 45,
     "metadata": {},
     "output_type": "execute_result"
    }
   ],
   "source": [
    "Y + X"
   ]
  },
  {
   "cell_type": "code",
   "execution_count": 48,
   "metadata": {},
   "outputs": [
    {
     "data": {
      "text/plain": [
       "{1, 2, 3, 4}"
      ]
     },
     "execution_count": 48,
     "metadata": {},
     "output_type": "execute_result"
    }
   ],
   "source": [
    "{1, 2} | {3, 4}"
   ]
  },
  {
   "cell_type": "code",
   "execution_count": 5,
   "metadata": {},
   "outputs": [],
   "source": [
    "from IPython.display import IFrame"
   ]
  },
  {
   "cell_type": "code",
   "execution_count": 9,
   "metadata": {},
   "outputs": [
    {
     "data": {
      "text/html": [
       "<iframe src=http://archive.ics.uci.edu/ml/machine-learning-databases/iris/iris.data width=300, height=200> </iframe>"
      ],
      "text/plain": [
       "<IPython.core.display.HTML object>"
      ]
     },
     "execution_count": 9,
     "metadata": {},
     "output_type": "execute_result"
    }
   ],
   "source": [
    "HTML('<iframe src=http://archive.ics.uci.edu/ml/machine-learning-databases/\\\n",
    "iris/iris.data width=300, height=200> </iframe>')"
   ]
  },
  {
   "cell_type": "code",
   "execution_count": 20,
   "metadata": {},
   "outputs": [
    {
     "data": {
      "text/plain": [
       "[1, 2, 4, [8, 16], [5, 6], [7, 8]]"
      ]
     },
     "execution_count": 20,
     "metadata": {},
     "output_type": "execute_result"
    }
   ],
   "source": [
    "list_1 = [1, 2, 4]\n",
    "list_2 = [8, 16]\n",
    "list_1.append(list_2)\n",
    "#list_1\n",
    "list_3 = [3, 4]\n",
    "list_1.append(list_3)\n",
    "#list_1\n",
    "list_4 = [7, 8]\n",
    "list_1.append(list_4)\n",
    "#list_1\n",
    "list_3[0:2] = [5, 6]\n",
    "#list_3\n",
    "list_1"
   ]
  },
  {
   "cell_type": "code",
   "execution_count": 25,
   "metadata": {},
   "outputs": [
    {
     "data": {
      "text/plain": [
       "[1, 2, 4, [3, 6]]"
      ]
     },
     "execution_count": 25,
     "metadata": {},
     "output_type": "execute_result"
    }
   ],
   "source": [
    "list_1 = [1, 2, 4]\n",
    "list_2 = [3, 4]\n",
    "list_1.append(list_2)\n",
    "list_2[1] = 6\n",
    "list_1"
   ]
  },
  {
   "cell_type": "code",
   "execution_count": 26,
   "metadata": {},
   "outputs": [
    {
     "data": {
      "text/plain": [
       "[1, 2, 4, [3, 4]]"
      ]
     },
     "execution_count": 26,
     "metadata": {},
     "output_type": "execute_result"
    }
   ],
   "source": [
    "list_1 = [1, 2, 4]\n",
    "list_2 = [3, 4]\n",
    "list_1.append(list_2)\n",
    "list_2 = [3, 6]\n",
    "list_1"
   ]
  },
  {
   "cell_type": "code",
   "execution_count": null,
   "metadata": {},
   "outputs": [],
   "source": []
  }
 ],
 "metadata": {
  "kernelspec": {
   "display_name": "Python 3",
   "language": "python",
   "name": "python3"
  },
  "language_info": {
   "codemirror_mode": {
    "name": "ipython",
    "version": 3
   },
   "file_extension": ".py",
   "mimetype": "text/x-python",
   "name": "python",
   "nbconvert_exporter": "python",
   "pygments_lexer": "ipython3",
   "version": "3.7.2"
  }
 },
 "nbformat": 4,
 "nbformat_minor": 4
}
