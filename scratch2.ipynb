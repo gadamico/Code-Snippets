{
 "cells": [
  {
   "cell_type": "code",
   "execution_count": 1,
   "metadata": {},
   "outputs": [],
   "source": [
    "import numpy as np\n",
    "from matplotlib import pyplot as plt"
   ]
  },
  {
   "cell_type": "markdown",
   "metadata": {},
   "source": [
    "## Collatz Sequence Distances\n",
    "\n",
    "The Collatz Conjecture says that, for any natural number $n$, the iterated computation of:\n",
    "\n",
    "$3n + 1$, $n$ odd <br/>\n",
    "$\\frac{n}{2}$, $n$ even\n",
    "\n",
    "will terminate in 1.\n",
    "\n",
    "The conjecture is immediately confirmable for powers of 2. And in fact *any* such sequence that terminates in 1 must go through a power of 2. It is only through 2 that we can get to 1, only through 4 that we can get to 2. If we think about the possible terminations of such sequences, we can construct the following base of the tree:\n",
    "\n",
    "3 $\\quad$ 20 21$\\quad$ 128 <br/>\n",
    "\\\\ $\\quad$ / $\\quad$ \\\\ $\\quad$ / <br/>\n",
    "10 $\\qquad$64 <br/>\n",
    "| $\\qquad$ | <br/>\n",
    "5 $\\quad$ 32 <br/>\n",
    "\\\\ $\\quad$ / <br/>\n",
    "$\\quad$16 <br/>\n",
    "$\\quad$| <br/>\n",
    "$\\quad$8 <br/>\n",
    "$\\quad$| <br/>\n",
    "$\\quad$4 <br/>\n",
    "$\\quad$| <br/>\n",
    "$\\quad$2 <br/>\n",
    "$\\quad$| <br/>\n",
    "$\\quad$1"
   ]
  },
  {
   "cell_type": "code",
   "execution_count": null,
   "metadata": {},
   "outputs": [],
   "source": [
    "from matplotlib import pyplot as plt\n",
    "plt.style.use('fivethirtyeight')\n",
    "\n",
    "import numpy as np"
   ]
  },
  {
   "cell_type": "code",
   "execution_count": null,
   "metadata": {},
   "outputs": [],
   "source": [
    "def collatz_seq_len(n):\n",
    "    while n % 2 == 0:\n",
    "        n //= 2\n",
    "    if n == 1:\n",
    "        out = 0\n",
    "    else:\n",
    "        out = 0\n",
    "        while n != 1:\n",
    "            n = 3*n + 1\n",
    "            while n % 2 == 0:\n",
    "                n //= 2\n",
    "            # print(n)\n",
    "            out += 1\n",
    "    return out"
   ]
  },
  {
   "cell_type": "code",
   "execution_count": null,
   "metadata": {},
   "outputs": [],
   "source": [
    "collatz_seq_len(1)"
   ]
  },
  {
   "cell_type": "code",
   "execution_count": null,
   "metadata": {},
   "outputs": [],
   "source": [
    "fig, ax = plt.subplots()\n",
    "\n",
    "X = np.arange(1, 100, 2)\n",
    "Y = [collatz_seq_len(x) for x in X]\n",
    "ax.scatter(X, Y);"
   ]
  },
  {
   "cell_type": "code",
   "execution_count": null,
   "metadata": {},
   "outputs": [],
   "source": [
    "collatz_seq_len(27)"
   ]
  },
  {
   "cell_type": "code",
   "execution_count": null,
   "metadata": {},
   "outputs": [],
   "source": [
    "fig, ax = plt.subplots()\n",
    "ax.hist([collatz_seq_len(x) for x in X]);"
   ]
  },
  {
   "cell_type": "code",
   "execution_count": null,
   "metadata": {},
   "outputs": [],
   "source": [
    "fig, ax = plt.subplots()\n",
    "\n",
    "X = np.arange(1, 100000, 2)\n",
    "Y = [collatz_seq_len(x) for x in X]\n",
    "ax.scatter(X, Y, s=1);"
   ]
  },
  {
   "cell_type": "markdown",
   "metadata": {},
   "source": [
    "## Jupyter format"
   ]
  },
  {
   "cell_type": "code",
   "execution_count": null,
   "metadata": {},
   "outputs": [],
   "source": [
    "import pandas"
   ]
  },
  {
   "cell_type": "code",
   "execution_count": null,
   "metadata": {},
   "outputs": [],
   "source": [
    "series = pandas.Series([1e30, 2e20])"
   ]
  },
  {
   "cell_type": "code",
   "execution_count": null,
   "metadata": {},
   "outputs": [],
   "source": [
    "series"
   ]
  },
  {
   "cell_type": "code",
   "execution_count": null,
   "metadata": {},
   "outputs": [],
   "source": [
    "pandas.set_option('display.float_format', '{:.2f}'.format)"
   ]
  },
  {
   "cell_type": "code",
   "execution_count": null,
   "metadata": {},
   "outputs": [],
   "source": [
    "series"
   ]
  },
  {
   "cell_type": "markdown",
   "metadata": {},
   "source": [
    "## `df.assign()` and `df.pipe()`"
   ]
  },
  {
   "cell_type": "code",
   "execution_count": null,
   "metadata": {},
   "outputs": [],
   "source": [
    "new_df = pandas.DataFrame([[0, 2], [1, 3]], columns=['first', 'second'])"
   ]
  },
  {
   "cell_type": "code",
   "execution_count": null,
   "metadata": {},
   "outputs": [],
   "source": [
    "new_df.assign(new=[4, 5])"
   ]
  },
  {
   "cell_type": "code",
   "execution_count": null,
   "metadata": {},
   "outputs": [],
   "source": [
    "def add_row(df):\n",
    "    return pandas.concat([df, pandas.DataFrame([df.shape[1] * [0]],\n",
    "                                               columns=df.columns)])"
   ]
  },
  {
   "cell_type": "code",
   "execution_count": null,
   "metadata": {},
   "outputs": [],
   "source": [
    "new_df.pipe(add_row)"
   ]
  },
  {
   "cell_type": "markdown",
   "metadata": {},
   "source": [
    "## `pprint`"
   ]
  },
  {
   "cell_type": "code",
   "execution_count": null,
   "metadata": {},
   "outputs": [],
   "source": [
    "import pprint"
   ]
  },
  {
   "cell_type": "code",
   "execution_count": null,
   "metadata": {},
   "outputs": [],
   "source": [
    "pprint.pprint(new_df)"
   ]
  },
  {
   "cell_type": "code",
   "execution_count": null,
   "metadata": {},
   "outputs": [],
   "source": [
    "pprint.pformat(new_df)"
   ]
  },
  {
   "cell_type": "markdown",
   "metadata": {},
   "source": [
    "## `folium`"
   ]
  },
  {
   "cell_type": "code",
   "execution_count": null,
   "metadata": {},
   "outputs": [],
   "source": [
    "# !pip install folium\n",
    "import folium\n",
    "import folium.plugins"
   ]
  },
  {
   "cell_type": "code",
   "execution_count": null,
   "metadata": {},
   "outputs": [],
   "source": [
    "cmh = folium.Map(location=(40, -83))\n",
    "cmh"
   ]
  },
  {
   "cell_type": "code",
   "execution_count": null,
   "metadata": {},
   "outputs": [],
   "source": [
    "fake_data = [(40.1, -83.1), (39.9, -82.9)]\n",
    "cmh.add_child(folium.plugins.HeatMap(fake_data, radius=10))"
   ]
  },
  {
   "cell_type": "code",
   "execution_count": null,
   "metadata": {},
   "outputs": [],
   "source": [
    "import json"
   ]
  },
  {
   "cell_type": "code",
   "execution_count": null,
   "metadata": {},
   "outputs": [],
   "source": [
    "with open('State-zip-code-GeoJSON/oh_ohio_zip_codes_geo.min.json', 'r') as f:\n",
    "    data = json.load(f)\n",
    "\n",
    "folium.GeoJson(data).add_to(cmh)\n",
    "cmh"
   ]
  },
  {
   "cell_type": "markdown",
   "metadata": {},
   "source": [
    "## `matplotlib`"
   ]
  },
  {
   "cell_type": "code",
   "execution_count": null,
   "metadata": {},
   "outputs": [],
   "source": [
    "from matplotlib import pyplot as plt"
   ]
  },
  {
   "cell_type": "code",
   "execution_count": null,
   "metadata": {},
   "outputs": [],
   "source": [
    "line, = plt.plot([1, 2, 3])"
   ]
  },
  {
   "cell_type": "code",
   "execution_count": null,
   "metadata": {},
   "outputs": [],
   "source": [
    "line.set"
   ]
  },
  {
   "cell_type": "code",
   "execution_count": null,
   "metadata": {},
   "outputs": [],
   "source": [
    "plt.setp(line, 'linestyle')"
   ]
  },
  {
   "cell_type": "code",
   "execution_count": null,
   "metadata": {},
   "outputs": [],
   "source": [
    "plt.setp(line)"
   ]
  },
  {
   "cell_type": "code",
   "execution_count": null,
   "metadata": {},
   "outputs": [],
   "source": [
    "%matplotlib notebook\n",
    "plt.plot([1, 2, 3]);"
   ]
  },
  {
   "cell_type": "markdown",
   "metadata": {},
   "source": [
    "## `dict()`"
   ]
  },
  {
   "cell_type": "code",
   "execution_count": null,
   "metadata": {},
   "outputs": [],
   "source": [
    "dict(one='two')"
   ]
  },
  {
   "cell_type": "markdown",
   "metadata": {},
   "source": [
    "## `requests`"
   ]
  },
  {
   "cell_type": "code",
   "execution_count": null,
   "metadata": {},
   "outputs": [],
   "source": [
    "import requests as rq"
   ]
  },
  {
   "cell_type": "code",
   "execution_count": null,
   "metadata": {},
   "outputs": [],
   "source": [
    "response = rq.get('http://www.espn.com')"
   ]
  },
  {
   "cell_type": "code",
   "execution_count": null,
   "metadata": {},
   "outputs": [],
   "source": [
    "response.request.headers"
   ]
  },
  {
   "cell_type": "code",
   "execution_count": null,
   "metadata": {},
   "outputs": [],
   "source": [
    "response.request.method"
   ]
  },
  {
   "cell_type": "code",
   "execution_count": null,
   "metadata": {},
   "outputs": [],
   "source": [
    "response.headers"
   ]
  },
  {
   "cell_type": "code",
   "execution_count": null,
   "metadata": {},
   "outputs": [],
   "source": [
    "response.text"
   ]
  },
  {
   "cell_type": "code",
   "execution_count": null,
   "metadata": {},
   "outputs": [],
   "source": [
    "rq.post('https://www.espn.com/post', data={'name': 'greg'}).status_code"
   ]
  },
  {
   "cell_type": "markdown",
   "metadata": {},
   "source": [
    "## r-strings"
   ]
  },
  {
   "cell_type": "code",
   "execution_count": null,
   "metadata": {},
   "outputs": [],
   "source": [
    "raw = r'usr\\bin\\bash'\n",
    "print(raw)\n",
    "raw"
   ]
  },
  {
   "cell_type": "markdown",
   "metadata": {},
   "source": [
    "## String Formatting"
   ]
  },
  {
   "cell_type": "code",
   "execution_count": null,
   "metadata": {},
   "outputs": [],
   "source": [
    "my_num = 42.4242424242\n",
    "f\"{my_num:.11f}\""
   ]
  },
  {
   "cell_type": "code",
   "execution_count": null,
   "metadata": {},
   "outputs": [],
   "source": [
    "arr = np.array([[[1, 2], [3, 4]], [[4, 5], [7, 6]]])\n",
    "\n",
    "[[item[0] for item in row] for row in arr]"
   ]
  },
  {
   "cell_type": "markdown",
   "metadata": {},
   "source": [
    "## `@` Notation for Dot-Product of `numpy` Arrays"
   ]
  },
  {
   "cell_type": "code",
   "execution_count": null,
   "metadata": {},
   "outputs": [],
   "source": [
    "X = np.array([1, 2, 3])\n",
    "Y = np.array([3, 4, 5])\n",
    "\n",
    "X@Y == X.dot(Y)"
   ]
  },
  {
   "cell_type": "markdown",
   "metadata": {},
   "source": [
    "## `geopandas`"
   ]
  },
  {
   "cell_type": "code",
   "execution_count": null,
   "metadata": {},
   "outputs": [],
   "source": [
    "#!pip install geopandas"
   ]
  },
  {
   "cell_type": "code",
   "execution_count": null,
   "metadata": {},
   "outputs": [],
   "source": [
    "import geopandas"
   ]
  },
  {
   "cell_type": "code",
   "execution_count": null,
   "metadata": {},
   "outputs": [],
   "source": [
    "geopandas."
   ]
  },
  {
   "cell_type": "markdown",
   "metadata": {},
   "source": [
    "## Bias-Variance Decomposition\n",
    "\n",
    "**E**$[(\\gamma - M(z))^2] = (M(z)-$**E**$[M(z)])^2 + Var(M(z)) + Var(\\epsilon)$"
   ]
  },
  {
   "cell_type": "markdown",
   "metadata": {},
   "source": [
    "## `DictVectorizer()`"
   ]
  },
  {
   "cell_type": "code",
   "execution_count": null,
   "metadata": {},
   "outputs": [],
   "source": [
    "import seaborn as sns\n",
    "\n",
    "sns.get_dataset_names()\n",
    "\n",
    "diamonds = sns.load_dataset('diamonds')\n",
    "\n",
    "diamonds.columns\n",
    "\n",
    "diamonds.dtypes"
   ]
  },
  {
   "cell_type": "code",
   "execution_count": null,
   "metadata": {},
   "outputs": [],
   "source": [
    "from sklearn.feature_extraction import DictVectorizer\n",
    "\n",
    "DictVectorizer(diamonds['cut'].to_dict())"
   ]
  },
  {
   "cell_type": "markdown",
   "metadata": {},
   "source": [
    "## Permutation Test"
   ]
  },
  {
   "cell_type": "code",
   "execution_count": null,
   "metadata": {},
   "outputs": [],
   "source": [
    "sns.barplot(data=diamonds, x='clarity', y='price');"
   ]
  },
  {
   "cell_type": "code",
   "execution_count": null,
   "metadata": {},
   "outputs": [],
   "source": [
    "vvs1_mean = diamonds[diamonds['clarity'] == 'VVS1']['price'].mean()\n",
    "\n",
    "si2_mean = diamonds[diamonds['clarity'] == 'SI2']['price'].mean()"
   ]
  },
  {
   "cell_type": "code",
   "execution_count": null,
   "metadata": {},
   "outputs": [],
   "source": [
    "# From the _Principles and Techniques of Data Science_ Sect. 18.1\n",
    "\n",
    "def shuffle(series):\n",
    "    '''\n",
    "    Shuffles a series and resets index to preserve shuffle when adding series\n",
    "    back to DataFrame.\n",
    "    '''\n",
    "    return series.sample(frac=1, replace=False).reset_index(drop=True)"
   ]
  },
  {
   "cell_type": "code",
   "execution_count": null,
   "metadata": {},
   "outputs": [],
   "source": [
    "diffs = np.array([])\n",
    "\n",
    "iterations = 1000\n",
    "for _ in range(iterations):\n",
    "    diamonds['Shuffled'] = shuffle(diamonds['price'])\n",
    "    diff = diamonds[diamonds['clarity'] == 'SI2']['Shuffled'].mean() -\\\n",
    "    diamonds[diamonds['clarity'] == 'VVS1']['Shuffled'].mean()\n",
    "    \n",
    "    diffs = np.append(diffs, diff)"
   ]
  },
  {
   "cell_type": "code",
   "execution_count": null,
   "metadata": {},
   "outputs": [],
   "source": [
    "p = np.count_nonzero(diffs >= si2_mean - vvs1_mean) / iterations\n",
    "p"
   ]
  },
  {
   "cell_type": "markdown",
   "metadata": {},
   "source": [
    "## t Distribution Approaches Normal"
   ]
  },
  {
   "cell_type": "code",
   "execution_count": 4,
   "metadata": {},
   "outputs": [
    {
     "data": {
      "image/png": "[encoded data removed]",
      "text/plain": [
       "<Figure size 720x1440 with 7 Axes>"
      ]
     },
     "metadata": {
      "needs_background": "light"
     },
     "output_type": "display_data"
    }
   ],
   "source": [
    "from math import gamma\n",
    "\n",
    "fig, ax = plt.subplots(7, figsize=(10, 20))\n",
    "\n",
    "X = np.linspace(-10, 10, 201)\n",
    "nus = np.arange(2, 9)\n",
    "y_norm = 1 / np.sqrt(2*np.pi) * np.exp(-0.5 * X**2)\n",
    "\n",
    "for j in range(7):\n",
    "    y = gamma((nus[j]+1) / 2) / (np.sqrt(np.pi*nus[j]) * gamma(nus[j] / 2)) *\\\n",
    "(1 + X**2/nus[j])**((-nus[j]+1) / 2)\n",
    "    ax[j].plot(X, y, label='t')\n",
    "    ax[j].plot(X, y_norm, label='normal')\n",
    "    ax[j].legend();"
   ]
  },
  {
   "cell_type": "code",
   "execution_count": 135,
   "metadata": {},
   "outputs": [
    {
     "data": {
      "text/plain": [
       "array([1.8 , 0.8 , 0.4 , 0.35, 0.1 ])"
      ]
     },
     "execution_count": 135,
     "metadata": {},
     "output_type": "execute_result"
    }
   ],
   "source": [
    "import numpy as np\n",
    "from sklearn import metrics\n",
    "y = np.array([1, 1, 2, 2])\n",
    "scores = np.array([0.1, 0.4, 0.35, 0.8])\n",
    "fpr, tpr, thresholds = metrics.roc_curve(y, scores, pos_label=2)\n",
    "fpr\n",
    "\n",
    "tpr\n",
    "\n",
    "thresholds"
   ]
  },
  {
   "cell_type": "code",
   "execution_count": 136,
   "metadata": {},
   "outputs": [
    {
     "data": {
      "application/javascript": [
       "/* Put everything inside the global mpl namespace */\n",
       "/* global mpl */\n",
       "window.mpl = {};\n",
       "\n",
       "mpl.get_websocket_type = function () {\n",
       "    if (typeof WebSocket !== 'undefined') {\n",
       "        return WebSocket;\n",
       "    } else if (typeof MozWebSocket !== 'undefined') {\n",
       "        return MozWebSocket;\n",
       "    } else {\n",
       "        alert(\n",
       "            'Your browser does not have WebSocket support. ' +\n",
       "                'Please try Chrome, Safari or Firefox ≥ 6. ' +\n",
       "                'Firefox 4 and 5 are also supported but you ' +\n",
       "                'have to enable WebSockets in about:config.'\n",
       "        );\n",
       "    }\n",
       "};\n",
       "\n",
       "mpl.figure = function (figure_id, websocket, ondownload, parent_element) {\n",
       "    this.id = figure_id;\n",
       "\n",
       "    this.ws = websocket;\n",
       "\n",
       "    this.supports_binary = this.ws.binaryType !== undefined;\n",
       "\n",
       "    if (!this.supports_binary) {\n",
       "        var warnings = document.getElementById('mpl-warnings');\n",
       "        if (warnings) {\n",
       "            warnings.style.display = 'block';\n",
       "            warnings.textContent =\n",
       "                'This browser does not support binary websocket messages. ' +\n",
       "                'Performance may be slow.';\n",
       "        }\n",
       "    }\n",
       "\n",
       "    this.imageObj = new Image();\n",
       "\n",
       "    this.context = undefined;\n",
       "    this.message = undefined;\n",
       "    this.canvas = undefined;\n",
       "    this.rubberband_canvas = undefined;\n",
       "    this.rubberband_context = undefined;\n",
       "    this.format_dropdown = undefined;\n",
       "\n",
       "    this.image_mode = 'full';\n",
       "\n",
       "    this.root = document.createElement('div');\n",
       "    this.root.setAttribute('style', 'display: inline-block');\n",
       "    this._root_extra_style(this.root);\n",
       "\n",
       "    parent_element.appendChild(this.root);\n",
       "\n",
       "    this._init_header(this);\n",
       "    this._init_canvas(this);\n",
       "    this._init_toolbar(this);\n",
       "\n",
       "    var fig = this;\n",
       "\n",
       "    this.waiting = false;\n",
       "\n",
       "    this.ws.onopen = function () {\n",
       "        fig.send_message('supports_binary', { value: fig.supports_binary });\n",
       "        fig.send_message('send_image_mode', {});\n",
       "        if (mpl.ratio !== 1) {\n",
       "            fig.send_message('set_dpi_ratio', { dpi_ratio: mpl.ratio });\n",
       "        }\n",
       "        fig.send_message('refresh', {});\n",
       "    };\n",
       "\n",
       "    this.imageObj.onload = function () {\n",
       "        if (fig.image_mode === 'full') {\n",
       "            // Full images could contain transparency (where diff images\n",
       "            // almost always do), so we need to clear the canvas so that\n",
       "            // there is no ghosting.\n",
       "            fig.context.clearRect(0, 0, fig.canvas.width, fig.canvas.height);\n",
       "        }\n",
       "        fig.context.drawImage(fig.imageObj, 0, 0);\n",
       "    };\n",
       "\n",
       "    this.imageObj.onunload = function () {\n",
       "        fig.ws.close();\n",
       "    };\n",
       "\n",
       "    this.ws.onmessage = this._make_on_message_function(this);\n",
       "\n",
       "    this.ondownload = ondownload;\n",
       "};\n",
       "\n",
       "mpl.figure.prototype._init_header = function () {\n",
       "    var titlebar = document.createElement('div');\n",
       "    titlebar.classList =\n",
       "        'ui-dialog-titlebar ui-widget-header ui-corner-all ui-helper-clearfix';\n",
       "    var titletext = document.createElement('div');\n",
       "    titletext.classList = 'ui-dialog-title';\n",
       "    titletext.setAttribute(\n",
       "        'style',\n",
       "        'width: 100%; text-align: center; padding: 3px;'\n",
       "    );\n",
       "    titlebar.appendChild(titletext);\n",
       "    this.root.appendChild(titlebar);\n",
       "    this.header = titletext;\n",
       "};\n",
       "\n",
       "mpl.figure.prototype._canvas_extra_style = function (_canvas_div) {};\n",
       "\n",
       "mpl.figure.prototype._root_extra_style = function (_canvas_div) {};\n",
       "\n",
       "mpl.figure.prototype._init_canvas = function () {\n",
       "    var fig = this;\n",
       "\n",
       "    var canvas_div = (this.canvas_div = document.createElement('div'));\n",
       "    canvas_div.setAttribute(\n",
       "        'style',\n",
       "        'border: 1px solid #ddd;' +\n",
       "            'box-sizing: content-box;' +\n",
       "            'clear: both;' +\n",
       "            'min-height: 1px;' +\n",
       "            'min-width: 1px;' +\n",
       "            'outline: 0;' +\n",
       "            'overflow: hidden;' +\n",
       "            'position: relative;' +\n",
       "            'resize: both;'\n",
       "    );\n",
       "\n",
       "    function on_keyboard_event_closure(name) {\n",
       "        return function (event) {\n",
       "            return fig.key_event(event, name);\n",
       "        };\n",
       "    }\n",
       "\n",
       "    canvas_div.addEventListener(\n",
       "        'keydown',\n",
       "        on_keyboard_event_closure('key_press')\n",
       "    );\n",
       "    canvas_div.addEventListener(\n",
       "        'keyup',\n",
       "        on_keyboard_event_closure('key_release')\n",
       "    );\n",
       "\n",
       "    this._canvas_extra_style(canvas_div);\n",
       "    this.root.appendChild(canvas_div);\n",
       "\n",
       "    var canvas = (this.canvas = document.createElement('canvas'));\n",
       "    canvas.classList.add('mpl-canvas');\n",
       "    canvas.setAttribute('style', 'box-sizing: content-box;');\n",
       "\n",
       "    this.context = canvas.getContext('2d');\n",
       "\n",
       "    var backingStore =\n",
       "        this.context.backingStorePixelRatio ||\n",
       "        this.context.webkitBackingStorePixelRatio ||\n",
       "        this.context.mozBackingStorePixelRatio ||\n",
       "        this.context.msBackingStorePixelRatio ||\n",
       "        this.context.oBackingStorePixelRatio ||\n",
       "        this.context.backingStorePixelRatio ||\n",
       "        1;\n",
       "\n",
       "    mpl.ratio = (window.devicePixelRatio || 1) / backingStore;\n",
       "\n",
       "    var rubberband_canvas = (this.rubberband_canvas = document.createElement(\n",
       "        'canvas'\n",
       "    ));\n",
       "    rubberband_canvas.setAttribute(\n",
       "        'style',\n",
       "        'box-sizing: content-box; position: absolute; left: 0; top: 0; z-index: 1;'\n",
       "    );\n",
       "\n",
       "    var resizeObserver = new ResizeObserver(function (entries) {\n",
       "        var nentries = entries.length;\n",
       "        for (var i = 0; i < nentries; i++) {\n",
       "            var entry = entries[i];\n",
       "            var width, height;\n",
       "            if (entry.contentBoxSize) {\n",
       "                if (entry.contentBoxSize instanceof Array) {\n",
       "                    // Chrome 84 implements new version of spec.\n",
       "                    width = entry.contentBoxSize[0].inlineSize;\n",
       "                    height = entry.contentBoxSize[0].blockSize;\n",
       "                } else {\n",
       "                    // Firefox implements old version of spec.\n",
       "                    width = entry.contentBoxSize.inlineSize;\n",
       "                    height = entry.contentBoxSize.blockSize;\n",
       "                }\n",
       "            } else {\n",
       "                // Chrome <84 implements even older version of spec.\n",
       "                width = entry.contentRect.width;\n",
       "                height = entry.contentRect.height;\n",
       "            }\n",
       "\n",
       "            // Keep the size of the canvas and rubber band canvas in sync with\n",
       "            // the canvas container.\n",
       "            if (entry.devicePixelContentBoxSize) {\n",
       "                // Chrome 84 implements new version of spec.\n",
       "                canvas.setAttribute(\n",
       "                    'width',\n",
       "                    entry.devicePixelContentBoxSize[0].inlineSize\n",
       "                );\n",
       "                canvas.setAttribute(\n",
       "                    'height',\n",
       "                    entry.devicePixelContentBoxSize[0].blockSize\n",
       "                );\n",
       "            } else {\n",
       "                canvas.setAttribute('width', width * mpl.ratio);\n",
       "                canvas.setAttribute('height', height * mpl.ratio);\n",
       "            }\n",
       "            canvas.setAttribute(\n",
       "                'style',\n",
       "                'width: ' + width + 'px; height: ' + height + 'px;'\n",
       "            );\n",
       "\n",
       "            rubberband_canvas.setAttribute('width', width);\n",
       "            rubberband_canvas.setAttribute('height', height);\n",
       "\n",
       "            // And update the size in Python. We ignore the initial 0/0 size\n",
       "            // that occurs as the element is placed into the DOM, which should\n",
       "            // otherwise not happen due to the minimum size styling.\n",
       "            if (width != 0 && height != 0) {\n",
       "                fig.request_resize(width, height);\n",
       "            }\n",
       "        }\n",
       "    });\n",
       "    resizeObserver.observe(canvas_div);\n",
       "\n",
       "    function on_mouse_event_closure(name) {\n",
       "        return function (event) {\n",
       "            return fig.mouse_event(event, name);\n",
       "        };\n",
       "    }\n",
       "\n",
       "    rubberband_canvas.addEventListener(\n",
       "        'mousedown',\n",
       "        on_mouse_event_closure('button_press')\n",
       "    );\n",
       "    rubberband_canvas.addEventListener(\n",
       "        'mouseup',\n",
       "        on_mouse_event_closure('button_release')\n",
       "    );\n",
       "    // Throttle sequential mouse events to 1 every 20ms.\n",
       "    rubberband_canvas.addEventListener(\n",
       "        'mousemove',\n",
       "        on_mouse_event_closure('motion_notify')\n",
       "    );\n",
       "\n",
       "    rubberband_canvas.addEventListener(\n",
       "        'mouseenter',\n",
       "        on_mouse_event_closure('figure_enter')\n",
       "    );\n",
       "    rubberband_canvas.addEventListener(\n",
       "        'mouseleave',\n",
       "        on_mouse_event_closure('figure_leave')\n",
       "    );\n",
       "\n",
       "    canvas_div.addEventListener('wheel', function (event) {\n",
       "        if (event.deltaY < 0) {\n",
       "            event.step = 1;\n",
       "        } else {\n",
       "            event.step = -1;\n",
       "        }\n",
       "        on_mouse_event_closure('scroll')(event);\n",
       "    });\n",
       "\n",
       "    canvas_div.appendChild(canvas);\n",
       "    canvas_div.appendChild(rubberband_canvas);\n",
       "\n",
       "    this.rubberband_context = rubberband_canvas.getContext('2d');\n",
       "    this.rubberband_context.strokeStyle = '#000000';\n",
       "\n",
       "    this._resize_canvas = function (width, height, forward) {\n",
       "        if (forward) {\n",
       "            canvas_div.style.width = width + 'px';\n",
       "            canvas_div.style.height = height + 'px';\n",
       "        }\n",
       "    };\n",
       "\n",
       "    // Disable right mouse context menu.\n",
       "    this.rubberband_canvas.addEventListener('contextmenu', function (_e) {\n",
       "        event.preventDefault();\n",
       "        return false;\n",
       "    });\n",
       "\n",
       "    function set_focus() {\n",
       "        canvas.focus();\n",
       "        canvas_div.focus();\n",
       "    }\n",
       "\n",
       "    window.setTimeout(set_focus, 100);\n",
       "};\n",
       "\n",
       "mpl.figure.prototype._init_toolbar = function () {\n",
       "    var fig = this;\n",
       "\n",
       "    var toolbar = document.createElement('div');\n",
       "    toolbar.classList = 'mpl-toolbar';\n",
       "    this.root.appendChild(toolbar);\n",
       "\n",
       "    function on_click_closure(name) {\n",
       "        return function (_event) {\n",
       "            return fig.toolbar_button_onclick(name);\n",
       "        };\n",
       "    }\n",
       "\n",
       "    function on_mouseover_closure(tooltip) {\n",
       "        return function (event) {\n",
       "            if (!event.currentTarget.disabled) {\n",
       "                return fig.toolbar_button_onmouseover(tooltip);\n",
       "            }\n",
       "        };\n",
       "    }\n",
       "\n",
       "    fig.buttons = {};\n",
       "    var buttonGroup = document.createElement('div');\n",
       "    buttonGroup.classList = 'mpl-button-group';\n",
       "    for (var toolbar_ind in mpl.toolbar_items) {\n",
       "        var name = mpl.toolbar_items[toolbar_ind][0];\n",
       "        var tooltip = mpl.toolbar_items[toolbar_ind][1];\n",
       "        var image = mpl.toolbar_items[toolbar_ind][2];\n",
       "        var method_name = mpl.toolbar_items[toolbar_ind][3];\n",
       "\n",
       "        if (!name) {\n",
       "            /* Instead of a spacer, we start a new button group. */\n",
       "            if (buttonGroup.hasChildNodes()) {\n",
       "                toolbar.appendChild(buttonGroup);\n",
       "            }\n",
       "            buttonGroup = document.createElement('div');\n",
       "            buttonGroup.classList = 'mpl-button-group';\n",
       "            continue;\n",
       "        }\n",
       "\n",
       "        var button = (fig.buttons[name] = document.createElement('button'));\n",
       "        button.classList = 'mpl-widget';\n",
       "        button.setAttribute('role', 'button');\n",
       "        button.setAttribute('aria-disabled', 'false');\n",
       "        button.addEventListener('click', on_click_closure(method_name));\n",
       "        button.addEventListener('mouseover', on_mouseover_closure(tooltip));\n",
       "\n",
       "        var icon_img = document.createElement('img');\n",
       "        icon_img.src = '_images/' + image + '.png';\n",
       "        icon_img.srcset = '_images/' + image + '_large.png 2x';\n",
       "        icon_img.alt = tooltip;\n",
       "        button.appendChild(icon_img);\n",
       "\n",
       "        buttonGroup.appendChild(button);\n",
       "    }\n",
       "\n",
       "    if (buttonGroup.hasChildNodes()) {\n",
       "        toolbar.appendChild(buttonGroup);\n",
       "    }\n",
       "\n",
       "    var fmt_picker = document.createElement('select');\n",
       "    fmt_picker.classList = 'mpl-widget';\n",
       "    toolbar.appendChild(fmt_picker);\n",
       "    this.format_dropdown = fmt_picker;\n",
       "\n",
       "    for (var ind in mpl.extensions) {\n",
       "        var fmt = mpl.extensions[ind];\n",
       "        var option = document.createElement('option');\n",
       "        option.selected = fmt === mpl.default_extension;\n",
       "        option.innerHTML = fmt;\n",
       "        fmt_picker.appendChild(option);\n",
       "    }\n",
       "\n",
       "    var status_bar = document.createElement('span');\n",
       "    status_bar.classList = 'mpl-message';\n",
       "    toolbar.appendChild(status_bar);\n",
       "    this.message = status_bar;\n",
       "};\n",
       "\n",
       "mpl.figure.prototype.request_resize = function (x_pixels, y_pixels) {\n",
       "    // Request matplotlib to resize the figure. Matplotlib will then trigger a resize in the client,\n",
       "    // which will in turn request a refresh of the image.\n",
       "    this.send_message('resize', { width: x_pixels, height: y_pixels });\n",
       "};\n",
       "\n",
       "mpl.figure.prototype.send_message = function (type, properties) {\n",
       "    properties['type'] = type;\n",
       "    properties['figure_id'] = this.id;\n",
       "    this.ws.send(JSON.stringify(properties));\n",
       "};\n",
       "\n",
       "mpl.figure.prototype.send_draw_message = function () {\n",
       "    if (!this.waiting) {\n",
       "        this.waiting = true;\n",
       "        this.ws.send(JSON.stringify({ type: 'draw', figure_id: this.id }));\n",
       "    }\n",
       "};\n",
       "\n",
       "mpl.figure.prototype.handle_save = function (fig, _msg) {\n",
       "    var format_dropdown = fig.format_dropdown;\n",
       "    var format = format_dropdown.options[format_dropdown.selectedIndex].value;\n",
       "    fig.ondownload(fig, format);\n",
       "};\n",
       "\n",
       "mpl.figure.prototype.handle_resize = function (fig, msg) {\n",
       "    var size = msg['size'];\n",
       "    if (size[0] !== fig.canvas.width || size[1] !== fig.canvas.height) {\n",
       "        fig._resize_canvas(size[0], size[1], msg['forward']);\n",
       "        fig.send_message('refresh', {});\n",
       "    }\n",
       "};\n",
       "\n",
       "mpl.figure.prototype.handle_rubberband = function (fig, msg) {\n",
       "    var x0 = msg['x0'] / mpl.ratio;\n",
       "    var y0 = (fig.canvas.height - msg['y0']) / mpl.ratio;\n",
       "    var x1 = msg['x1'] / mpl.ratio;\n",
       "    var y1 = (fig.canvas.height - msg['y1']) / mpl.ratio;\n",
       "    x0 = Math.floor(x0) + 0.5;\n",
       "    y0 = Math.floor(y0) + 0.5;\n",
       "    x1 = Math.floor(x1) + 0.5;\n",
       "    y1 = Math.floor(y1) + 0.5;\n",
       "    var min_x = Math.min(x0, x1);\n",
       "    var min_y = Math.min(y0, y1);\n",
       "    var width = Math.abs(x1 - x0);\n",
       "    var height = Math.abs(y1 - y0);\n",
       "\n",
       "    fig.rubberband_context.clearRect(\n",
       "        0,\n",
       "        0,\n",
       "        fig.canvas.width / mpl.ratio,\n",
       "        fig.canvas.height / mpl.ratio\n",
       "    );\n",
       "\n",
       "    fig.rubberband_context.strokeRect(min_x, min_y, width, height);\n",
       "};\n",
       "\n",
       "mpl.figure.prototype.handle_figure_label = function (fig, msg) {\n",
       "    // Updates the figure title.\n",
       "    fig.header.textContent = msg['label'];\n",
       "};\n",
       "\n",
       "mpl.figure.prototype.handle_cursor = function (fig, msg) {\n",
       "    var cursor = msg['cursor'];\n",
       "    switch (cursor) {\n",
       "        case 0:\n",
       "            cursor = 'pointer';\n",
       "            break;\n",
       "        case 1:\n",
       "            cursor = 'default';\n",
       "            break;\n",
       "        case 2:\n",
       "            cursor = 'crosshair';\n",
       "            break;\n",
       "        case 3:\n",
       "            cursor = 'move';\n",
       "            break;\n",
       "    }\n",
       "    fig.rubberband_canvas.style.cursor = cursor;\n",
       "};\n",
       "\n",
       "mpl.figure.prototype.handle_message = function (fig, msg) {\n",
       "    fig.message.textContent = msg['message'];\n",
       "};\n",
       "\n",
       "mpl.figure.prototype.handle_draw = function (fig, _msg) {\n",
       "    // Request the server to send over a new figure.\n",
       "    fig.send_draw_message();\n",
       "};\n",
       "\n",
       "mpl.figure.prototype.handle_image_mode = function (fig, msg) {\n",
       "    fig.image_mode = msg['mode'];\n",
       "};\n",
       "\n",
       "mpl.figure.prototype.handle_history_buttons = function (fig, msg) {\n",
       "    for (var key in msg) {\n",
       "        if (!(key in fig.buttons)) {\n",
       "            continue;\n",
       "        }\n",
       "        fig.buttons[key].disabled = !msg[key];\n",
       "        fig.buttons[key].setAttribute('aria-disabled', !msg[key]);\n",
       "    }\n",
       "};\n",
       "\n",
       "mpl.figure.prototype.handle_navigate_mode = function (fig, msg) {\n",
       "    if (msg['mode'] === 'PAN') {\n",
       "        fig.buttons['Pan'].classList.add('active');\n",
       "        fig.buttons['Zoom'].classList.remove('active');\n",
       "    } else if (msg['mode'] === 'ZOOM') {\n",
       "        fig.buttons['Pan'].classList.remove('active');\n",
       "        fig.buttons['Zoom'].classList.add('active');\n",
       "    } else {\n",
       "        fig.buttons['Pan'].classList.remove('active');\n",
       "        fig.buttons['Zoom'].classList.remove('active');\n",
       "    }\n",
       "};\n",
       "\n",
       "mpl.figure.prototype.updated_canvas_event = function () {\n",
       "    // Called whenever the canvas gets updated.\n",
       "    this.send_message('ack', {});\n",
       "};\n",
       "\n",
       "// A function to construct a web socket function for onmessage handling.\n",
       "// Called in the figure constructor.\n",
       "mpl.figure.prototype._make_on_message_function = function (fig) {\n",
       "    return function socket_on_message(evt) {\n",
       "        if (evt.data instanceof Blob) {\n",
       "            /* FIXME: We get \"Resource interpreted as Image but\n",
       "             * transferred with MIME type text/plain:\" errors on\n",
       "             * Chrome.  But how to set the MIME type?  It doesn't seem\n",
       "             * to be part of the websocket stream */\n",
       "            evt.data.type = 'image/png';\n",
       "\n",
       "            /* Free the memory for the previous frames */\n",
       "            if (fig.imageObj.src) {\n",
       "                (window.URL || window.webkitURL).revokeObjectURL(\n",
       "                    fig.imageObj.src\n",
       "                );\n",
       "            }\n",
       "\n",
       "            fig.imageObj.src = (window.URL || window.webkitURL).createObjectURL(\n",
       "                evt.data\n",
       "            );\n",
       "            fig.updated_canvas_event();\n",
       "            fig.waiting = false;\n",
       "            return;\n",
       "        } else if (\n",
       "            typeof evt.data === 'string' &&\n",
       "            evt.data.slice(0, 21) === 'data:image/png;base64'\n",
       "        ) {\n",
       "            fig.imageObj.src = evt.data;\n",
       "            fig.updated_canvas_event();\n",
       "            fig.waiting = false;\n",
       "            return;\n",
       "        }\n",
       "\n",
       "        var msg = JSON.parse(evt.data);\n",
       "        var msg_type = msg['type'];\n",
       "\n",
       "        // Call the  \"handle_{type}\" callback, which takes\n",
       "        // the figure and JSON message as its only arguments.\n",
       "        try {\n",
       "            var callback = fig['handle_' + msg_type];\n",
       "        } catch (e) {\n",
       "            console.log(\n",
       "                \"No handler for the '\" + msg_type + \"' message type: \",\n",
       "                msg\n",
       "            );\n",
       "            return;\n",
       "        }\n",
       "\n",
       "        if (callback) {\n",
       "            try {\n",
       "                // console.log(\"Handling '\" + msg_type + \"' message: \", msg);\n",
       "                callback(fig, msg);\n",
       "            } catch (e) {\n",
       "                console.log(\n",
       "                    \"Exception inside the 'handler_\" + msg_type + \"' callback:\",\n",
       "                    e,\n",
       "                    e.stack,\n",
       "                    msg\n",
       "                );\n",
       "            }\n",
       "        }\n",
       "    };\n",
       "};\n",
       "\n",
       "// from http://stackoverflow.com/questions/1114465/getting-mouse-location-in-canvas\n",
       "mpl.findpos = function (e) {\n",
       "    //this section is from http://www.quirksmode.org/js/events_properties.html\n",
       "    var targ;\n",
       "    if (!e) {\n",
       "        e = window.event;\n",
       "    }\n",
       "    if (e.target) {\n",
       "        targ = e.target;\n",
       "    } else if (e.srcElement) {\n",
       "        targ = e.srcElement;\n",
       "    }\n",
       "    if (targ.nodeType === 3) {\n",
       "        // defeat Safari bug\n",
       "        targ = targ.parentNode;\n",
       "    }\n",
       "\n",
       "    // pageX,Y are the mouse positions relative to the document\n",
       "    var boundingRect = targ.getBoundingClientRect();\n",
       "    var x = e.pageX - (boundingRect.left + document.body.scrollLeft);\n",
       "    var y = e.pageY - (boundingRect.top + document.body.scrollTop);\n",
       "\n",
       "    return { x: x, y: y };\n",
       "};\n",
       "\n",
       "/*\n",
       " * return a copy of an object with only non-object keys\n",
       " * we need this to avoid circular references\n",
       " * http://stackoverflow.com/a/24161582/3208463\n",
       " */\n",
       "function simpleKeys(original) {\n",
       "    return Object.keys(original).reduce(function (obj, key) {\n",
       "        if (typeof original[key] !== 'object') {\n",
       "            obj[key] = original[key];\n",
       "        }\n",
       "        return obj;\n",
       "    }, {});\n",
       "}\n",
       "\n",
       "mpl.figure.prototype.mouse_event = function (event, name) {\n",
       "    var canvas_pos = mpl.findpos(event);\n",
       "\n",
       "    if (name === 'button_press') {\n",
       "        this.canvas.focus();\n",
       "        this.canvas_div.focus();\n",
       "    }\n",
       "\n",
       "    var x = canvas_pos.x * mpl.ratio;\n",
       "    var y = canvas_pos.y * mpl.ratio;\n",
       "\n",
       "    this.send_message(name, {\n",
       "        x: x,\n",
       "        y: y,\n",
       "        button: event.button,\n",
       "        step: event.step,\n",
       "        guiEvent: simpleKeys(event),\n",
       "    });\n",
       "\n",
       "    /* This prevents the web browser from automatically changing to\n",
       "     * the text insertion cursor when the button is pressed.  We want\n",
       "     * to control all of the cursor setting manually through the\n",
       "     * 'cursor' event from matplotlib */\n",
       "    event.preventDefault();\n",
       "    return false;\n",
       "};\n",
       "\n",
       "mpl.figure.prototype._key_event_extra = function (_event, _name) {\n",
       "    // Handle any extra behaviour associated with a key event\n",
       "};\n",
       "\n",
       "mpl.figure.prototype.key_event = function (event, name) {\n",
       "    // Prevent repeat events\n",
       "    if (name === 'key_press') {\n",
       "        if (event.which === this._key) {\n",
       "            return;\n",
       "        } else {\n",
       "            this._key = event.which;\n",
       "        }\n",
       "    }\n",
       "    if (name === 'key_release') {\n",
       "        this._key = null;\n",
       "    }\n",
       "\n",
       "    var value = '';\n",
       "    if (event.ctrlKey && event.which !== 17) {\n",
       "        value += 'ctrl+';\n",
       "    }\n",
       "    if (event.altKey && event.which !== 18) {\n",
       "        value += 'alt+';\n",
       "    }\n",
       "    if (event.shiftKey && event.which !== 16) {\n",
       "        value += 'shift+';\n",
       "    }\n",
       "\n",
       "    value += 'k';\n",
       "    value += event.which.toString();\n",
       "\n",
       "    this._key_event_extra(event, name);\n",
       "\n",
       "    this.send_message(name, { key: value, guiEvent: simpleKeys(event) });\n",
       "    return false;\n",
       "};\n",
       "\n",
       "mpl.figure.prototype.toolbar_button_onclick = function (name) {\n",
       "    if (name === 'download') {\n",
       "        this.handle_save(this, null);\n",
       "    } else {\n",
       "        this.send_message('toolbar_button', { name: name });\n",
       "    }\n",
       "};\n",
       "\n",
       "mpl.figure.prototype.toolbar_button_onmouseover = function (tooltip) {\n",
       "    this.message.textContent = tooltip;\n",
       "};\n",
       "mpl.toolbar_items = [[\"Home\", \"Reset original view\", \"fa fa-home icon-home\", \"home\"], [\"Back\", \"Back to previous view\", \"fa fa-arrow-left icon-arrow-left\", \"back\"], [\"Forward\", \"Forward to next view\", \"fa fa-arrow-right icon-arrow-right\", \"forward\"], [\"\", \"\", \"\", \"\"], [\"Pan\", \"Left button pans, Right button zooms\\nx/y fixes axis, CTRL fixes aspect\", \"fa fa-arrows icon-move\", \"pan\"], [\"Zoom\", \"Zoom to rectangle\\nx/y fixes axis, CTRL fixes aspect\", \"fa fa-square-o icon-check-empty\", \"zoom\"], [\"\", \"\", \"\", \"\"], [\"Download\", \"Download plot\", \"fa fa-floppy-o icon-save\", \"download\"]];\n",
       "\n",
       "mpl.extensions = [\"eps\", \"jpeg\", \"pdf\", \"png\", \"ps\", \"raw\", \"svg\", \"tif\"];\n",
       "\n",
       "mpl.default_extension = \"png\";/* global mpl */\n",
       "\n",
       "var comm_websocket_adapter = function (comm) {\n",
       "    // Create a \"websocket\"-like object which calls the given IPython comm\n",
       "    // object with the appropriate methods. Currently this is a non binary\n",
       "    // socket, so there is still some room for performance tuning.\n",
       "    var ws = {};\n",
       "\n",
       "    ws.close = function () {\n",
       "        comm.close();\n",
       "    };\n",
       "    ws.send = function (m) {\n",
       "        //console.log('sending', m);\n",
       "        comm.send(m);\n",
       "    };\n",
       "    // Register the callback with on_msg.\n",
       "    comm.on_msg(function (msg) {\n",
       "        //console.log('receiving', msg['content']['data'], msg);\n",
       "        // Pass the mpl event to the overridden (by mpl) onmessage function.\n",
       "        ws.onmessage(msg['content']['data']);\n",
       "    });\n",
       "    return ws;\n",
       "};\n",
       "\n",
       "mpl.mpl_figure_comm = function (comm, msg) {\n",
       "    // This is the function which gets called when the mpl process\n",
       "    // starts-up an IPython Comm through the \"matplotlib\" channel.\n",
       "\n",
       "    var id = msg.content.data.id;\n",
       "    // Get hold of the div created by the display call when the Comm\n",
       "    // socket was opened in Python.\n",
       "    var element = document.getElementById(id);\n",
       "    var ws_proxy = comm_websocket_adapter(comm);\n",
       "\n",
       "    function ondownload(figure, _format) {\n",
       "        window.open(figure.canvas.toDataURL());\n",
       "    }\n",
       "\n",
       "    var fig = new mpl.figure(id, ws_proxy, ondownload, element);\n",
       "\n",
       "    // Call onopen now - mpl needs it, as it is assuming we've passed it a real\n",
       "    // web socket which is closed, not our websocket->open comm proxy.\n",
       "    ws_proxy.onopen();\n",
       "\n",
       "    fig.parent_element = element;\n",
       "    fig.cell_info = mpl.find_output_cell(\"<div id='\" + id + \"'></div>\");\n",
       "    if (!fig.cell_info) {\n",
       "        console.error('Failed to find cell for figure', id, fig);\n",
       "        return;\n",
       "    }\n",
       "};\n",
       "\n",
       "mpl.figure.prototype.handle_close = function (fig, msg) {\n",
       "    var width = fig.canvas.width / mpl.ratio;\n",
       "    fig.root.removeEventListener('remove', this._remove_fig_handler);\n",
       "\n",
       "    // Update the output cell to use the data from the current canvas.\n",
       "    fig.push_to_output();\n",
       "    var dataURL = fig.canvas.toDataURL();\n",
       "    // Re-enable the keyboard manager in IPython - without this line, in FF,\n",
       "    // the notebook keyboard shortcuts fail.\n",
       "    IPython.keyboard_manager.enable();\n",
       "    fig.parent_element.innerHTML =\n",
       "        '<img src=\"' + dataURL + '\" width=\"' + width + '\">';\n",
       "    fig.close_ws(fig, msg);\n",
       "};\n",
       "\n",
       "mpl.figure.prototype.close_ws = function (fig, msg) {\n",
       "    fig.send_message('closing', msg);\n",
       "    // fig.ws.close()\n",
       "};\n",
       "\n",
       "mpl.figure.prototype.push_to_output = function (_remove_interactive) {\n",
       "    // Turn the data on the canvas into data in the output cell.\n",
       "    var width = this.canvas.width / mpl.ratio;\n",
       "    var dataURL = this.canvas.toDataURL();\n",
       "    this.cell_info[1]['text/html'] =\n",
       "        '<img src=\"' + dataURL + '\" width=\"' + width + '\">';\n",
       "};\n",
       "\n",
       "mpl.figure.prototype.updated_canvas_event = function () {\n",
       "    // Tell IPython that the notebook contents must change.\n",
       "    IPython.notebook.set_dirty(true);\n",
       "    this.send_message('ack', {});\n",
       "    var fig = this;\n",
       "    // Wait a second, then push the new image to the DOM so\n",
       "    // that it is saved nicely (might be nice to debounce this).\n",
       "    setTimeout(function () {\n",
       "        fig.push_to_output();\n",
       "    }, 1000);\n",
       "};\n",
       "\n",
       "mpl.figure.prototype._init_toolbar = function () {\n",
       "    var fig = this;\n",
       "\n",
       "    var toolbar = document.createElement('div');\n",
       "    toolbar.classList = 'btn-toolbar';\n",
       "    this.root.appendChild(toolbar);\n",
       "\n",
       "    function on_click_closure(name) {\n",
       "        return function (_event) {\n",
       "            return fig.toolbar_button_onclick(name);\n",
       "        };\n",
       "    }\n",
       "\n",
       "    function on_mouseover_closure(tooltip) {\n",
       "        return function (event) {\n",
       "            if (!event.currentTarget.disabled) {\n",
       "                return fig.toolbar_button_onmouseover(tooltip);\n",
       "            }\n",
       "        };\n",
       "    }\n",
       "\n",
       "    fig.buttons = {};\n",
       "    var buttonGroup = document.createElement('div');\n",
       "    buttonGroup.classList = 'btn-group';\n",
       "    var button;\n",
       "    for (var toolbar_ind in mpl.toolbar_items) {\n",
       "        var name = mpl.toolbar_items[toolbar_ind][0];\n",
       "        var tooltip = mpl.toolbar_items[toolbar_ind][1];\n",
       "        var image = mpl.toolbar_items[toolbar_ind][2];\n",
       "        var method_name = mpl.toolbar_items[toolbar_ind][3];\n",
       "\n",
       "        if (!name) {\n",
       "            /* Instead of a spacer, we start a new button group. */\n",
       "            if (buttonGroup.hasChildNodes()) {\n",
       "                toolbar.appendChild(buttonGroup);\n",
       "            }\n",
       "            buttonGroup = document.createElement('div');\n",
       "            buttonGroup.classList = 'btn-group';\n",
       "            continue;\n",
       "        }\n",
       "\n",
       "        button = fig.buttons[name] = document.createElement('button');\n",
       "        button.classList = 'btn btn-default';\n",
       "        button.href = '#';\n",
       "        button.title = name;\n",
       "        button.innerHTML = '<i class=\"fa ' + image + ' fa-lg\"></i>';\n",
       "        button.addEventListener('click', on_click_closure(method_name));\n",
       "        button.addEventListener('mouseover', on_mouseover_closure(tooltip));\n",
       "        buttonGroup.appendChild(button);\n",
       "    }\n",
       "\n",
       "    if (buttonGroup.hasChildNodes()) {\n",
       "        toolbar.appendChild(buttonGroup);\n",
       "    }\n",
       "\n",
       "    // Add the status bar.\n",
       "    var status_bar = document.createElement('span');\n",
       "    status_bar.classList = 'mpl-message pull-right';\n",
       "    toolbar.appendChild(status_bar);\n",
       "    this.message = status_bar;\n",
       "\n",
       "    // Add the close button to the window.\n",
       "    var buttongrp = document.createElement('div');\n",
       "    buttongrp.classList = 'btn-group inline pull-right';\n",
       "    button = document.createElement('button');\n",
       "    button.classList = 'btn btn-mini btn-primary';\n",
       "    button.href = '#';\n",
       "    button.title = 'Stop Interaction';\n",
       "    button.innerHTML = '<i class=\"fa fa-power-off icon-remove icon-large\"></i>';\n",
       "    button.addEventListener('click', function (_evt) {\n",
       "        fig.handle_close(fig, {});\n",
       "    });\n",
       "    button.addEventListener(\n",
       "        'mouseover',\n",
       "        on_mouseover_closure('Stop Interaction')\n",
       "    );\n",
       "    buttongrp.appendChild(button);\n",
       "    var titlebar = this.root.querySelector('.ui-dialog-titlebar');\n",
       "    titlebar.insertBefore(buttongrp, titlebar.firstChild);\n",
       "};\n",
       "\n",
       "mpl.figure.prototype._remove_fig_handler = function () {\n",
       "    this.close_ws(this, {});\n",
       "};\n",
       "\n",
       "mpl.figure.prototype._root_extra_style = function (el) {\n",
       "    el.style.boxSizing = 'content-box'; // override notebook setting of border-box.\n",
       "    el.addEventListener('remove', this._remove_fig_handler);\n",
       "};\n",
       "\n",
       "mpl.figure.prototype._canvas_extra_style = function (el) {\n",
       "    // this is important to make the div 'focusable\n",
       "    el.setAttribute('tabindex', 0);\n",
       "    // reach out to IPython and tell the keyboard manager to turn it's self\n",
       "    // off when our div gets focus\n",
       "\n",
       "    // location in version 3\n",
       "    if (IPython.notebook.keyboard_manager) {\n",
       "        IPython.notebook.keyboard_manager.register_events(el);\n",
       "    } else {\n",
       "        // location in version 2\n",
       "        IPython.keyboard_manager.register_events(el);\n",
       "    }\n",
       "};\n",
       "\n",
       "mpl.figure.prototype._key_event_extra = function (event, _name) {\n",
       "    var manager = IPython.notebook.keyboard_manager;\n",
       "    if (!manager) {\n",
       "        manager = IPython.keyboard_manager;\n",
       "    }\n",
       "\n",
       "    // Check for shift+enter\n",
       "    if (event.shiftKey && event.which === 13) {\n",
       "        this.canvas_div.blur();\n",
       "        // select the cell after this one\n",
       "        var index = IPython.notebook.find_cell_index(this.cell_info[0]);\n",
       "        IPython.notebook.select(index + 1);\n",
       "    }\n",
       "};\n",
       "\n",
       "mpl.figure.prototype.handle_save = function (fig, _msg) {\n",
       "    fig.ondownload(fig, null);\n",
       "};\n",
       "\n",
       "mpl.find_output_cell = function (html_output) {\n",
       "    // Return the cell and output element which can be found *uniquely* in the notebook.\n",
       "    // Note - this is a bit hacky, but it is done because the \"notebook_saving.Notebook\"\n",
       "    // IPython event is triggered only after the cells have been serialised, which for\n",
       "    // our purposes (turning an active figure into a static one), is too late.\n",
       "    var cells = IPython.notebook.get_cells();\n",
       "    var ncells = cells.length;\n",
       "    for (var i = 0; i < ncells; i++) {\n",
       "        var cell = cells[i];\n",
       "        if (cell.cell_type === 'code') {\n",
       "            for (var j = 0; j < cell.output_area.outputs.length; j++) {\n",
       "                var data = cell.output_area.outputs[j];\n",
       "                if (data.data) {\n",
       "                    // IPython >= 3 moved mimebundle to data attribute of output\n",
       "                    data = data.data;\n",
       "                }\n",
       "                if (data['text/html'] === html_output) {\n",
       "                    return [cell, data, j];\n",
       "                }\n",
       "            }\n",
       "        }\n",
       "    }\n",
       "};\n",
       "\n",
       "// Register the function which deals with the matplotlib target/channel.\n",
       "// The kernel may be null if the page has been refreshed.\n",
       "if (IPython.notebook.kernel !== null) {\n",
       "    IPython.notebook.kernel.comm_manager.register_target(\n",
       "        'matplotlib',\n",
       "        mpl.mpl_figure_comm\n",
       "    );\n",
       "}\n"
      ],
      "text/plain": [
       "<IPython.core.display.Javascript object>"
      ]
     },
     "metadata": {},
     "output_type": "display_data"
    },
    {
     "data": {
      "text/html": [
       "<img src=\"data:image/png;base64,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\" width=\"639.9999861283738\">"
      ],
      "text/plain": [
       "<IPython.core.display.HTML object>"
      ]
     },
     "metadata": {},
     "output_type": "display_data"
    },
    {
     "data": {
      "text/plain": [
       "[<matplotlib.lines.Line2D at 0x7fbf98d47cd0>]"
      ]
     },
     "execution_count": 136,
     "metadata": {},
     "output_type": "execute_result"
    }
   ],
   "source": [
    "fig, ax = plt.subplots()\n",
    "\n",
    "ax.plot(fpr, tpr)"
   ]
  },
  {
   "cell_type": "markdown",
   "metadata": {},
   "source": [
    "## LR Coefs with `StandardScaler`"
   ]
  },
  {
   "cell_type": "code",
   "execution_count": 5,
   "metadata": {},
   "outputs": [],
   "source": [
    "from scipy import stats"
   ]
  },
  {
   "cell_type": "code",
   "execution_count": 6,
   "metadata": {},
   "outputs": [],
   "source": [
    "X = stats.norm.rvs(scale=10, size=100).reshape(100, 1)\n",
    "y = 2*X + stats.norm.rvs(scale=0.1)"
   ]
  },
  {
   "cell_type": "code",
   "execution_count": 7,
   "metadata": {},
   "outputs": [],
   "source": [
    "from sklearn.preprocessing import StandardScaler\n",
    "from sklearn.linear_model import LinearRegression"
   ]
  },
  {
   "cell_type": "code",
   "execution_count": 8,
   "metadata": {},
   "outputs": [],
   "source": [
    "lr = LinearRegression().fit(X, y)"
   ]
  },
  {
   "cell_type": "code",
   "execution_count": 9,
   "metadata": {},
   "outputs": [
    {
     "data": {
      "text/plain": [
       "array([[2.]])"
      ]
     },
     "execution_count": 9,
     "metadata": {},
     "output_type": "execute_result"
    }
   ],
   "source": [
    "lr.coef_"
   ]
  },
  {
   "cell_type": "code",
   "execution_count": 10,
   "metadata": {},
   "outputs": [],
   "source": [
    "ss = StandardScaler().fit(X)"
   ]
  },
  {
   "cell_type": "code",
   "execution_count": 11,
   "metadata": {},
   "outputs": [],
   "source": [
    "lr2 = LinearRegression().fit(ss.transform(X), y)"
   ]
  },
  {
   "cell_type": "code",
   "execution_count": 12,
   "metadata": {},
   "outputs": [
    {
     "data": {
      "text/plain": [
       "array([[20.09065776]])"
      ]
     },
     "execution_count": 12,
     "metadata": {},
     "output_type": "execute_result"
    }
   ],
   "source": [
    "lr2.coef_"
   ]
  },
  {
   "cell_type": "code",
   "execution_count": 15,
   "metadata": {},
   "outputs": [],
   "source": [
    "from primes import IsPrime, p_fact"
   ]
  },
  {
   "cell_type": "code",
   "execution_count": 16,
   "metadata": {},
   "outputs": [],
   "source": [
    "def facts_up_to(n):\n",
    "    tot = 0\n",
    "    for j in range(2, n+1):\n",
    "        tot += sum(p_fact(j))\n",
    "    return tot"
   ]
  },
  {
   "cell_type": "code",
   "execution_count": 17,
   "metadata": {},
   "outputs": [
    {
     "data": {
      "text/plain": [
       "6563"
      ]
     },
     "execution_count": 17,
     "metadata": {},
     "output_type": "execute_result"
    }
   ],
   "source": [
    "facts_up_to(2187)"
   ]
  },
  {
   "cell_type": "code",
   "execution_count": 18,
   "metadata": {},
   "outputs": [
    {
     "data": {
      "text/plain": [
       "32"
      ]
     },
     "execution_count": 18,
     "metadata": {},
     "output_type": "execute_result"
    }
   ],
   "source": [
    "n = 2\n",
    "while facts_up_to(n) < 2*n:\n",
    "    n += 1\n",
    "n"
   ]
  },
  {
   "cell_type": "code",
   "execution_count": 19,
   "metadata": {},
   "outputs": [
    {
     "data": {
      "text/plain": [
       "65"
      ]
     },
     "execution_count": 19,
     "metadata": {},
     "output_type": "execute_result"
    }
   ],
   "source": [
    "facts_up_to(32)"
   ]
  },
  {
   "cell_type": "markdown",
   "metadata": {},
   "source": [
    "## Box-Cox"
   ]
  },
  {
   "cell_type": "code",
   "execution_count": null,
   "metadata": {},
   "outputs": [],
   "source": [
    "from scipy import stats"
   ]
  },
  {
   "cell_type": "code",
   "execution_count": null,
   "metadata": {},
   "outputs": [],
   "source": [
    "normal = stats.norm.rvs(loc=100, size=100000)\n",
    "result1 = boxcox(normal)"
   ]
  },
  {
   "cell_type": "code",
   "execution_count": null,
   "metadata": {},
   "outputs": [],
   "source": [
    "result[1]"
   ]
  },
  {
   "cell_type": "code",
   "execution_count": null,
   "metadata": {},
   "outputs": [],
   "source": [
    "lambdas = np.array([])\n",
    "for _ in range(100):\n",
    "    normal = stats.norm.rvs(loc=100, size=100000)\n",
    "    lambdas = np.append(lambdas, boxcox(normal)[1])\n",
    "\n",
    "plt.hist(lambdas);"
   ]
  },
  {
   "cell_type": "code",
   "execution_count": null,
   "metadata": {},
   "outputs": [],
   "source": [
    "expon = stats.expon.rvs(size=100000)\n",
    "result2 = boxcox(expon)"
   ]
  },
  {
   "cell_type": "code",
   "execution_count": null,
   "metadata": {},
   "outputs": [],
   "source": [
    "result2[1]"
   ]
  },
  {
   "cell_type": "code",
   "execution_count": null,
   "metadata": {},
   "outputs": [],
   "source": [
    "lambdas = np.array([])\n",
    "for _ in range(100):\n",
    "    expo = stats.expon.rvs(size=100000)\n",
    "    lambdas = np.append(lambdas, boxcox(normal)[1])\n",
    "\n",
    "plt.hist(lambdas);"
   ]
  },
  {
   "cell_type": "code",
   "execution_count": null,
   "metadata": {},
   "outputs": [],
   "source": [
    "uni = stats.uniform.rvs(size=100000)\n",
    "result3 = boxcox(uni)"
   ]
  },
  {
   "cell_type": "code",
   "execution_count": null,
   "metadata": {},
   "outputs": [],
   "source": [
    "result3[1]"
   ]
  },
  {
   "cell_type": "code",
   "execution_count": null,
   "metadata": {},
   "outputs": [],
   "source": [
    "lambdas = np.array([])\n",
    "for _ in range(100):\n",
    "    uni = stats.uniform.rvs(size=100000)\n",
    "    lambdas = np.append(lambdas, boxcox(normal)[1])\n",
    "\n",
    "plt.hist(lambdas);"
   ]
  },
  {
   "cell_type": "code",
   "execution_count": null,
   "metadata": {},
   "outputs": [],
   "source": [
    "from sklearn.preprocessing import PowerTransformer"
   ]
  },
  {
   "cell_type": "code",
   "execution_count": null,
   "metadata": {},
   "outputs": [],
   "source": [
    "pt = PowerTransformer(method='box-cox').fit(normal.reshape(-1, 1))"
   ]
  },
  {
   "cell_type": "code",
   "execution_count": null,
   "metadata": {},
   "outputs": [],
   "source": [
    "pt.transform(normal.reshape(-1, 1))"
   ]
  },
  {
   "cell_type": "code",
   "execution_count": null,
   "metadata": {},
   "outputs": [],
   "source": [
    "pt.lambdas_"
   ]
  },
  {
   "cell_type": "code",
   "execution_count": null,
   "metadata": {},
   "outputs": [],
   "source": [
    "covid = pd.read_csv('../Downloads/owid-covid-data.csv')"
   ]
  },
  {
   "cell_type": "code",
   "execution_count": null,
   "metadata": {},
   "outputs": [],
   "source": [
    "covid.columns"
   ]
  },
  {
   "cell_type": "code",
   "execution_count": null,
   "metadata": {},
   "outputs": [],
   "source": [
    "covid[covid['location'] == 'United States']"
   ]
  },
  {
   "cell_type": "markdown",
   "metadata": {},
   "source": [
    "## MGLearn (*Introduction to ML with Python*)"
   ]
  },
  {
   "cell_type": "code",
   "execution_count": null,
   "metadata": {},
   "outputs": [],
   "source": [
    "import mglearn\n",
    "from sklearn.datasets import make_blobs\n",
    "from sklearn.svm import LinearSVC\n",
    "\n",
    "X, y = make_blobs(random_state=42)\n",
    "linear_svm = LinearSVC().fit(X, y)\n",
    "mglearn.plots.plot_2d_classification(linear_svm, X, fill=True, alpha=.7)\n",
    "mglearn.discrete_scatter(X[:, 0], X[:, 1], y)\n",
    "line = np.linspace(-15, 15)\n",
    "for coef, intercept, color in zip(linear_svm.coef_, linear_svm.intercept_,\n",
    "                                      mglearn.cm3.colors):\n",
    "    plt.plot(line, -(line * coef[0] + intercept) / coef[1], c=color)\n",
    "plt.legend(['Class 0', 'Class 1', 'Class 2', 'Line class 0', 'Line class 1',\n",
    "                'Line class 2'], loc=(1.01, 0.3))\n",
    "plt.xlabel(\"Feature 0\")\n",
    "plt.ylabel(\"Feature 1\")"
   ]
  },
  {
   "cell_type": "markdown",
   "metadata": {},
   "source": [
    "## PCA"
   ]
  },
  {
   "cell_type": "code",
   "execution_count": null,
   "metadata": {},
   "outputs": [],
   "source": [
    "from sklearn.datasets import make_classification"
   ]
  },
  {
   "cell_type": "code",
   "execution_count": null,
   "metadata": {},
   "outputs": [],
   "source": [
    "X, y = make_classification(n_features=5)"
   ]
  },
  {
   "cell_type": "code",
   "execution_count": null,
   "metadata": {},
   "outputs": [],
   "source": [
    "from sklearn.decomposition import PCA"
   ]
  },
  {
   "cell_type": "code",
   "execution_count": null,
   "metadata": {},
   "outputs": [],
   "source": [
    "pca = PCA(n_components=2).fit(X, y).components_"
   ]
  },
  {
   "cell_type": "markdown",
   "metadata": {},
   "source": [
    "### `numpy.newaxis`"
   ]
  },
  {
   "cell_type": "code",
   "execution_count": null,
   "metadata": {},
   "outputs": [],
   "source": [
    "np.hstack([X, np.ones(len(X))[:, np.newaxis]])"
   ]
  },
  {
   "cell_type": "code",
   "execution_count": null,
   "metadata": {},
   "outputs": [],
   "source": [
    "newX = np.hstack([X, np.array([pca[0].dot(X[j, :]) for j in range(len(X))])[:, np.newaxis],\n",
    "              np.array([pca[1].dot(X[j, :]) for j in range(len(X))])[:, np.newaxis]])"
   ]
  },
  {
   "cell_type": "code",
   "execution_count": null,
   "metadata": {},
   "outputs": [],
   "source": [
    "plt.scatter(newX[:, -1], newX[:, -2]);"
   ]
  },
  {
   "cell_type": "code",
   "execution_count": null,
   "metadata": {},
   "outputs": [],
   "source": [
    "np.corrcoef(newX)"
   ]
  },
  {
   "cell_type": "markdown",
   "metadata": {},
   "source": [
    "## Function Nesting"
   ]
  },
  {
   "cell_type": "code",
   "execution_count": null,
   "metadata": {},
   "outputs": [],
   "source": [
    "def add(x, y):\n",
    "    return x + y"
   ]
  },
  {
   "cell_type": "code",
   "execution_count": null,
   "metadata": {},
   "outputs": [],
   "source": [
    "add(3, 2)"
   ]
  },
  {
   "cell_type": "code",
   "execution_count": null,
   "metadata": {},
   "outputs": [],
   "source": [
    "def mult(x, y):\n",
    "    out = 0\n",
    "    for _ in range(y):\n",
    "        out = add(out, x)\n",
    "    return out"
   ]
  },
  {
   "cell_type": "code",
   "execution_count": null,
   "metadata": {},
   "outputs": [],
   "source": [
    "mult(3, 2)"
   ]
  },
  {
   "cell_type": "code",
   "execution_count": null,
   "metadata": {},
   "outputs": [],
   "source": [
    "def power(x, y):\n",
    "    out = 1\n",
    "    for _ in range(y):\n",
    "        out = mult(out, x)\n",
    "    return out"
   ]
  },
  {
   "cell_type": "code",
   "execution_count": null,
   "metadata": {},
   "outputs": [],
   "source": [
    "power(3, 2)"
   ]
  },
  {
   "cell_type": "code",
   "execution_count": null,
   "metadata": {},
   "outputs": [],
   "source": [
    "def bigdot(x, y):\n",
    "    out = x\n",
    "    for _ in range(y - 1):\n",
    "        out = power(out, x)\n",
    "    return out"
   ]
  },
  {
   "cell_type": "code",
   "execution_count": null,
   "metadata": {},
   "outputs": [],
   "source": [
    "bigdot(3, 2)"
   ]
  },
  {
   "cell_type": "code",
   "execution_count": null,
   "metadata": {},
   "outputs": [],
   "source": [
    "def star(x, y):\n",
    "    out = x\n",
    "    for _ in range(y - 1):\n",
    "        out = bigdot(out, x)\n",
    "    return out"
   ]
  },
  {
   "cell_type": "code",
   "execution_count": null,
   "metadata": {},
   "outputs": [],
   "source": [
    "star(3, 2)"
   ]
  },
  {
   "cell_type": "markdown",
   "metadata": {},
   "source": [
    "## Merge Sort\n",
    "\n",
    "From [geeksforgeeks](https://www.geeksforgeeks.org/merge-sort/)"
   ]
  },
  {
   "cell_type": "code",
   "execution_count": null,
   "metadata": {},
   "outputs": [],
   "source": [
    "def mergeSort(arr): \n",
    "    if len(arr) > 1: \n",
    "        mid = len(arr) // 2 # Finding the mid of the array \n",
    "        L = arr[:mid] # Dividing the array elements  \n",
    "        R = arr[mid:] # into 2 halves \n",
    "  \n",
    "        mergeSort(L) # Sorting the first half \n",
    "        mergeSort(R) # Sorting the second half \n",
    "  \n",
    "        i = j = k = 0\n",
    "          \n",
    "        # Copy data to temp arrays L[] and R[] \n",
    "        while i < len(L) and j < len(R): \n",
    "            if L[i] < R[j]: \n",
    "                arr[k] = L[i] \n",
    "                i += 1\n",
    "            else: \n",
    "                arr[k] = R[j] \n",
    "                j += 1\n",
    "            k += 1\n",
    "          \n",
    "        # Checking if any element was left \n",
    "        while i < len(L): \n",
    "            arr[k] = L[i] \n",
    "            i += 1\n",
    "            k += 1\n",
    "          \n",
    "        while j < len(R): \n",
    "            arr[k] = R[j] \n",
    "            j += 1\n",
    "            k += 1\n",
    "    \n",
    "    return arr"
   ]
  },
  {
   "cell_type": "code",
   "execution_count": null,
   "metadata": {},
   "outputs": [],
   "source": [
    "mergeSort([1, 3, 2, 25, 14, 375, 6])"
   ]
  },
  {
   "cell_type": "markdown",
   "metadata": {},
   "source": [
    "## Affinity Propagation"
   ]
  },
  {
   "cell_type": "code",
   "execution_count": null,
   "metadata": {},
   "outputs": [],
   "source": [
    "data = np.array([1, 2, 4, 6])\n",
    "from sklearn.cluster import AffinityPropagation"
   ]
  },
  {
   "cell_type": "code",
   "execution_count": null,
   "metadata": {},
   "outputs": [],
   "source": [
    "aff = AffinityPropagation().fit(data[:, np.newaxis])"
   ]
  },
  {
   "cell_type": "code",
   "execution_count": null,
   "metadata": {},
   "outputs": [],
   "source": [
    "aff.predict(data[:, np.newaxis])"
   ]
  },
  {
   "cell_type": "markdown",
   "metadata": {},
   "source": [
    "## Mihir's Clothing Project"
   ]
  },
  {
   "cell_type": "code",
   "execution_count": null,
   "metadata": {},
   "outputs": [],
   "source": [
    "mihir = pd.read_csv('/Users/gdamico/Downloads/Mihir Wardrobe - Sheet1.csv')"
   ]
  },
  {
   "cell_type": "code",
   "execution_count": null,
   "metadata": {},
   "outputs": [],
   "source": [
    "mihir.tail()"
   ]
  },
  {
   "cell_type": "code",
   "execution_count": null,
   "metadata": {},
   "outputs": [],
   "source": [
    "def choose_seven(season):\n",
    "    import numpy as np\n",
    "    season = mihir[mihir[season] == 'Yes']\n",
    "    choices = np.random.choice(season.index, size=7, replace=False)\n",
    "    outfits = season.loc[choices, :]\n",
    "    while len(outfits['Top Color'].value_counts()) < 4:\n",
    "        choices = np.random.choice(season.index, size=7, replace=False)\n",
    "        outfits = season.loc[choices, :]\n",
    "    return outfits"
   ]
  },
  {
   "cell_type": "code",
   "execution_count": null,
   "metadata": {},
   "outputs": [],
   "source": [
    "outfits2 = choose_seven('Spring')"
   ]
  },
  {
   "cell_type": "code",
   "execution_count": null,
   "metadata": {},
   "outputs": [],
   "source": [
    "mihir['Top Color'].value_counts()"
   ]
  },
  {
   "cell_type": "code",
   "execution_count": null,
   "metadata": {},
   "outputs": [],
   "source": [
    "mihir.drop(outfits2.index)"
   ]
  },
  {
   "cell_type": "markdown",
   "metadata": {},
   "source": [
    "## `~`"
   ]
  },
  {
   "cell_type": "code",
   "execution_count": null,
   "metadata": {},
   "outputs": [],
   "source": [
    "~1"
   ]
  },
  {
   "cell_type": "code",
   "execution_count": null,
   "metadata": {},
   "outputs": [],
   "source": [
    "~-1"
   ]
  },
  {
   "cell_type": "code",
   "execution_count": null,
   "metadata": {},
   "outputs": [],
   "source": [
    "import sys\n",
    "import pyperclip\n",
    "\n",
    "intellidesk_link = 'https://flatiron.illumidesk.com/hub/lti/launch?next=%2Fhub%2Fuser-redirect%2Fgit-pull%3Frepo%3Dhttps%253A%252F%252Fgithub.com%252Flearn-co-curriculum%252Fdsc-lab-name%26urlpath%3Dtree%252Fdsc-lab-name%252Findex.ipynb%26branch%3Dmaster'\n",
    "\n",
    "\n",
    "#request input from user\n",
    "sub_string = input('Please provide the Lesson Repo location--->> ').split('/')\n",
    "    \n",
    "final_string = intellidesk_link.replace('dsc-lab-name', sub_string[-1])\n",
    "pyperclip.copy(final_string)"
   ]
  },
  {
   "cell_type": "code",
   "execution_count": null,
   "metadata": {},
   "outputs": [],
   "source": [
    "final_string"
   ]
  },
  {
   "cell_type": "code",
   "execution_count": null,
   "metadata": {},
   "outputs": [],
   "source": []
  }
 ],
 "metadata": {
  "kernelspec": {
   "display_name": "Python 3",
   "language": "python",
   "name": "python3"
  },
  "language_info": {
   "codemirror_mode": {
    "name": "ipython",
    "version": 3
   },
   "file_extension": ".py",
   "mimetype": "text/x-python",
   "name": "python",
   "nbconvert_exporter": "python",
   "pygments_lexer": "ipython3",
   "version": "3.8.5"
  }
 },
 "nbformat": 4,
 "nbformat_minor": 4
}
